{
 "cells": [
  {
   "cell_type": "markdown",
   "metadata": {},
   "source": [
    "![](https://upload.wikimedia.org/wikipedia/commons/8/82/Komoot-logo-type.svg)\n",
    "\n",
    "# Komoot network analysis \n",
    "Questo è il progetto di Riccardo Carissimi per il corso di Social Media Mining @ Unimi.\n",
    "In questo notebook analizzeremo la rete di Komoot (o almeno ci proveremo)."
   ]
  },
  {
   "cell_type": "markdown",
   "metadata": {},
   "source": [
    "# Scraping\n",
    "## 1. Lo scraper"
   ]
  },
  {
   "cell_type": "code",
   "execution_count": 48,
   "metadata": {},
   "outputs": [],
   "source": [
    "from bs4 import BeautifulSoup\n",
    "import time\n",
    "import networkx as nx\n",
    "import pandas as pd\n",
    "import persistqueue\n",
    "import requests"
   ]
  },
  {
   "cell_type": "markdown",
   "metadata": {},
   "source": [
    "Andiamo a definire il primo seed. È un utente in cui sono incappato con un numero accettabile di amici."
   ]
  },
  {
   "cell_type": "code",
   "execution_count": 3,
   "metadata": {},
   "outputs": [],
   "source": [
    "seed_user_id = \"813735907910\""
   ]
  },
  {
   "cell_type": "markdown",
   "metadata": {},
   "source": [
    "Ora definiamo la funzione che ci permetterà di avere la lista di following per un utente. Purtroppo dobbiamo crearci un piccolo scraper, perchè questa funzionalità non è prevista nelle API."
   ]
  },
  {
   "cell_type": "code",
   "execution_count": 7,
   "metadata": {},
   "outputs": [],
   "source": [
    "def get_user_followings(user_id):\n",
    "    #Imposto l'endpoint\n",
    "    url = f'https://www.komoot.com/it-it/user/{user_id}/following'\n",
    "    \n",
    "    #Inizializzo il webdriver di Selenium\n",
    "    driver = webdriver.Chrome()\n",
    "    driver.get(url)\n",
    "    \n",
    "    #Inizializzo il set con i following e lo scroll-delay\n",
    "    links = set()\n",
    "    scroll_delay = 2\n",
    "    last_height = driver.execute_script(\"return document.body.scrollHeight\")\n",
    "    counter = 0\n",
    "\n",
    "    old_users = set()\n",
    "\n",
    "    while True:\n",
    "\n",
    "        users = driver.find_elements(By.CSS_SELECTOR, 'a.c-link.c-link--inherit.tw-font-bold')\n",
    "        users_dedupe = set(users) - set(old_users)\n",
    "\n",
    "        for user in users_dedupe:\n",
    "            links.add(user.get_attribute('href').split('/')[-1])\n",
    "\n",
    "        driver.execute_script(\"window.scrollTo(0, document.body.scrollHeight);\")\n",
    "        time.sleep(scroll_delay)\n",
    "        new_height = driver.execute_script(\"return document.body.scrollHeight\")\n",
    "\n",
    "        old_users = users\n",
    "\n",
    "        if new_height == last_height:\n",
    "            break\n",
    "        last_height = new_height\n",
    "\n",
    "    driver.quit()\n",
    "    return links"
   ]
  },
  {
   "cell_type": "code",
   "execution_count": 23,
   "metadata": {},
   "outputs": [
    {
     "data": {
      "text/plain": [
       "{'1024020220028',\n",
       " '1136281104054',\n",
       " '1189125754755',\n",
       " '1382684320656',\n",
       " '2137732485327',\n",
       " '2262262155625',\n",
       " '384449563507',\n",
       " '444811548445',\n",
       " '505500745409',\n",
       " '506348671596',\n",
       " '658070566843',\n",
       " '660023066061',\n",
       " '695866282288',\n",
       " '774010743877',\n",
       " '962009552239',\n",
       " 'betty',\n",
       " 'gmbn',\n",
       " 'oesterreichsgroesstebikeregion'}"
      ]
     },
     "execution_count": 23,
     "metadata": {},
     "output_type": "execute_result"
    }
   ],
   "source": [
    "get_user_followings(seed_user_id)"
   ]
  },
  {
   "cell_type": "markdown",
   "metadata": {},
   "source": [
    "Ora modifico la funzione per fare in modo che si possano ottenere sia i follower che i following"
   ]
  },
  {
   "cell_type": "code",
   "execution_count": 204,
   "metadata": {},
   "outputs": [],
   "source": [
    "def get_user_follow(user_id, relation):\n",
    "    #Imposto l'endpoint\n",
    "    url = f'https://www.komoot.com/it-it/user/{user_id}/{relation}'\n",
    "    \n",
    "    #Inizializzo il webdriver di Selenium\n",
    "    driver = webdriver.Chrome()\n",
    "    driver.get(url)\n",
    "    \n",
    "    #Inizializzo il set con i following e lo scroll-delay\n",
    "    links = set()\n",
    "    scroll_delay = 1.5\n",
    "    last_height = driver.execute_script(\"return document.body.scrollHeight\")\n",
    "    counter = 0\n",
    "\n",
    "    old_users = set()\n",
    "\n",
    "    while True:\n",
    "\n",
    "        users = driver.find_elements(By.CSS_SELECTOR, 'a.c-link.c-link--inherit.tw-font-bold')\n",
    "        users_dedupe = set(users) - set(old_users)\n",
    "\n",
    "        for user in users_dedupe:\n",
    "            links.add(user.get_attribute('href').split('/')[-1])\n",
    "\n",
    "        driver.execute_script(\"window.scrollTo(0, document.body.scrollHeight);\")\n",
    "        time.sleep(scroll_delay)\n",
    "        new_height = driver.execute_script(\"return document.body.scrollHeight\")\n",
    "\n",
    "        old_users = users\n",
    "\n",
    "        if new_height == last_height:\n",
    "            break\n",
    "        last_height = new_height\n",
    "\n",
    "    driver.quit()\n",
    "    return links"
   ]
  },
  {
   "cell_type": "code",
   "execution_count": 25,
   "metadata": {},
   "outputs": [
    {
     "data": {
      "text/plain": [
       "{'1024020220028',\n",
       " '1136281104054',\n",
       " '1189125754755',\n",
       " '1382684320656',\n",
       " '2137732485327',\n",
       " '2262262155625',\n",
       " '384449563507',\n",
       " '444811548445',\n",
       " '505500745409',\n",
       " '506348671596',\n",
       " '658070566843',\n",
       " '660023066061',\n",
       " '695866282288',\n",
       " '774010743877',\n",
       " '962009552239',\n",
       " 'betty',\n",
       " 'gmbn',\n",
       " 'oesterreichsgroesstebikeregion'}"
      ]
     },
     "execution_count": 25,
     "metadata": {},
     "output_type": "execute_result"
    }
   ],
   "source": [
    "get_user_follow(seed_user_id, \"following\")"
   ]
  },
  {
   "cell_type": "code",
   "execution_count": 26,
   "metadata": {},
   "outputs": [
    {
     "data": {
      "text/plain": [
       "{'1136281104054',\n",
       " '1189125754755',\n",
       " '1382684320656',\n",
       " '1660920328668',\n",
       " '1873906957124',\n",
       " '2137732485327',\n",
       " '658070566843',\n",
       " '660023066061'}"
      ]
     },
     "execution_count": 26,
     "metadata": {},
     "output_type": "execute_result"
    }
   ],
   "source": [
    "get_user_follow(seed_user_id, \"followers\")"
   ]
  },
  {
   "cell_type": "markdown",
   "metadata": {},
   "source": [
    "Siamo sulla buona strada. Ora dobbiamo automatizzare lo scraper, per ottenere il numero maggiore possibile di nodi."
   ]
  },
  {
   "cell_type": "markdown",
   "metadata": {},
   "source": [
    "## 2. Lo scraping improvvisato"
   ]
  },
  {
   "cell_type": "code",
   "execution_count": 37,
   "metadata": {},
   "outputs": [],
   "source": [
    "#Questa funzione visiterà tutti i nodi a partire dal seed, secondo un threshold impostato\n",
    "def visit():\n",
    "    queue = [(seed_user_id,0)]\n",
    "    visited = {seed_user_id}\n",
    "    threshold = 1\n",
    "    \n",
    "    while queue:\n",
    "        n, l = queue.pop(0)\n",
    "        if l + 1 <= threshold:\n",
    "            for neigh in get_user_follow(n, \"following\"):\n",
    "                if neigh not in visited:\n",
    "                    visited.add(neigh)\n",
    "                    queue.append((neigh,l+1))\n",
    "                yield (n,neigh)"
   ]
  },
  {
   "cell_type": "code",
   "execution_count": 38,
   "metadata": {},
   "outputs": [],
   "source": [
    "g = nx.DiGraph()\n",
    "for a,b in visit():\n",
    "    g.add_edge(a,b)"
   ]
  },
  {
   "cell_type": "markdown",
   "metadata": {},
   "source": [
    "Stampiamo qualche proprietà base e proviamo a stamparlo, per assicurarci di aver ottenuto qualcosa di vagamente corretto"
   ]
  },
  {
   "cell_type": "code",
   "execution_count": 29,
   "metadata": {},
   "outputs": [
    {
     "data": {
      "text/plain": [
       "(19, 18)"
      ]
     },
     "execution_count": 29,
     "metadata": {},
     "output_type": "execute_result"
    }
   ],
   "source": [
    "g.order(), g.size()"
   ]
  },
  {
   "cell_type": "code",
   "execution_count": 30,
   "metadata": {},
   "outputs": [
    {
     "data": {
      "image/png": "[encoded data removed]",
      "text/plain": [
       "<Figure size 432x288 with 1 Axes>"
      ]
     },
     "metadata": {},
     "output_type": "display_data"
    }
   ],
   "source": [
    "nx.draw(g, nx.spring_layout(g))"
   ]
  },
  {
   "cell_type": "markdown",
   "metadata": {},
   "source": [
    "Ora esportiamolo e guardiamolo su Gephi"
   ]
  },
  {
   "cell_type": "code",
   "execution_count": 31,
   "metadata": {},
   "outputs": [],
   "source": [
    "nx.write_graphml(g,path=\"test.graphml\")"
   ]
  },
  {
   "cell_type": "markdown",
   "metadata": {},
   "source": [
    "## 3. Lo scraping persistente"
   ]
  },
  {
   "cell_type": "markdown",
   "metadata": {},
   "source": [
    "Mi sono reso conto che non è veramente necessario usare Selenium. Proviamo a usare le API."
   ]
  },
  {
   "cell_type": "code",
   "execution_count": 8,
   "metadata": {},
   "outputs": [],
   "source": [
    "def get_user_follow(user_id, session=None):\n",
    "    #Imposto l'endpoint\n",
    "    if session == None:\n",
    "        session = requests.Session()\n",
    "    \n",
    "    params = {\n",
    "        'username': 695738537576,\n",
    "        'relation_to_follow': 'FOLLOW',\n",
    "        'relation_to_friend': 'FRIEND',\n",
    "        'page': 0,\n",
    "        'limit': 100,\n",
    "        'hl': 'it'\n",
    "    }\n",
    "    \n",
    "    url = f'https://www.komoot.com/api/v007/users/{user_id}/relating_users/'    \n",
    "    \n",
    "    followings = set()\n",
    "    \n",
    "    while True:\n",
    "        resp = session.get(url=url, params=params)\n",
    "        data = resp.json()\n",
    "        \n",
    "        if resp.status_code != 200:\n",
    "            raise Exception(\"Response code \" + str(resp.status_code)) \n",
    "        \n",
    "        if data['page']['totalElements'] == 0:\n",
    "            return set()\n",
    "        \n",
    "        for user in data['_embedded']['items']:\n",
    "            followings.add(user['username'])\n",
    "        \n",
    "        if data['page']['totalPages'] == data['page']['number']+1:\n",
    "            break\n",
    "        params['page'] = params['page'] + 1\n",
    "        \n",
    "    return followings"
   ]
  },
  {
   "cell_type": "code",
   "execution_count": 9,
   "metadata": {},
   "outputs": [
    {
     "data": {
      "text/plain": [
       "373"
      ]
     },
     "execution_count": 9,
     "metadata": {},
     "output_type": "execute_result"
    }
   ],
   "source": [
    "friends = get_user_follow('betty')\n",
    "len(friends)"
   ]
  },
  {
   "cell_type": "code",
   "execution_count": 39,
   "metadata": {},
   "outputs": [],
   "source": [
    "import time\n",
    "\n",
    "class KomootSurferPersistent():               \n",
    "    def __init__(self, seed, nodes=list(), threshold=2, limit=5000, reset=True):\n",
    "        self.queue = persistqueue.Queue(\"dbs/surfer.queue\")\n",
    "        self.threshold = threshold\n",
    "        self.limit = limit\n",
    "        if reset:\n",
    "            self.empty_queue()\n",
    "            self.visited = set()\n",
    "            self.queue.put((seed, 0))\n",
    "        else:\n",
    "            for node in nodes():\n",
    "                self.visited.put(node)\n",
    "\n",
    "    def empty_queue(self):\n",
    "        while not self.queue.empty():\n",
    "            self.queue.get()\n",
    "\n",
    "    def _get_following(self, user_id):\n",
    "        follow = None\n",
    "        while follow is None:\n",
    "            try:\n",
    "                follow = get_user_follow(user_id)\n",
    "            except:\n",
    "                time.sleep(5)\n",
    "        return follow\n",
    "    \n",
    "    def visit(self):\n",
    "        c = 0\n",
    "        while self.queue.qsize() > 0:\n",
    "            if c >= self.limit:\n",
    "                break\n",
    "            \n",
    "            n, l = self.queue.get()\n",
    "            \n",
    "            if l + 1 <= self.threshold:\n",
    "                if c%100 == 0:\n",
    "                    print(c)\n",
    "                c = c+1\n",
    "                for neigh in self._get_following(n):\n",
    "                    if not neigh in self.visited:\n",
    "                        self.visited.add(neigh)\n",
    "                        self.queue.put((neigh,l+1))\n",
    "                    yield (n,neigh)"
   ]
  },
  {
   "cell_type": "code",
   "execution_count": 40,
   "metadata": {},
   "outputs": [],
   "source": [
    "g = nx.DiGraph()"
   ]
  },
  {
   "cell_type": "code",
   "execution_count": 41,
   "metadata": {},
   "outputs": [],
   "source": [
    "surfer = KomootSurferPersistent(seed_user_id, threshold=10, limit=100000, reset=True)"
   ]
  },
  {
   "cell_type": "code",
   "execution_count": null,
   "metadata": {},
   "outputs": [],
   "source": [
    "#DAI CHE CE LA FACCIAMO\n",
    "for a,b in surfer.visit():\n",
    "    g.add_edge(a,b)"
   ]
  },
  {
   "cell_type": "code",
   "execution_count": 89,
   "metadata": {},
   "outputs": [
    {
     "data": {
      "image/png": "[encoded data removed]",
      "text/plain": [
       "<Figure size 432x288 with 1 Axes>"
      ]
     },
     "metadata": {},
     "output_type": "display_data"
    }
   ],
   "source": [
    "nx.draw(g, nx.spring_layout(g))"
   ]
  },
  {
   "cell_type": "code",
   "execution_count": 43,
   "metadata": {},
   "outputs": [
    {
     "data": {
      "text/plain": [
       "(646427, 2050406)"
      ]
     },
     "execution_count": 43,
     "metadata": {},
     "output_type": "execute_result"
    }
   ],
   "source": [
    "g.order(), g.size()"
   ]
  },
  {
   "cell_type": "code",
   "execution_count": 44,
   "metadata": {},
   "outputs": [],
   "source": [
    "nx.write_graphml(g,path=\"graphs/komoot-network-100000.graphml\")"
   ]
  },
  {
   "cell_type": "markdown",
   "metadata": {},
   "source": [
    "## 4. Togliamo le foglie"
   ]
  },
  {
   "cell_type": "markdown",
   "metadata": {},
   "source": [
    "Per prima cosa togliamo le foglie dal nostro grafo"
   ]
  },
  {
   "cell_type": "code",
   "execution_count": 7,
   "metadata": {},
   "outputs": [],
   "source": [
    "g = nx.read_graphml(\"graphs/komoot-network.graphml\")"
   ]
  },
  {
   "cell_type": "code",
   "execution_count": 58,
   "metadata": {},
   "outputs": [
    {
     "data": {
      "text/plain": [
       "(1595, 2085)"
      ]
     },
     "execution_count": 58,
     "metadata": {},
     "output_type": "execute_result"
    }
   ],
   "source": [
    "g.order(), g.size()"
   ]
  },
  {
   "cell_type": "code",
   "execution_count": 48,
   "metadata": {},
   "outputs": [],
   "source": [
    "leafs = [x for x in g.nodes() if g.out_degree(x)==0]\n",
    "g.remove_nodes_from(leafs)"
   ]
  },
  {
   "cell_type": "code",
   "execution_count": 32,
   "metadata": {},
   "outputs": [
    {
     "data": {
      "text/plain": [
       "(7755, 133901)"
      ]
     },
     "execution_count": 32,
     "metadata": {},
     "output_type": "execute_result"
    }
   ],
   "source": [
    "g.order(), g.size()"
   ]
  },
  {
   "cell_type": "markdown",
   "metadata": {},
   "source": [
    "A quanto pare va eseguita più volte, sigh :'("
   ]
  },
  {
   "cell_type": "code",
   "execution_count": 33,
   "metadata": {},
   "outputs": [
    {
     "data": {
      "text/plain": [
       "[]"
      ]
     },
     "execution_count": 33,
     "metadata": {},
     "output_type": "execute_result"
    }
   ],
   "source": [
    "leafs = [x for x in g.nodes() if g.out_degree(x)==0]\n",
    "leafs"
   ]
  },
  {
   "cell_type": "code",
   "execution_count": 22,
   "metadata": {},
   "outputs": [
    {
     "data": {
      "image/png": "[encoded data removed]",
      "text/plain": [
       "<Figure size 432x288 with 1 Axes>"
      ]
     },
     "metadata": {},
     "output_type": "display_data"
    }
   ],
   "source": [
    "nx.draw(g, nx.spring_layout(g))"
   ]
  },
  {
   "cell_type": "code",
   "execution_count": 34,
   "metadata": {},
   "outputs": [],
   "source": [
    "nx.write_graphml(g,path=\"graphs/komoot-network-10000-wo-leafs.graphml\")"
   ]
  },
  {
   "cell_type": "markdown",
   "metadata": {},
   "source": [
    "## 5. Otteniamo altre informazioni sugli utenti"
   ]
  },
  {
   "cell_type": "markdown",
   "metadata": {},
   "source": [
    "Per prima cosa impostiamo la funzione per trovare il paese date le coordinate. Successivamente vogliamo ottenere la lista degli ultimi 5 tour e dalla moda dei valori stimare due informazioni: il paese dell'utente e il suo sport preferito."
   ]
  },
  {
   "cell_type": "code",
   "execution_count": 7,
   "metadata": {},
   "outputs": [],
   "source": [
    "g = nx.read_graphml(\"graphs/komoot-network-100000-wo-leafs.graphml\")"
   ]
  },
  {
   "cell_type": "code",
   "execution_count": 8,
   "metadata": {},
   "outputs": [],
   "source": [
    "import countries\n",
    "\n",
    "#sudo apt install libdgal-dev gdal-bin\n",
    "\n",
    "def get_country(lat, long):\n",
    "    cc = countries.CountryChecker('maps/TM_WORLD_BORDERS-0.3.shp')\n",
    "    try:\n",
    "        iso = cc.getCountry(countries.Point(lat, long)).iso\n",
    "    except:\n",
    "        iso = \"Unknown\"\n",
    "    return iso"
   ]
  },
  {
   "cell_type": "code",
   "execution_count": 9,
   "metadata": {},
   "outputs": [],
   "source": [
    "def get_user_tours_info(user_id, session=None):\n",
    "    url = f'https://www.komoot.com/api/v007/users/{user_id}/tours/'\n",
    "    \n",
    "    if session == None:\n",
    "        session = requests.Session()\n",
    "    \n",
    "    params = {\n",
    "        'sort_field': 'date',\n",
    "        'sort_direction': 'desc',\n",
    "        'status': 'public',\n",
    "        'hl': 'it',\n",
    "        'page': 0,\n",
    "        'limit': 5,\n",
    "    }\n",
    "    \n",
    "    countries = list()\n",
    "    sport_type = list()\n",
    "    \n",
    "    try:\n",
    "        resp = session.get(url=url, params=params)\n",
    "    except:\n",
    "        sleep(5)\n",
    "        resp = session.get(url=url, params=params)\n",
    "        \n",
    "    data = resp.json()\n",
    "\n",
    "    if resp.status_code != 200:\n",
    "        raise Exception(\"Response code \" + str(resp.status_code)) \n",
    "\n",
    "    if data['page']['totalElements'] == 0:\n",
    "        return 'Unknown', 'Unknown'\n",
    "    \n",
    "    try:\n",
    "        for tour in data['_embedded']['tours']:\n",
    "            countries.append(get_country(tour['start_point']['lat'], tour['start_point']['lng']))\n",
    "            sport_type.append(tour['sport'])\n",
    "    except:\n",
    "        return \"Unknown\", \"Unknown\"\n",
    "    \n",
    "    return max(set(countries), key=countries.count), max(set(sport_type), key=sport_type.count)"
   ]
  },
  {
   "cell_type": "code",
   "execution_count": 60,
   "metadata": {},
   "outputs": [
    {
     "data": {
      "text/plain": [
       "('GB', 'racebike')"
      ]
     },
     "execution_count": 60,
     "metadata": {},
     "output_type": "execute_result"
    }
   ],
   "source": [
    "get_user_tours_info(seed_user_id)"
   ]
  },
  {
   "cell_type": "markdown",
   "metadata": {},
   "source": [
    "Infine, otteniamo il numero di KM totali dalla pagina profilo, e anche il nome"
   ]
  },
  {
   "cell_type": "code",
   "execution_count": 10,
   "metadata": {},
   "outputs": [],
   "source": [
    "def get_user_info(user_id):\n",
    "    #Imposto l'endpoint\n",
    "    url = f\"https://www.komoot.com/it-it/user/{user_id}\"\n",
    "    \n",
    "    #Creo una richiesta con BeautifulSoup e filtro il risultato\n",
    "    try:\n",
    "        resp = requests.get(url=url, params={})\n",
    "    except:\n",
    "        sleep(10)\n",
    "        resp = requests.get(url=url, params={})\n",
    "        \n",
    "    soup = BeautifulSoup(resp.content)\n",
    "    \n",
    "    temp_km = soup.find_all(\"p\", {\"class\": \"css-1sqi9d7\"})\n",
    "    km = 0\n",
    "    if len(temp_km) > 0 and temp_km[0].text[-2:] == \"km\":\n",
    "        km = int(float(temp_km[0].text[:-3].replace('.', '').replace(',', '.')))\n",
    "        \n",
    "    temp_name = soup.find_all(\"a\", {\"class\": \"c-link c-link--inherit\"})\n",
    "    name = \"Unknown\"\n",
    "    if len(temp_name) > 0:\n",
    "        name = temp_name[0].text\n",
    "        \n",
    "    return name, km\n",
    "    "
   ]
  },
  {
   "cell_type": "code",
   "execution_count": 61,
   "metadata": {},
   "outputs": [
    {
     "data": {
      "text/plain": [
       "('James', 663)"
      ]
     },
     "execution_count": 61,
     "metadata": {},
     "output_type": "execute_result"
    }
   ],
   "source": [
    "get_user_info(seed_user_id)"
   ]
  },
  {
   "cell_type": "markdown",
   "metadata": {},
   "source": [
    "## 6. Aggiungiamo queste informazioni a tutti i nodi"
   ]
  },
  {
   "cell_type": "code",
   "execution_count": 71,
   "metadata": {},
   "outputs": [],
   "source": [
    "class KomootCuriosonePersistent():\n",
    "    def __init__(self, graph, nodes=None, reset=True):\n",
    "        self.queue = persistqueue.Queue(\"dbs/curiosone.queue\")\n",
    "        if reset:\n",
    "            self.empty_queue()\n",
    "            if nodes == None:\n",
    "                nodes == list(graph.nodes())\n",
    "            for node in nodes:\n",
    "                self.queue.put(node)\n",
    "            self.queue.put(0)\n",
    "            print(len(nodes))\n",
    "\n",
    "    def empty_queue(self):\n",
    "        while not self.queue.empty():\n",
    "            self.queue.get()\n",
    "\n",
    "    def get_next(self):\n",
    "        return self.queue.get()"
   ]
  },
  {
   "cell_type": "code",
   "execution_count": null,
   "metadata": {},
   "outputs": [],
   "source": [
    "nodelist = list(g.nodes())\n",
    "nodelist.sort()\n",
    "nodelist = nodelist[0:5000]\n",
    "nodelist"
   ]
  },
  {
   "cell_type": "code",
   "execution_count": 78,
   "metadata": {},
   "outputs": [
    {
     "name": "stdout",
     "output_type": "stream",
     "text": [
      "5000\n"
     ]
    }
   ],
   "source": [
    "curiosone = KomootCuriosonePersistent(g, reset=True, nodes=nodelist)"
   ]
  },
  {
   "cell_type": "markdown",
   "metadata": {},
   "source": [
    "Ora vogliamo prendere un utente alla volta e aggiungere le informazioni al grafo"
   ]
  },
  {
   "cell_type": "code",
   "execution_count": null,
   "metadata": {},
   "outputs": [],
   "source": [
    "c = 0\n",
    "while True:\n",
    "    #Stampiamo una sorta di stato\n",
    "    if c%100 == 0:\n",
    "        print(c)\n",
    "    c = c + 1\n",
    "    \n",
    "    #Prendiamo il prossimo utente\n",
    "    user_id = curiosone.get_next()\n",
    "    \n",
    "    #Se è l'ultimo elemento finiamo\n",
    "    if user_id == 0:\n",
    "        break\n",
    "        \n",
    "    #Otteniamo tutte le info per l'utente e le inseriamo in un dizionario apposito\n",
    "    g.nodes[user_id][\"name\"], g.nodes[user_id][\"km\"] = get_user_info(user_id)\n",
    "    g.nodes[user_id][\"country\"], g.nodes[user_id][\"sport\"] = get_user_tours_info(user_id)"
   ]
  },
  {
   "cell_type": "markdown",
   "metadata": {},
   "source": [
    "E infine salviamo il grafo!"
   ]
  },
  {
   "cell_type": "code",
   "execution_count": 33,
   "metadata": {},
   "outputs": [],
   "source": [
    "nx.write_graphml(g,path=\"graphs/komoot-network-attributes.graphml\")"
   ]
  },
  {
   "cell_type": "markdown",
   "metadata": {},
   "source": [
    "## Facciamolo multithread"
   ]
  },
  {
   "cell_type": "code",
   "execution_count": 11,
   "metadata": {},
   "outputs": [],
   "source": [
    "class KomootCuriosonePersistent():\n",
    "    def __init__(self, graph, nodes=None, reset=True, number=0):\n",
    "        self.queue = persistqueue.Queue(f\"dbs/curiosone-{number}.queue\")\n",
    "        if reset:\n",
    "            self.empty_queue()\n",
    "            if nodes == None:\n",
    "                nodes == list(graph.nodes())\n",
    "            for node in nodes:\n",
    "                self.queue.put(node)\n",
    "            self.queue.put(0)\n",
    "\n",
    "    def empty_queue(self):\n",
    "        while not self.queue.empty():\n",
    "            self.queue.get()\n",
    "\n",
    "    def get_next(self):\n",
    "        return self.queue.get()"
   ]
  },
  {
   "cell_type": "code",
   "execution_count": 12,
   "metadata": {},
   "outputs": [],
   "source": [
    "def bounded_infos(lock, graph, start, end, nodelist):\n",
    "    if nodelist == None:\n",
    "        nodelist = list(graph.nodes())\n",
    "    nodelist.sort()\n",
    "    nodelist = nodelist[start:end]\n",
    "    nodelist.append(0)\n",
    "    \n",
    "    curiosone = KomootCuriosonePersistent(graph, reset=True, nodes=nodelist, number=start)\n",
    "    \n",
    "    #c = 0\n",
    "    while True:\n",
    "        #Stampiamo una sorta di stato\n",
    "        #if c%10 == 0 and start == 0:\n",
    "        #    print(c)\n",
    "        #c = c + 1\n",
    "\n",
    "        #Prendiamo il prossimo utente\n",
    "        user_id = curiosone.get_next()\n",
    "\n",
    "        #Se è l'ultimo elemento finiamo\n",
    "        if user_id == 0:\n",
    "            break\n",
    "\n",
    "        #Otteniamo tutte le info per l'utente e le inseriamo in un dizionario apposito\n",
    "        name, km = get_user_info(user_id)\n",
    "        country, sport = get_user_tours_info(user_id)\n",
    "        \n",
    "        lock.acquire()\n",
    "        graph.nodes[user_id][\"name\"], graph.nodes[user_id][\"km\"], graph.nodes[user_id][\"country\"], graph.nodes[user_id][\"sport\"] = name, km, country, sport\n",
    "        lock.release()"
   ]
  },
  {
   "cell_type": "code",
   "execution_count": null,
   "metadata": {},
   "outputs": [],
   "source": [
    "from threading import Thread, Lock\n",
    "from time import sleep\n",
    "\n",
    "#Second run\n",
    "rimanenti = []\n",
    "for n in list(g.nodes):\n",
    "    try:\n",
    "        g.nodes[n][\"name\"]\n",
    "    except:\n",
    "        rimanenti.append(n)\n",
    "\n",
    "procs = []\n",
    "lock = Lock()\n",
    "\n",
    "threads = 40\n",
    "#nodes = g.nodes()\n",
    "nodes = rimanenti\n",
    "step = int(len(nodes)/threads)\n",
    "print(step)\n",
    "for i in range(threads-1):\n",
    "    print(f\"Thread Started - Range [{i*step}-{(i+1)*step}]\")\n",
    "    p = Thread(target=bounded_infos, args=(lock, g,i*step, (i+1)*step, nodes))\n",
    "    procs.append(p)\n",
    "    p.start()\n",
    "\n",
    "print(f\"Thread Started - Range [{(i+1)*step}-{len(nodes)}]\")\n",
    "p = Thread(target=bounded_infos, args=(lock, g,i*step, (i+1)*step, nodes))\n",
    "procs.append(p)\n",
    "p.start()"
   ]
  },
  {
   "cell_type": "code",
   "execution_count": null,
   "metadata": {},
   "outputs": [],
   "source": [
    "# Blocca l'esecuzione finchè i processi non sono terminati   \n",
    "for t in procs:\n",
    "    #t.join()\n",
    "    print(t.ident)\n",
    "\n",
    "print(\"Done\")"
   ]
  },
  {
   "cell_type": "code",
   "execution_count": 15,
   "metadata": {},
   "outputs": [
    {
     "data": {
      "text/plain": [
       "74139"
      ]
     },
     "execution_count": 15,
     "metadata": {},
     "output_type": "execute_result"
    }
   ],
   "source": [
    "len(g.nodes)"
   ]
  },
  {
   "cell_type": "code",
   "execution_count": null,
   "metadata": {},
   "outputs": [],
   "source": [
    "while True:\n",
    "    rimanenti = []\n",
    "\n",
    "    for n in list(g.nodes):\n",
    "        try:\n",
    "            g.nodes[n][\"name\"]\n",
    "        except:\n",
    "            rimanenti.append(n)\n",
    "    \n",
    "    print(f\"{len(rimanenti)}, {int((1-len(rimanenti)/len(g.nodes))*100)}%\")\n",
    "    \n",
    "    if len(rimanenti) == 0:\n",
    "        break\n",
    "    \n",
    "    sleep(300)"
   ]
  },
  {
   "cell_type": "code",
   "execution_count": null,
   "metadata": {},
   "outputs": [],
   "source": [
    "rimanenti = []\n",
    "\n",
    "for n in list(g.nodes):\n",
    "    try:\n",
    "        g.nodes[n][\"name\"]\n",
    "    except:\n",
    "        rimanenti.append(n)\n",
    "        \n",
    "curiosone = KomootCuriosonePersistent(g, reset=True, nodes=rimanenti, number=99)\n",
    "\n",
    "c = 0\n",
    "while True:\n",
    "    #Stampiamo una sorta di stato\n",
    "    if c%10 == 0:\n",
    "        print(c)\n",
    "    c = c + 1\n",
    "\n",
    "    #Prendiamo il prossimo utente\n",
    "    user_id = curiosone.get_next()\n",
    "\n",
    "    #Se è l'ultimo elemento finiamo\n",
    "    if user_id == 0:\n",
    "        break\n",
    "\n",
    "    #Otteniamo tutte le info per l'utente e le inseriamo in un dizionario apposito\n",
    "    name, km = get_user_info(user_id)\n",
    "    country, sport = get_user_tours_info(user_id)\n",
    "\n",
    "    g.nodes[user_id][\"name\"], g.nodes[user_id][\"km\"], g.nodes[user_id][\"country\"], g.nodes[user_id][\"sport\"] = name, km, country, sport"
   ]
  },
  {
   "cell_type": "code",
   "execution_count": 68,
   "metadata": {},
   "outputs": [],
   "source": [
    "nx.write_graphml(g,path=\"graphs/komoot-network-100000-attributes.graphml\")"
   ]
  },
  {
   "cell_type": "markdown",
   "metadata": {},
   "source": [
    "# Analisi"
   ]
  },
  {
   "cell_type": "code",
   "execution_count": 1,
   "metadata": {},
   "outputs": [],
   "source": [
    "import networkx as nx\n",
    "import numpy as np\n",
    "import matplotlib.pyplot as plt\n",
    "import pandas as pd"
   ]
  },
  {
   "cell_type": "markdown",
   "metadata": {},
   "source": [
    "Per prima cosa cominciamo col caricare il grafo e avedere come è bello"
   ]
  },
  {
   "cell_type": "markdown",
   "metadata": {},
   "source": [
    "![](gephi/komoot-countries.png)"
   ]
  },
  {
   "cell_type": "code",
   "execution_count": 2,
   "metadata": {},
   "outputs": [],
   "source": [
    "g = nx.read_graphml(\"graphs/komoot-network-100000-attributes.graphml\")"
   ]
  },
  {
   "cell_type": "markdown",
   "metadata": {},
   "source": [
    "Incominciamo a stampare un paio di info sul grafo"
   ]
  },
  {
   "cell_type": "code",
   "execution_count": 5,
   "metadata": {},
   "outputs": [
    {
     "name": "stdout",
     "output_type": "stream",
     "text": [
      "Numero di nodi: 74139\n",
      "Numero di archi: 1113417\n",
      "DiGraph with 74139 nodes and 1113417 edges\n"
     ]
    }
   ],
   "source": [
    "print(f\"Numero di nodi: {g.order()}\\nNumero di archi: {g.size()}\")\n",
    "print(g)"
   ]
  },
  {
   "cell_type": "code",
   "execution_count": 6,
   "metadata": {},
   "outputs": [
    {
     "name": "stdout",
     "output_type": "stream",
     "text": [
      "Density: 0.00020256772846016368\n"
     ]
    }
   ],
   "source": [
    "print(f'Density: {nx.density(g)}')"
   ]
  },
  {
   "cell_type": "markdown",
   "metadata": {},
   "source": [
    "Ora stampiamo l'utente con massimo in degree e out degree"
   ]
  },
  {
   "cell_type": "code",
   "execution_count": 7,
   "metadata": {},
   "outputs": [
    {
     "data": {
      "text/plain": [
       "[('komoot', 6512),\n",
       " ('orbit', 2389),\n",
       " ('979759071586', 2384),\n",
       " ('878596569070', 2196),\n",
       " ('444811548445', 2142),\n",
       " ('263147866419', 1998),\n",
       " ('576346192897', 1954),\n",
       " ('267850388946', 1913),\n",
       " ('414835544103', 1902),\n",
       " ('910787423285', 1857)]"
      ]
     },
     "execution_count": 7,
     "metadata": {},
     "output_type": "execute_result"
    }
   ],
   "source": [
    "indegree = dict(g.in_degree())\n",
    "indegree = list(reversed(sorted(indegree.items(), key = lambda x: x[1])))\n",
    "indegree[:10]"
   ]
  },
  {
   "cell_type": "code",
   "execution_count": 8,
   "metadata": {},
   "outputs": [
    {
     "data": {
      "text/plain": [
       "[('2207069696217', 6531),\n",
       " ('975940150909', 5095),\n",
       " ('746991489833', 4174),\n",
       " ('1093755911644', 3052),\n",
       " ('979759071586', 2532),\n",
       " ('169172928726', 2498),\n",
       " ('878596569070', 2234),\n",
       " ('1045038351715', 2103),\n",
       " ('99084998900', 1969),\n",
       " ('910787423285', 1932)]"
      ]
     },
     "execution_count": 8,
     "metadata": {},
     "output_type": "execute_result"
    }
   ],
   "source": [
    "outdegree = dict(g.out_degree())\n",
    "outdegree = list(reversed(sorted(outdegree.items(), key = lambda x: x[1])))\n",
    "outdegree[:10]"
   ]
  },
  {
   "cell_type": "markdown",
   "metadata": {},
   "source": [
    "Ora stampiamo informazioni su indegree medio e outdegree medio"
   ]
  },
  {
   "cell_type": "code",
   "execution_count": 9,
   "metadata": {},
   "outputs": [
    {
     "name": "stdout",
     "output_type": "stream",
     "text": [
      "Grado medio: 15.017966252579614\n",
      "Standard deviation: 67.15731144375731\n",
      "Median: 3.0\n",
      "Min: 1\n",
      "Max: 6512\n"
     ]
    }
   ],
   "source": [
    "degree_list =list(dict(g.in_degree()).values())\n",
    "print(f'Grado medio: {np.mean(degree_list)}')\n",
    "print(f'Standard deviation: {np.std(degree_list)}')\n",
    "print(f'Median: {np.median(degree_list)}')\n",
    "print(f'Min: {np.min(degree_list)}')\n",
    "print(f'Max: {np.max(degree_list)}')"
   ]
  },
  {
   "cell_type": "code",
   "execution_count": 10,
   "metadata": {},
   "outputs": [
    {
     "name": "stdout",
     "output_type": "stream",
     "text": [
      "Grado medio: 15.017966252579614\n",
      "Standard deviation: 60.01526038966208\n",
      "Median: 4.0\n",
      "Min: 1\n",
      "Max: 6531\n"
     ]
    }
   ],
   "source": [
    "degree_list =list(dict(g.out_degree()).values())\n",
    "print(f'Grado medio: {np.mean(degree_list)}')\n",
    "print(f'Standard deviation: {np.std(degree_list)}')\n",
    "print(f'Median: {np.median(degree_list)}')\n",
    "print(f'Min: {np.min(degree_list)}')\n",
    "print(f'Max: {np.max(degree_list)}')"
   ]
  },
  {
   "cell_type": "markdown",
   "metadata": {},
   "source": [
    "Ora calcoliamo la PDF dell'indegree"
   ]
  },
  {
   "cell_type": "code",
   "execution_count": 28,
   "metadata": {},
   "outputs": [
    {
     "data": {
      "text/plain": [
       "Text(0, 0.5, 'P(X=x)')"
      ]
     },
     "execution_count": 28,
     "metadata": {},
     "output_type": "execute_result"
    },
    {
     "data": {
      "image/png": "[encoded data removed]",
      "text/plain": [
       "<Figure size 1000x500 with 1 Axes>"
      ]
     },
     "metadata": {},
     "output_type": "display_data"
    }
   ],
   "source": [
    "degree_list =list(dict(g.in_degree()).values())\n",
    "np.arange(min(degree_list),max(degree_list)+1)\n",
    "count,bins = np.histogram(degree_list, bins=np.arange(min(degree_list),max(degree_list)+2))\n",
    "\n",
    "pdf = count / g.order()\n",
    "\n",
    "fig = plt.figure(figsize=(10,5)) \n",
    "plt.plot(bins[:-1],pdf, color='tomato',marker='o', linestyle='--', ms=5)\n",
    "plt.xlabel('Indegree',size=15, weight = 'bold')\n",
    "plt.ylabel('P(X=x)',size=15, weight = 'bold')"
   ]
  },
  {
   "cell_type": "code",
   "execution_count": 29,
   "metadata": {},
   "outputs": [
    {
     "data": {
      "text/plain": [
       "Text(0, 0.5, 'P(X=x)')"
      ]
     },
     "execution_count": 29,
     "metadata": {},
     "output_type": "execute_result"
    },
    {
     "data": {
      "image/png": "[encoded data removed]",
      "text/plain": [
       "<Figure size 1000x500 with 1 Axes>"
      ]
     },
     "metadata": {},
     "output_type": "display_data"
    }
   ],
   "source": [
    "count,bins = np.histogram(degree_list, bins=np.arange(min(degree_list),50+2))\n",
    "\n",
    "pdf = count / g.order()\n",
    "\n",
    "fig = plt.figure(figsize=(10,5)) \n",
    "plt.plot(bins[:-1],pdf, color='tomato',marker='o', linestyle='--', ms=5)\n",
    "plt.xlabel('Indegree',size=15, weight = 'bold')\n",
    "plt.ylabel('P(X=x)',size=15, weight = 'bold')"
   ]
  },
  {
   "cell_type": "markdown",
   "metadata": {},
   "source": [
    "Troviamo i nodi più centrali per ogni centralità"
   ]
  },
  {
   "cell_type": "code",
   "execution_count": 3,
   "metadata": {},
   "outputs": [
    {
     "data": {
      "text/plain": [
       "[('komoot', 0.0878),\n",
       " ('orbit', 0.0322),\n",
       " ('979759071586', 0.0322),\n",
       " ('878596569070', 0.0296),\n",
       " ('444811548445', 0.0289)]"
      ]
     },
     "execution_count": 3,
     "metadata": {},
     "output_type": "execute_result"
    }
   ],
   "source": [
    "#InDegree Centrality\n",
    "degree=dict(g.in_degree())\n",
    "in_degree_centrality = {n: round(c/(g.order()-1),4) for n,c in degree.items()}\n",
    "node_d_centr = list(in_degree_centrality.items())\n",
    "node_d_centr.sort(key = lambda x: x[1], reverse = True)\n",
    "node_d_centr[:5]"
   ]
  },
  {
   "cell_type": "code",
   "execution_count": 4,
   "metadata": {},
   "outputs": [
    {
     "data": {
      "text/plain": [
       "[('2207069696217', 0.0881),\n",
       " ('975940150909', 0.0687),\n",
       " ('746991489833', 0.0563),\n",
       " ('1093755911644', 0.0412),\n",
       " ('979759071586', 0.0342)]"
      ]
     },
     "execution_count": 4,
     "metadata": {},
     "output_type": "execute_result"
    }
   ],
   "source": [
    "#Out Degree Centrality\n",
    "degree=dict(g.out_degree())\n",
    "out_degree_centrality = {n: round(c/(g.order()-1),4) for n,c in degree.items()}\n",
    "node_d_centr = list(out_degree_centrality.items())\n",
    "node_d_centr.sort(key = lambda x: x[1], reverse = True)\n",
    "node_d_centr[:5]"
   ]
  },
  {
   "cell_type": "code",
   "execution_count": 5,
   "metadata": {},
   "outputs": [
    {
     "data": {
      "text/plain": [
       "[('komoot', 0.17538982208333062),\n",
       " ('910787423285', 0.1411883194106963),\n",
       " ('267850388946', 0.12220672337326605),\n",
       " ('263147866419', 0.10427739050233055),\n",
       " ('1038353740970', 0.10122367556368272)]"
      ]
     },
     "execution_count": 5,
     "metadata": {},
     "output_type": "execute_result"
    }
   ],
   "source": [
    "#Eigenvector cenrality\n",
    "eigenvector_centrality = nx.eigenvector_centrality(g,200)\n",
    "node_e_centr = list(eigenvector_centrality.items())\n",
    "node_e_centr.sort(key = lambda x: x[1], reverse = True)\n",
    "node_e_centr[:5]"
   ]
  },
  {
   "cell_type": "markdown",
   "metadata": {},
   "source": [
    "Ora disegnamo un bel grafico con la correlazione tra le misure"
   ]
  },
  {
   "cell_type": "code",
   "execution_count": 6,
   "metadata": {},
   "outputs": [
    {
     "data": {
      "image/png": "[encoded data removed]",
      "text/plain": [
       "<Figure size 1000x500 with 2 Axes>"
      ]
     },
     "metadata": {},
     "output_type": "display_data"
    }
   ],
   "source": [
    "import scipy\n",
    "import seaborn as sns\n",
    "\n",
    "all_centr = [in_degree_centrality, out_degree_centrality, eigenvector_centrality]\n",
    "ranks = [[scipy.stats.weightedtau(list(c1.values()), list(c2.values()))[0] for c1 in all_centr] for c2 in all_centr]\n",
    "centralities = ['in degree', 'out degree', 'eigenvector']\n",
    "plt.figure(figsize = (10,5))\n",
    "sns.heatmap(pd.DataFrame(ranks),annot = True,cmap = 'coolwarm')\n",
    "plt.xticks([x+0.5 for x in range(3)],centralities, rotation = 0)\n",
    "plt.yticks([x+0.5 for x in range(3)],centralities, rotation = 0)\n",
    "plt.title('Pearson correlation\\n', weight = 'bold')\n",
    "plt.show()"
   ]
  },
  {
   "cell_type": "markdown",
   "metadata": {},
   "source": [
    "Ora verifichiamo il numero di componenti connesse, sia deboli che forti"
   ]
  },
  {
   "cell_type": "code",
   "execution_count": 43,
   "metadata": {},
   "outputs": [
    {
     "name": "stdout",
     "output_type": "stream",
     "text": [
      "True\n",
      "1\n"
     ]
    }
   ],
   "source": [
    "print(nx.is_weakly_connected(g))\n",
    "print(nx.number_weakly_connected_components(g))"
   ]
  },
  {
   "cell_type": "code",
   "execution_count": 44,
   "metadata": {},
   "outputs": [
    {
     "name": "stdout",
     "output_type": "stream",
     "text": [
      "False\n",
      "283\n"
     ]
    }
   ],
   "source": [
    "print(nx.is_strongly_connected(g))\n",
    "print(nx.number_strongly_connected_components(g))"
   ]
  },
  {
   "cell_type": "code",
   "execution_count": 49,
   "metadata": {},
   "outputs": [
    {
     "data": {
      "text/plain": [
       "73571"
      ]
     },
     "execution_count": 49,
     "metadata": {},
     "output_type": "execute_result"
    }
   ],
   "source": [
    "largest_cc = max(nx.strongly_connected_components(g), key=len)\n",
    "len(largest_cc)"
   ]
  },
  {
   "cell_type": "markdown",
   "metadata": {},
   "source": [
    "Controlliamo la reciprocità"
   ]
  },
  {
   "cell_type": "code",
   "execution_count": 52,
   "metadata": {},
   "outputs": [
    {
     "data": {
      "text/plain": [
       "0.4497667989621139"
      ]
     },
     "execution_count": 52,
     "metadata": {},
     "output_type": "execute_result"
    }
   ],
   "source": [
    "nx.reciprocity(g)"
   ]
  },
  {
   "cell_type": "markdown",
   "metadata": {},
   "source": [
    "Calcoliamo il coefficiente medio di clustering"
   ]
  },
  {
   "cell_type": "code",
   "execution_count": 53,
   "metadata": {},
   "outputs": [
    {
     "data": {
      "text/plain": [
       "0.26648675568487057"
      ]
     },
     "execution_count": 53,
     "metadata": {},
     "output_type": "execute_result"
    }
   ],
   "source": [
    "nx.average_clustering(g)"
   ]
  },
  {
   "cell_type": "markdown",
   "metadata": {},
   "source": [
    "Calcoliamo il numero di utenti per ogni paese e per ogni sport"
   ]
  },
  {
   "cell_type": "code",
   "execution_count": 248,
   "metadata": {},
   "outputs": [
    {
     "data": {
      "text/html": [
       "<div>\n",
       "<style scoped>\n",
       "    .dataframe tbody tr th:only-of-type {\n",
       "        vertical-align: middle;\n",
       "    }\n",
       "\n",
       "    .dataframe tbody tr th {\n",
       "        vertical-align: top;\n",
       "    }\n",
       "\n",
       "    .dataframe thead th {\n",
       "        text-align: right;\n",
       "    }\n",
       "</style>\n",
       "<table border=\"1\" class=\"dataframe\">\n",
       "  <thead>\n",
       "    <tr style=\"text-align: right;\">\n",
       "      <th></th>\n",
       "      <th>Country</th>\n",
       "      <th>Users</th>\n",
       "      <th>Percent</th>\n",
       "    </tr>\n",
       "  </thead>\n",
       "  <tbody>\n",
       "    <tr>\n",
       "      <th>0</th>\n",
       "      <td>DE</td>\n",
       "      <td>31320</td>\n",
       "      <td>42.244972</td>\n",
       "    </tr>\n",
       "    <tr>\n",
       "      <th>1</th>\n",
       "      <td>Unknown</td>\n",
       "      <td>12707</td>\n",
       "      <td>17.139427</td>\n",
       "    </tr>\n",
       "    <tr>\n",
       "      <th>2</th>\n",
       "      <td>GB</td>\n",
       "      <td>8239</td>\n",
       "      <td>11.112910</td>\n",
       "    </tr>\n",
       "    <tr>\n",
       "      <th>3</th>\n",
       "      <td>IT</td>\n",
       "      <td>4286</td>\n",
       "      <td>5.781033</td>\n",
       "    </tr>\n",
       "    <tr>\n",
       "      <th>4</th>\n",
       "      <td>ES</td>\n",
       "      <td>4203</td>\n",
       "      <td>5.669081</td>\n",
       "    </tr>\n",
       "    <tr>\n",
       "      <th>5</th>\n",
       "      <td>AT</td>\n",
       "      <td>3217</td>\n",
       "      <td>4.339147</td>\n",
       "    </tr>\n",
       "    <tr>\n",
       "      <th>6</th>\n",
       "      <td>FR</td>\n",
       "      <td>2207</td>\n",
       "      <td>2.976841</td>\n",
       "    </tr>\n",
       "    <tr>\n",
       "      <th>7</th>\n",
       "      <td>NL</td>\n",
       "      <td>1943</td>\n",
       "      <td>2.620753</td>\n",
       "    </tr>\n",
       "    <tr>\n",
       "      <th>8</th>\n",
       "      <td>CH</td>\n",
       "      <td>1422</td>\n",
       "      <td>1.918019</td>\n",
       "    </tr>\n",
       "    <tr>\n",
       "      <th>9</th>\n",
       "      <td>BE</td>\n",
       "      <td>736</td>\n",
       "      <td>0.992730</td>\n",
       "    </tr>\n",
       "    <tr>\n",
       "      <th>10</th>\n",
       "      <td>US</td>\n",
       "      <td>482</td>\n",
       "      <td>0.650130</td>\n",
       "    </tr>\n",
       "    <tr>\n",
       "      <th>11</th>\n",
       "      <td>PT</td>\n",
       "      <td>248</td>\n",
       "      <td>0.334507</td>\n",
       "    </tr>\n",
       "    <tr>\n",
       "      <th>12</th>\n",
       "      <td>CZ</td>\n",
       "      <td>219</td>\n",
       "      <td>0.295391</td>\n",
       "    </tr>\n",
       "    <tr>\n",
       "      <th>13</th>\n",
       "      <td>PL</td>\n",
       "      <td>195</td>\n",
       "      <td>0.263019</td>\n",
       "    </tr>\n",
       "    <tr>\n",
       "      <th>14</th>\n",
       "      <td>DK</td>\n",
       "      <td>162</td>\n",
       "      <td>0.218508</td>\n",
       "    </tr>\n",
       "  </tbody>\n",
       "</table>\n",
       "</div>"
      ],
      "text/plain": [
       "    Country  Users    Percent\n",
       "0        DE  31320  42.244972\n",
       "1   Unknown  12707  17.139427\n",
       "2        GB   8239  11.112910\n",
       "3        IT   4286   5.781033\n",
       "4        ES   4203   5.669081\n",
       "5        AT   3217   4.339147\n",
       "6        FR   2207   2.976841\n",
       "7        NL   1943   2.620753\n",
       "8        CH   1422   1.918019\n",
       "9        BE    736   0.992730\n",
       "10       US    482   0.650130\n",
       "11       PT    248   0.334507\n",
       "12       CZ    219   0.295391\n",
       "13       PL    195   0.263019\n",
       "14       DK    162   0.218508"
      ]
     },
     "execution_count": 248,
     "metadata": {},
     "output_type": "execute_result"
    }
   ],
   "source": [
    "# Calcola il numero di nodi per ogni valore di \"country\"\n",
    "country_counts = {}\n",
    "for node in g.nodes():\n",
    "    country = g.nodes[node]['country']\n",
    "    if country in country_counts:\n",
    "        country_counts[country] += 1\n",
    "    else:\n",
    "        country_counts[country] = 1\n",
    "\n",
    "countries_list = list(reversed(sorted(country_counts.items(), key=lambda item: item[1])))\n",
    "df = pd.DataFrame(countries_list, columns=['Country', 'Users'])\n",
    "df['Percent'] = (df['Users'] / df['Users'].sum()) * 100\n",
    "df[:15]"
   ]
  },
  {
   "cell_type": "code",
   "execution_count": 247,
   "metadata": {},
   "outputs": [
    {
     "data": {
      "text/html": [
       "<div>\n",
       "<style scoped>\n",
       "    .dataframe tbody tr th:only-of-type {\n",
       "        vertical-align: middle;\n",
       "    }\n",
       "\n",
       "    .dataframe tbody tr th {\n",
       "        vertical-align: top;\n",
       "    }\n",
       "\n",
       "    .dataframe thead th {\n",
       "        text-align: right;\n",
       "    }\n",
       "</style>\n",
       "<table border=\"1\" class=\"dataframe\">\n",
       "  <thead>\n",
       "    <tr style=\"text-align: right;\">\n",
       "      <th></th>\n",
       "      <th>Sport</th>\n",
       "      <th>Users</th>\n",
       "      <th>Percent</th>\n",
       "    </tr>\n",
       "  </thead>\n",
       "  <tbody>\n",
       "    <tr>\n",
       "      <th>0</th>\n",
       "      <td>hike</td>\n",
       "      <td>22896</td>\n",
       "      <td>30.882531</td>\n",
       "    </tr>\n",
       "    <tr>\n",
       "      <th>1</th>\n",
       "      <td>touringbicycle</td>\n",
       "      <td>12153</td>\n",
       "      <td>16.392182</td>\n",
       "    </tr>\n",
       "    <tr>\n",
       "      <th>2</th>\n",
       "      <td>Unknown</td>\n",
       "      <td>11937</td>\n",
       "      <td>16.100838</td>\n",
       "    </tr>\n",
       "    <tr>\n",
       "      <th>3</th>\n",
       "      <td>racebike</td>\n",
       "      <td>10076</td>\n",
       "      <td>13.590688</td>\n",
       "    </tr>\n",
       "    <tr>\n",
       "      <th>4</th>\n",
       "      <td>mtb</td>\n",
       "      <td>8425</td>\n",
       "      <td>11.363790</td>\n",
       "    </tr>\n",
       "    <tr>\n",
       "      <th>5</th>\n",
       "      <td>mtb_easy</td>\n",
       "      <td>5576</td>\n",
       "      <td>7.521008</td>\n",
       "    </tr>\n",
       "    <tr>\n",
       "      <th>6</th>\n",
       "      <td>jogging</td>\n",
       "      <td>1730</td>\n",
       "      <td>2.333455</td>\n",
       "    </tr>\n",
       "    <tr>\n",
       "      <th>7</th>\n",
       "      <td>mtb_advanced</td>\n",
       "      <td>388</td>\n",
       "      <td>0.523341</td>\n",
       "    </tr>\n",
       "    <tr>\n",
       "      <th>8</th>\n",
       "      <td>other</td>\n",
       "      <td>309</td>\n",
       "      <td>0.416785</td>\n",
       "    </tr>\n",
       "    <tr>\n",
       "      <th>9</th>\n",
       "      <td>mountaineering</td>\n",
       "      <td>263</td>\n",
       "      <td>0.354739</td>\n",
       "    </tr>\n",
       "    <tr>\n",
       "      <th>10</th>\n",
       "      <td>nordicwalking</td>\n",
       "      <td>111</td>\n",
       "      <td>0.149719</td>\n",
       "    </tr>\n",
       "    <tr>\n",
       "      <th>11</th>\n",
       "      <td>skitour</td>\n",
       "      <td>75</td>\n",
       "      <td>0.101161</td>\n",
       "    </tr>\n",
       "    <tr>\n",
       "      <th>12</th>\n",
       "      <td>skialpin</td>\n",
       "      <td>68</td>\n",
       "      <td>0.091720</td>\n",
       "    </tr>\n",
       "    <tr>\n",
       "      <th>13</th>\n",
       "      <td>nordic</td>\n",
       "      <td>44</td>\n",
       "      <td>0.059348</td>\n",
       "    </tr>\n",
       "    <tr>\n",
       "      <th>14</th>\n",
       "      <td>skaten</td>\n",
       "      <td>24</td>\n",
       "      <td>0.032372</td>\n",
       "    </tr>\n",
       "    <tr>\n",
       "      <th>15</th>\n",
       "      <td>snowshoe</td>\n",
       "      <td>20</td>\n",
       "      <td>0.026976</td>\n",
       "    </tr>\n",
       "    <tr>\n",
       "      <th>16</th>\n",
       "      <td>downhillbike</td>\n",
       "      <td>18</td>\n",
       "      <td>0.024279</td>\n",
       "    </tr>\n",
       "    <tr>\n",
       "      <th>17</th>\n",
       "      <td>climbing</td>\n",
       "      <td>13</td>\n",
       "      <td>0.017535</td>\n",
       "    </tr>\n",
       "    <tr>\n",
       "      <th>18</th>\n",
       "      <td>snowboard</td>\n",
       "      <td>7</td>\n",
       "      <td>0.009442</td>\n",
       "    </tr>\n",
       "    <tr>\n",
       "      <th>19</th>\n",
       "      <td>sled</td>\n",
       "      <td>3</td>\n",
       "      <td>0.004046</td>\n",
       "    </tr>\n",
       "    <tr>\n",
       "      <th>20</th>\n",
       "      <td>unicycle</td>\n",
       "      <td>3</td>\n",
       "      <td>0.004046</td>\n",
       "    </tr>\n",
       "  </tbody>\n",
       "</table>\n",
       "</div>"
      ],
      "text/plain": [
       "             Sport  Users    Percent\n",
       "0             hike  22896  30.882531\n",
       "1   touringbicycle  12153  16.392182\n",
       "2          Unknown  11937  16.100838\n",
       "3         racebike  10076  13.590688\n",
       "4              mtb   8425  11.363790\n",
       "5         mtb_easy   5576   7.521008\n",
       "6          jogging   1730   2.333455\n",
       "7     mtb_advanced    388   0.523341\n",
       "8            other    309   0.416785\n",
       "9   mountaineering    263   0.354739\n",
       "10   nordicwalking    111   0.149719\n",
       "11         skitour     75   0.101161\n",
       "12        skialpin     68   0.091720\n",
       "13          nordic     44   0.059348\n",
       "14          skaten     24   0.032372\n",
       "15        snowshoe     20   0.026976\n",
       "16    downhillbike     18   0.024279\n",
       "17        climbing     13   0.017535\n",
       "18       snowboard      7   0.009442\n",
       "19            sled      3   0.004046\n",
       "20        unicycle      3   0.004046"
      ]
     },
     "execution_count": 247,
     "metadata": {},
     "output_type": "execute_result"
    }
   ],
   "source": [
    "# Calcola il numero di nodi per ogni valore di \"sport\"\n",
    "sport_counts = {}\n",
    "for node in g.nodes():\n",
    "    sport = g.nodes[node]['sport']\n",
    "    if sport in sport_counts:\n",
    "        sport_counts[country] += 1\n",
    "    else:\n",
    "        sport_counts[country] = 1\n",
    "\n",
    "sports_list = list(reversed(sorted(country_counts.items(), key=lambda item: item[1])))\n",
    "df = pd.DataFrame(sports_list, columns=['Sport', 'Users'])\n",
    "df['Percent'] = (df['Users'] / df['Users'].sum()) * 100\n",
    "df"
   ]
  },
  {
   "cell_type": "markdown",
   "metadata": {},
   "source": [
    "Ora proviamo a plottare il numero di Km percorsi con un'istogramma. Prima proviamo col grafico senza limiti, poi selezioniamo solo i valori tra 1 e 5000"
   ]
  },
  {
   "cell_type": "code",
   "execution_count": 115,
   "metadata": {},
   "outputs": [
    {
     "data": {
      "image/png": "[encoded data removed]",
      "text/plain": [
       "<Figure size 640x480 with 1 Axes>"
      ]
     },
     "metadata": {},
     "output_type": "display_data"
    }
   ],
   "source": [
    "# Ottieni i valori di \"km\" dei nodi\n",
    "km_values = [g.nodes[node]['km'] for node in g.nodes() if g.nodes[node]['km'] > 0]\n",
    "\n",
    "# Specifica il numero di bin per l'istogramma\n",
    "num_bins = 20\n",
    "\n",
    "# Crea l'istogramma\n",
    "plt.hist(km_values, bins=num_bins, edgecolor='black')\n",
    "\n",
    "# Aggiungi etichette e titolo all'istogramma\n",
    "plt.xlabel('Km')\n",
    "plt.ylabel('Numero di Nodi')\n",
    "\n",
    "# Mostra l'istogramma\n",
    "plt.show()"
   ]
  },
  {
   "cell_type": "code",
   "execution_count": 116,
   "metadata": {},
   "outputs": [
    {
     "data": {
      "image/png": "[encoded data removed]",
      "text/plain": [
       "<Figure size 640x480 with 1 Axes>"
      ]
     },
     "metadata": {},
     "output_type": "display_data"
    }
   ],
   "source": [
    "# Ottieni i valori di \"km\" dei nodi\n",
    "km_values = [g.nodes[node]['km'] for node in g.nodes() if 1 <= g.nodes[node]['km'] <= 5000]\n",
    "\n",
    "# Specifica il numero di bin per l'istogramma\n",
    "num_bins = 20\n",
    "\n",
    "# Crea l'istogramma\n",
    "plt.hist(km_values, bins=num_bins, edgecolor='black')\n",
    "\n",
    "# Aggiungi etichette e titolo all'istogramma\n",
    "plt.xlabel('Km')\n",
    "plt.ylabel('Numero di Nodi')\n",
    "\n",
    "# Mostra l'istogramma\n",
    "plt.show()"
   ]
  },
  {
   "cell_type": "markdown",
   "metadata": {},
   "source": [
    "## Correlazione tra paese e sport"
   ]
  },
  {
   "cell_type": "markdown",
   "metadata": {},
   "source": [
    "Ora creiamo un'heatmap per capire se c'è correlazione tra tra paesi e km"
   ]
  },
  {
   "cell_type": "code",
   "execution_count": 218,
   "metadata": {},
   "outputs": [
    {
     "data": {
      "text/html": [
       "<div>\n",
       "<style scoped>\n",
       "    .dataframe tbody tr th:only-of-type {\n",
       "        vertical-align: middle;\n",
       "    }\n",
       "\n",
       "    .dataframe tbody tr th {\n",
       "        vertical-align: top;\n",
       "    }\n",
       "\n",
       "    .dataframe thead th {\n",
       "        text-align: right;\n",
       "    }\n",
       "</style>\n",
       "<table border=\"1\" class=\"dataframe\">\n",
       "  <thead>\n",
       "    <tr style=\"text-align: right;\">\n",
       "      <th></th>\n",
       "      <th>hike</th>\n",
       "      <th>touringbicycle</th>\n",
       "      <th>racebike</th>\n",
       "      <th>mtb</th>\n",
       "      <th>mtb_easy</th>\n",
       "      <th>jogging</th>\n",
       "    </tr>\n",
       "  </thead>\n",
       "  <tbody>\n",
       "    <tr>\n",
       "      <th>DE</th>\n",
       "      <td>0.415390</td>\n",
       "      <td>0.231003</td>\n",
       "      <td>0.113761</td>\n",
       "      <td>0.137484</td>\n",
       "      <td>0.058780</td>\n",
       "      <td>0.025383</td>\n",
       "    </tr>\n",
       "    <tr>\n",
       "      <th>GB</th>\n",
       "      <td>0.347494</td>\n",
       "      <td>0.169924</td>\n",
       "      <td>0.214832</td>\n",
       "      <td>0.113727</td>\n",
       "      <td>0.109601</td>\n",
       "      <td>0.034470</td>\n",
       "    </tr>\n",
       "    <tr>\n",
       "      <th>AT</th>\n",
       "      <td>0.476531</td>\n",
       "      <td>0.134908</td>\n",
       "      <td>0.092633</td>\n",
       "      <td>0.160398</td>\n",
       "      <td>0.037613</td>\n",
       "      <td>0.026111</td>\n",
       "    </tr>\n",
       "    <tr>\n",
       "      <th>ES</th>\n",
       "      <td>0.285034</td>\n",
       "      <td>0.113728</td>\n",
       "      <td>0.223412</td>\n",
       "      <td>0.167975</td>\n",
       "      <td>0.152986</td>\n",
       "      <td>0.041875</td>\n",
       "    </tr>\n",
       "    <tr>\n",
       "      <th>IT</th>\n",
       "      <td>0.232151</td>\n",
       "      <td>0.177322</td>\n",
       "      <td>0.190387</td>\n",
       "      <td>0.208586</td>\n",
       "      <td>0.135558</td>\n",
       "      <td>0.020999</td>\n",
       "    </tr>\n",
       "    <tr>\n",
       "      <th>FR</th>\n",
       "      <td>0.196194</td>\n",
       "      <td>0.203897</td>\n",
       "      <td>0.297236</td>\n",
       "      <td>0.098324</td>\n",
       "      <td>0.156321</td>\n",
       "      <td>0.031717</td>\n",
       "    </tr>\n",
       "  </tbody>\n",
       "</table>\n",
       "</div>"
      ],
      "text/plain": [
       "        hike  touringbicycle  racebike       mtb  mtb_easy   jogging\n",
       "DE  0.415390        0.231003  0.113761  0.137484  0.058780  0.025383\n",
       "GB  0.347494        0.169924  0.214832  0.113727  0.109601  0.034470\n",
       "AT  0.476531        0.134908  0.092633  0.160398  0.037613  0.026111\n",
       "ES  0.285034        0.113728  0.223412  0.167975  0.152986  0.041875\n",
       "IT  0.232151        0.177322  0.190387  0.208586  0.135558  0.020999\n",
       "FR  0.196194        0.203897  0.297236  0.098324  0.156321  0.031717"
      ]
     },
     "execution_count": 218,
     "metadata": {},
     "output_type": "execute_result"
    }
   ],
   "source": [
    "import seaborn as sns\n",
    "\n",
    "# Definizione delle categorie di sport\n",
    "categorie_sport = ['hike', 'touringbicycle', 'racebike', 'mtb', 'mtb_easy', 'jogging']\n",
    "\n",
    "# Definizione dei bins di km\n",
    "paesi = ['DE', 'GB', 'AT', 'ES', 'IT', 'FR']\n",
    "\n",
    "# Creazione del dataframe vuoto\n",
    "df_sport_paesi = pd.DataFrame(columns=categorie_sport, index=paesi)\n",
    "\n",
    "# Calcolo delle percentuali\n",
    "for paese in paesi:\n",
    "    nodi_paese = [node for node in g.nodes() if g.nodes[node]['country'] == paese]\n",
    "    for categoria in categorie_sport:\n",
    "        filtered_nodes = [node for node in nodi_paese if g.nodes[node]['sport'] == categoria]\n",
    "        df_sport_paesi.loc[paese, categoria] = float(len(filtered_nodes) / len(nodi_paese))\n",
    "        \n",
    "df_sport_paesi = df_sport_paesi.apply(pd.to_numeric)\n",
    "df_sport_paesi"
   ]
  },
  {
   "cell_type": "code",
   "execution_count": 220,
   "metadata": {},
   "outputs": [
    {
     "data": {
      "image/png": "[encoded data removed]",
      "text/plain": [
       "<Figure size 640x480 with 2 Axes>"
      ]
     },
     "metadata": {},
     "output_type": "display_data"
    }
   ],
   "source": [
    "import seaborn as sns\n",
    "\n",
    "p1 = sns.heatmap(df_sport_paesi, annot = True)"
   ]
  },
  {
   "cell_type": "markdown",
   "metadata": {},
   "source": [
    "## Correlazione tra centralità e paese"
   ]
  },
  {
   "cell_type": "markdown",
   "metadata": {},
   "source": [
    "Komoot è una piattaforma tedesca. Vediamo se questa caratteristica si ripercuote anche sulla nazionalità degli utenti più centrali. Usiamo la **indegree centrality**."
   ]
  },
  {
   "cell_type": "code",
   "execution_count": 269,
   "metadata": {},
   "outputs": [
    {
     "data": {
      "text/plain": [
       "{'DE': 0.05616833506631623,\n",
       " 'Unknown': -0.08339537540690938,\n",
       " 'GB': -0.022450638752183612,\n",
       " 'IT': 0.01619317990090649,\n",
       " 'ES': 0.005620247106776544,\n",
       " 'AT': 0.017380859870287507,\n",
       " 'FR': -0.002961715130053248,\n",
       " 'NL': 0.009474312248664976,\n",
       " 'CH': 0.0009382159150547233,\n",
       " 'BE': -0.0037853844830806537,\n",
       " 'US': 0.0023059762865948563,\n",
       " 'PT': -0.0025573072452313053,\n",
       " 'CZ': 0.0048880425817536,\n",
       " 'PL': -0.005880877489233564,\n",
       " 'DK': 0.008536301499035072,\n",
       " 'SE': -0.0015156932346385825,\n",
       " 'NO': -0.003793091975565678,\n",
       " 'IE': 0.0008980864547034786,\n",
       " 'SI': -0.0036868225445803814,\n",
       " 'GR': 0.00975818515871155,\n",
       " 'HR': 0.006838804851199414,\n",
       " 'CA': 0.0015986278998108433,\n",
       " 'RO': -0.002986501983922974,\n",
       " 'MA': 0.004588703717521319,\n",
       " 'AU': -0.003396019641289646,\n",
       " 'FI': -0.0016247429132968585,\n",
       " 'MX': 0.0009113600447267725,\n",
       " 'HU': -0.0012860028795400433,\n",
       " 'ID': -0.002903806436734692,\n",
       " 'CO': -0.002955750799654988,\n",
       " 'LU': 0.0009626355154236905,\n",
       " 'ZA': 0.005352595687274664,\n",
       " 'TR': 0.001484159532565824,\n",
       " 'IN': 0.007394291660727214,\n",
       " 'JP': 0.0027176355215340112,\n",
       " 'TH': 0.00016657620457718965,\n",
       " 'IR': 0.0009639183821381643,\n",
       " 'NZ': -0.0016107721786792764,\n",
       " 'IS': 0.0008584766368311519,\n",
       " 'SK': 0.00017017741857270247,\n",
       " 'KR': -0.0008764645190070375,\n",
       " 'BG': 0.0030554193166772796,\n",
       " 'BR': 0.005324425314940721,\n",
       " 'CY': 0.002191466251428006,\n",
       " 'AR': -0.002656823340072999,\n",
       " 'RU': -0.0022828921275887316,\n",
       " 'LK': -0.0018301595740200546,\n",
       " 'GE': -0.001960130474465399,\n",
       " 'UA': -0.0022806138151702233,\n",
       " 'ME': -0.0027421470812610377,\n",
       " 'NP': -0.0007635126068219607,\n",
       " 'CN': -0.0015467220862873967,\n",
       " 'RS': 0.0009100823861405864,\n",
       " 'LT': 0.012551048544088245,\n",
       " 'CL': -0.0018489480222793734,\n",
       " 'AL': 0.00024979149478004535,\n",
       " 'MT': 0.0003678986936062089,\n",
       " 'AD': -0.00212558569576043,\n",
       " 'KE': 0.032133859009221666,\n",
       " 'TW': -0.001358336818342155,\n",
       " 'IL': -0.0024082594513683314,\n",
       " 'PE': -0.002221824591298227,\n",
       " 'EC': -0.0020746391754531096,\n",
       " 'MY': -0.001662520011088269,\n",
       " 'LV': -0.002121367620509773,\n",
       " 'PH': -3.610857196307779e-05,\n",
       " 'SG': -0.0027662930994418367,\n",
       " 'VN': -0.001379703319738098,\n",
       " 'BA': -0.0014226983516669159,\n",
       " 'KG': -0.000519802681162046,\n",
       " 'JO': 0.0008121037985587122,\n",
       " 'AM': -0.0011480051148232715,\n",
       " 'EG': 0.0009933855477734584,\n",
       " 'AE': -0.0021906057637912446,\n",
       " 'LI': -0.0005941916675525602,\n",
       " 'RW': -0.00017024188526836798,\n",
       " 'KH': -0.0007997430771452911,\n",
       " 'LA': -0.0020150424565231295,\n",
       " 'EE': -0.0021260521566094353,\n",
       " 'DO': -0.0013489842560072648,\n",
       " 'TZ': -0.0008355643931103308,\n",
       " 'TN': 0.002050687809124429,\n",
       " 'KZ': -0.0012643746801295696,\n",
       " 'NA': -0.0009201505395409405,\n",
       " 'CR': -0.0014299882654552594,\n",
       " 'HK': -0.0017188963101400665,\n",
       " 'MK': 0.03259318264382647,\n",
       " 'DZ': 4.854113969587199e-05,\n",
       " 'VE': -0.0013110261294088587,\n",
       " 'SC': -0.0007281860100791851,\n",
       " 'RE': -0.000571197763115713,\n",
       " 'BO': -0.0013561389979331116,\n",
       " 'GP': -0.0013757625288035684,\n",
       " 'UG': -0.0007870566026903739,\n",
       " 'NI': -0.0016308684301192442,\n",
       " 'AZ': -0.0005711977631155226,\n",
       " 'JE': -0.0012776448744514174,\n",
       " 'MG': -0.0008655507261720968,\n",
       " 'PK': -0.0007478095409494639,\n",
       " 'BY': 0.0018424965339500978,\n",
       " 'CI': 0.01771793300812588,\n",
       " 'MW': 0.0003511081877951545,\n",
       " 'SM': -0.001011140760430464,\n",
       " 'TM': -0.0007227368800179375,\n",
       " 'LB': -0.0013235782975439016,\n",
       " 'PR': -0.0005064339697085763,\n",
       " 'SA': -0.0011553427006367057,\n",
       " 'BT': -0.0006506359099148079,\n",
       " 'CV': -0.00038626568620337234,\n",
       " 'MU': 0.0016806287900858483,\n",
       " 'CU': -0.00041029934290442527,\n",
       " 'OM': -0.0012514773274408494,\n",
       " 'TJ': -0.0007467705367190052,\n",
       " 'PS': -0.0012995446408429797,\n",
       " 'FO': -0.0009390397903273934,\n",
       " 'AN': -0.0008849221366003447,\n",
       " 'IQ': 0.00033866364859465596,\n",
       " 'QA': -0.0001711637619032488,\n",
       " 'NC': -0.0008509336425671424,\n",
       " 'AW': -0.0007149796664343632,\n",
       " 'GA': 0.001698203409922578,\n",
       " 'PF': -0.0006470026783679644,\n",
       " 'SL': -0.0006809911724011591,\n",
       " 'GG': 0.002751846724952369,\n",
       " 'GT': 0.00016872117842869677,\n",
       " 'PA': -0.000952899124666578,\n",
       " 'KW': -0.0009189106306333941,\n",
       " 'MM': -0.0005450371962683551,\n",
       " 'SV': -0.0007489681604675241,\n",
       " 'NG': 0.0016302264218562772,\n",
       " 'MQ': -0.0007829566545006785,\n",
       " 'GL': -0.0007149796664342993,\n",
       " 'GI': -0.0003411062320692902,\n",
       " 'UZ': -0.0006470026783679034,\n",
       " 'SJ': -0.0009528991246664693,\n",
       " 'SD': 0.0007465255769930992,\n",
       " 'ET': 0.0019021343741219394,\n",
       " 'IM': -0.0009528991246664435,\n",
       " 'BW': -0.000782956654500556,\n",
       " 'AG': -0.0006130141843346421,\n",
       " 'GH': 0.0005086061187603864,\n",
       " 'SO': 0.0014602839516904753,\n",
       " 'MN': -0.0006809911724010254}"
      ]
     },
     "execution_count": 269,
     "metadata": {},
     "output_type": "execute_result"
    }
   ],
   "source": [
    "from scipy import stats\n",
    "\n",
    "degree_centrality = nx.degree_centrality(g)\n",
    "attributi_country = nx.get_node_attributes(g, \"country\")\n",
    "corr = dict()\n",
    "\n",
    "countries = list()\n",
    "for country in countries_list:\n",
    "    countries.append(country[0])\n",
    "\n",
    "for country in countries:\n",
    "    centralita = []  # Lista per memorizzare la centralità dei nodi\n",
    "    attributi_categorici = []  # Lista per memorizzare gli attributi \"country\"\n",
    "\n",
    "    for nodo in g.nodes():\n",
    "        centralita.append(degree_centrality[nodo])\n",
    "        if attributi_country[nodo] == country:\n",
    "            attributi_categorici.append(1)\n",
    "        else:\n",
    "            attributi_categorici.append(0)\n",
    "\n",
    "    correlazione, p_value = stats.pointbiserialr(attributi_categorici, centralita)\n",
    "    corr[country] = correlazione\n",
    "\n",
    "corr"
   ]
  },
  {
   "cell_type": "code",
   "execution_count": 281,
   "metadata": {},
   "outputs": [
    {
     "name": "stdout",
     "output_type": "stream",
     "text": [
      "Unknown -0.08339537540690938\n",
      "GB -0.022450638752183612\n",
      "PL -0.005880877489233564\n",
      "NO -0.003793091975565678\n",
      "BE -0.0037853844830806537\n",
      "SI -0.0036868225445803814\n",
      "AU -0.003396019641289646\n",
      "RO -0.002986501983922974\n",
      "FR -0.002961715130053248\n",
      "CO -0.002955750799654988\n"
     ]
    }
   ],
   "source": [
    "for key in sorted(corr.items(), key=lambda item: item[1])[:10]:\n",
    "    print(f'{key[0]} {corr[key[0]]}')"
   ]
  },
  {
   "cell_type": "code",
   "execution_count": 285,
   "metadata": {},
   "outputs": [
    {
     "name": "stdout",
     "output_type": "stream",
     "text": [
      "DK 0.008536301499035072\n",
      "NL 0.009474312248664976\n",
      "GR 0.00975818515871155\n",
      "LT 0.012551048544088245\n",
      "IT 0.01619317990090649\n",
      "AT 0.017380859870287507\n",
      "CI 0.01771793300812588\n",
      "KE 0.032133859009221666\n",
      "MK 0.03259318264382647\n",
      "DE 0.05616833506631623\n"
     ]
    }
   ],
   "source": [
    "for key in sorted(corr.items(), key=lambda item: item[1])[-10:]:\n",
    "    print(f'{key[0]} {corr[key[0]]}')"
   ]
  },
  {
   "cell_type": "markdown",
   "metadata": {},
   "source": [
    "## Correlazione tra centralità e km percorsi"
   ]
  },
  {
   "cell_type": "markdown",
   "metadata": {},
   "source": [
    "È plausibile che i nodi con più km percorsi siano anche quelli più centrali. Questo in quanto non si tratta dei km percorsi totali (cioè quelli che si registrano usando l'app) ma di quelli pubblicati. Questa differenza è importante in quanto ci stiamo chiedendo se chi pubblica di più è più centrale."
   ]
  },
  {
   "cell_type": "code",
   "execution_count": 287,
   "metadata": {},
   "outputs": [
    {
     "data": {
      "text/plain": [
       "0.18339990721995728"
      ]
     },
     "execution_count": 287,
     "metadata": {},
     "output_type": "execute_result"
    }
   ],
   "source": [
    "degree_centrality = nx.degree_centrality(g)\n",
    "attributi = nx.get_node_attributes(g, \"km\")\n",
    "corr_km = dict()\n",
    "\n",
    "centralita = []  # Lista per memorizzare la centralità dei nodi\n",
    "km = []  # Lista per memorizzare gli attributi \"km\"\n",
    "\n",
    "for nodo in g.nodes():\n",
    "    centralita.append(degree_centrality[nodo])\n",
    "    km.append(attributi[nodo])\n",
    "\n",
    "correlazione, p_value = stats.pearsonr(km, centralita)\n",
    "correlazione"
   ]
  },
  {
   "cell_type": "markdown",
   "metadata": {},
   "source": [
    "## Assortatività"
   ]
  },
  {
   "cell_type": "markdown",
   "metadata": {},
   "source": [
    "Calcoliamo l'assortatività sull'attributo \"country\""
   ]
  },
  {
   "cell_type": "code",
   "execution_count": 289,
   "metadata": {},
   "outputs": [
    {
     "data": {
      "text/plain": [
       "0.39281956301023974"
      ]
     },
     "execution_count": 289,
     "metadata": {},
     "output_type": "execute_result"
    }
   ],
   "source": [
    "nx.attribute_assortativity_coefficient(g,attribute=\"country\")"
   ]
  },
  {
   "cell_type": "markdown",
   "metadata": {},
   "source": [
    "È abbastanza alta! Calcoliamola anche sul numero di KM percorsi"
   ]
  },
  {
   "cell_type": "code",
   "execution_count": 291,
   "metadata": {},
   "outputs": [
    {
     "data": {
      "text/plain": [
       "0.01779364899031746"
      ]
     },
     "execution_count": 291,
     "metadata": {},
     "output_type": "execute_result"
    }
   ],
   "source": [
    "nx.numeric_assortativity_coefficient(g,attribute=\"km\")"
   ]
  },
  {
   "cell_type": "markdown",
   "metadata": {},
   "source": [
    "In questo caso invece non si nota una grande assortatività. Infine calcoliamolo anche sul tipo di sport"
   ]
  },
  {
   "cell_type": "code",
   "execution_count": 292,
   "metadata": {},
   "outputs": [
    {
     "data": {
      "text/plain": [
       "0.19533193151889125"
      ]
     },
     "execution_count": 292,
     "metadata": {},
     "output_type": "execute_result"
    }
   ],
   "source": [
    "nx.attribute_assortativity_coefficient(g,attribute=\"sport\")"
   ]
  },
  {
   "cell_type": "markdown",
   "metadata": {},
   "source": [
    "Non è nulla ma comunque rilevante. Infine calcoliamo la degree assortativity."
   ]
  },
  {
   "cell_type": "code",
   "execution_count": 293,
   "metadata": {},
   "outputs": [
    {
     "data": {
      "text/plain": [
       "-0.09857265054679418"
      ]
     },
     "execution_count": 293,
     "metadata": {},
     "output_type": "execute_result"
    }
   ],
   "source": [
    "nx.degree_assortativity_coefficient(g)"
   ]
  },
  {
   "cell_type": "markdown",
   "metadata": {},
   "source": [
    "# Analisi della rete italiana\n",
    "![](gephi/komoot-italy.png)"
   ]
  },
  {
   "cell_type": "markdown",
   "metadata": {},
   "source": [
    "Vediamo alcune delle misure più interessanti sulla rete italiana"
   ]
  },
  {
   "cell_type": "code",
   "execution_count": 10,
   "metadata": {},
   "outputs": [],
   "source": [
    "g = nx.read_graphml(\"graphs/komoot-network-100000-attributes.graphml\")"
   ]
  },
  {
   "cell_type": "code",
   "execution_count": 11,
   "metadata": {},
   "outputs": [],
   "source": [
    "nodes_it = (node for node, data in g.nodes(data=True) if data.get(\"country\") == \"IT\")\n",
    "g = g.subgraph(nodes_it)"
   ]
  },
  {
   "cell_type": "code",
   "execution_count": 12,
   "metadata": {},
   "outputs": [
    {
     "name": "stdout",
     "output_type": "stream",
     "text": [
      "Numero di nodi: 4286\n",
      "Numero di archi: 35676\n",
      "DiGraph with 4286 nodes and 35676 edges\n"
     ]
    }
   ],
   "source": [
    "print(f\"Numero di nodi: {g.order()}\\nNumero di archi: {g.size()}\")\n",
    "print(g)"
   ]
  },
  {
   "cell_type": "code",
   "execution_count": 13,
   "metadata": {},
   "outputs": [
    {
     "name": "stdout",
     "output_type": "stream",
     "text": [
      "Density: 0.0019425542770116376\n"
     ]
    }
   ],
   "source": [
    "print(f'Density: {nx.density(g)}')"
   ]
  },
  {
   "cell_type": "code",
   "execution_count": 14,
   "metadata": {},
   "outputs": [
    {
     "name": "stdout",
     "output_type": "stream",
     "text": [
      "Grado medio: 8.323845076994868\n",
      "Standard deviation: 29.74757115309467\n",
      "Median: 2.0\n",
      "Min: 0\n",
      "Max: 543\n"
     ]
    }
   ],
   "source": [
    "degree_list =list(dict(g.in_degree()).values())\n",
    "print(f'Grado medio: {np.mean(degree_list)}')\n",
    "print(f'Standard deviation: {np.std(degree_list)}')\n",
    "print(f'Median: {np.median(degree_list)}')\n",
    "print(f'Min: {np.min(degree_list)}')\n",
    "print(f'Max: {np.max(degree_list)}')"
   ]
  },
  {
   "cell_type": "code",
   "execution_count": 15,
   "metadata": {},
   "outputs": [
    {
     "data": {
      "text/plain": [
       "[('691888089690', 0.1267),\n",
       " ('gravelclubit', 0.1116),\n",
       " ('742977103995', 0.1099),\n",
       " ('529530185629', 0.106),\n",
       " ('330965983608', 0.0922)]"
      ]
     },
     "execution_count": 15,
     "metadata": {},
     "output_type": "execute_result"
    }
   ],
   "source": [
    "#InDegree Centrality\n",
    "degree=dict(g.in_degree())\n",
    "degree_centrality = {n: round(c/(g.order()-1),4) for n,c in degree.items()}\n",
    "node_d_centr = list(degree_centrality.items())\n",
    "node_d_centr.sort(key = lambda x: x[1], reverse = True)\n",
    "node_d_centr[:5]"
   ]
  },
  {
   "cell_type": "code",
   "execution_count": 16,
   "metadata": {},
   "outputs": [
    {
     "data": {
      "text/plain": [
       "[('691888089690', 0.3405729320717798),\n",
       " ('komoot', 0.32392550699104244),\n",
       " ('742977103995', 0.3178208542078736),\n",
       " ('529530185629', 0.317202445489088),\n",
       " ('330965983608', 0.31548363466331814)]"
      ]
     },
     "execution_count": 16,
     "metadata": {},
     "output_type": "execute_result"
    }
   ],
   "source": [
    "#Closeness centrality\n",
    "closeness_centrality = nx.closeness_centrality(g)\n",
    "node_c_centr = list(closeness_centrality.items())\n",
    "node_c_centr.sort(key = lambda x: x[1], reverse = True)\n",
    "node_c_centr[:5]"
   ]
  },
  {
   "cell_type": "code",
   "execution_count": 17,
   "metadata": {},
   "outputs": [
    {
     "data": {
      "text/plain": [
       "[('2207069696217', 0.10263621497426892),\n",
       " ('774422835486', 0.06197633981852662),\n",
       " ('812293853181', 0.03885506856187293),\n",
       " ('919246440735', 0.038411987216741786),\n",
       " ('1755113940914', 0.03764075090988107)]"
      ]
     },
     "execution_count": 17,
     "metadata": {},
     "output_type": "execute_result"
    }
   ],
   "source": [
    "#Betweeness centrality\n",
    "betweenness_centrality=nx.betweenness_centrality(g)\n",
    "node_b_centr = list(betweenness_centrality.items())\n",
    "node_b_centr.sort(key = lambda x: x[1], reverse = True)\n",
    "node_b_centr[:5]"
   ]
  },
  {
   "cell_type": "code",
   "execution_count": 18,
   "metadata": {},
   "outputs": [
    {
     "data": {
      "text/plain": [
       "[('529530185629', 0.22475894086386106),\n",
       " ('330965983608', 0.21569511876053496),\n",
       " ('995149512812', 0.19305409952602423),\n",
       " ('691888089690', 0.1912784970428975),\n",
       " ('gravelclubit', 0.18368965508254595)]"
      ]
     },
     "execution_count": 18,
     "metadata": {},
     "output_type": "execute_result"
    }
   ],
   "source": [
    "#Eigenvector cenrality\n",
    "eigenvector_centrality = nx.eigenvector_centrality(g,200)\n",
    "node_e_centr = list(eigenvector_centrality.items())\n",
    "node_e_centr.sort(key = lambda x: x[1], reverse = True)\n",
    "node_e_centr[:5]"
   ]
  },
  {
   "cell_type": "code",
   "execution_count": 21,
   "metadata": {},
   "outputs": [
    {
     "data": {
      "image/png": "[encoded data removed]",
      "text/plain": [
       "<Figure size 1000x500 with 2 Axes>"
      ]
     },
     "metadata": {},
     "output_type": "display_data"
    }
   ],
   "source": [
    "import scipy\n",
    "import seaborn as sns\n",
    "\n",
    "all_centr = [degree_centrality, closeness_centrality, betweenness_centrality, eigenvector_centrality]\n",
    "ranks = [[scipy.stats.weightedtau(list(c1.values()), list(c2.values()))[0] for c1 in all_centr] for c2 in all_centr]\n",
    "centralities = ['degree', 'closeness','betweenness','eigenvector']\n",
    "plt.figure(figsize = (10,5))\n",
    "sns.heatmap(pd.DataFrame(ranks),annot = True,cmap = 'coolwarm')\n",
    "plt.xticks([x+0.5 for x in range(4)],centralities, rotation = 0)\n",
    "plt.yticks([x+0.5 for x in range(4)],centralities, rotation = 0)\n",
    "plt.title('Pearson correlation\\n', weight = 'bold')\n",
    "plt.show()"
   ]
  },
  {
   "cell_type": "markdown",
   "metadata": {},
   "source": [
    "## Link prediction"
   ]
  },
  {
   "cell_type": "markdown",
   "metadata": {},
   "source": [
    "Importiamo le due reti. Sono reti ottenute in due istanti temporali diversi, a distanza di circa due settimane una dall'altra."
   ]
  },
  {
   "cell_type": "code",
   "execution_count": 89,
   "metadata": {},
   "outputs": [],
   "source": [
    "# Data preprocessing and trasformation (ETL)\n",
    "from sklearn.experimental import enable_iterative_imputer\n",
    "from sklearn.impute import SimpleImputer, IterativeImputer\n",
    "from sklearn.base import BaseEstimator, TransformerMixin\n",
    "from sklearn.preprocessing import StandardScaler, MinMaxScaler, RobustScaler, MaxAbsScaler, FunctionTransformer, Binarizer, OneHotEncoder, OrdinalEncoder\n",
    "from sklearn.pipeline import Pipeline\n",
    "from sklearn.compose import ColumnTransformer\n",
    "from sklearn.datasets import fetch_openml, load_iris, make_moons, make_classification\n",
    "\n",
    "# Supervised Learning\n",
    "from sklearn.model_selection import train_test_split, cross_val_score, cross_val_predict, KFold, StratifiedKFold, RepeatedKFold, ShuffleSplit, StratifiedShuffleSplit, learning_curve, validation_curve\n",
    "from sklearn.linear_model import Perceptron, LogisticRegression\n",
    "from sklearn.base import BaseEstimator\n",
    "from sklearn.metrics import confusion_matrix, precision_score, recall_score, f1_score, precision_recall_curve, roc_curve, accuracy_score\n",
    "from sklearn.dummy import DummyClassifier\n",
    "from sklearn.multiclass import OneVsOneClassifier, OneVsRestClassifier\n",
    "from sklearn.ensemble import RandomForestClassifier"
   ]
  },
  {
   "cell_type": "code",
   "execution_count": 41,
   "metadata": {},
   "outputs": [
    {
     "data": {
      "text/plain": [
       "(74139, 1113417)"
      ]
     },
     "execution_count": 41,
     "metadata": {},
     "output_type": "execute_result"
    }
   ],
   "source": [
    "past = nx.read_graphml(\"graphs/komoot-network-100000-attributes.graphml\")\n",
    "past.order(), past.size()"
   ]
  },
  {
   "cell_type": "code",
   "execution_count": 40,
   "metadata": {},
   "outputs": [
    {
     "data": {
      "text/plain": [
       "(77724, 1169237)"
      ]
     },
     "execution_count": 40,
     "metadata": {},
     "output_type": "execute_result"
    }
   ],
   "source": [
    "future = nx.read_graphml(\"graphs/komoot-network-100000-future-wo-leafs.graphml\")\n",
    "future.order(), future.size()"
   ]
  },
  {
   "cell_type": "markdown",
   "metadata": {},
   "source": [
    "Ora troviamo tutti quegli edge che sono presenti nella rete più recente ma non in quella passata. Nel fare questo dobbiamo stare attenti a selezionare solo quei link che si sono creati tra coppie di nodi già presenti nella rete passata."
   ]
  },
  {
   "cell_type": "code",
   "execution_count": 44,
   "metadata": {},
   "outputs": [],
   "source": [
    "positive_datapoints = np.array([{u,v} for u,v in future.edges() if not past.has_edge(u, v) and past.has_node(u) and past.has_node(v)])"
   ]
  },
  {
   "cell_type": "code",
   "execution_count": 49,
   "metadata": {},
   "outputs": [],
   "source": [
    "positive_datapoints = [(u,v) for u, v in positive_datapoints]"
   ]
  },
  {
   "cell_type": "code",
   "execution_count": 50,
   "metadata": {},
   "outputs": [
    {
     "data": {
      "text/plain": [
       "9845"
      ]
     },
     "execution_count": 50,
     "metadata": {},
     "output_type": "execute_result"
    }
   ],
   "source": [
    "len(positive_datapoints)"
   ]
  },
  {
   "cell_type": "markdown",
   "metadata": {},
   "source": [
    "Ora selezioniamo un numero uguale di link che invece non si sono formati."
   ]
  },
  {
   "cell_type": "code",
   "execution_count": 46,
   "metadata": {},
   "outputs": [],
   "source": [
    "negative_datapoints = []\n",
    "nodes_set = list(future.nodes())\n",
    "count = 0\n",
    "while count < len(positive_datapoints):\n",
    "    u,v = np.random.choice(nodes_set, replace=False, size = 2)\n",
    "    if (not future.has_edge(u,v)) and past.has_node(u) and past.has_node(v):\n",
    "        negative_datapoints.append((u,v))\n",
    "        count+=1 "
   ]
  },
  {
   "cell_type": "code",
   "execution_count": 47,
   "metadata": {},
   "outputs": [
    {
     "data": {
      "text/plain": [
       "9845"
      ]
     },
     "execution_count": 47,
     "metadata": {},
     "output_type": "execute_result"
    }
   ],
   "source": [
    "len(negative_datapoints)"
   ]
  },
  {
   "cell_type": "markdown",
   "metadata": {},
   "source": [
    "Creiamo il nostro dataset con tutte le feature e le label corrette"
   ]
  },
  {
   "cell_type": "code",
   "execution_count": 51,
   "metadata": {},
   "outputs": [],
   "source": [
    "dataset_link_prediction = pd.DataFrame()"
   ]
  },
  {
   "cell_type": "code",
   "execution_count": 52,
   "metadata": {},
   "outputs": [],
   "source": [
    "datapoints = positive_datapoints + negative_datapoints # insieme degli oggetti di cui necessito calcolare delle proprietà"
   ]
  },
  {
   "cell_type": "code",
   "execution_count": 53,
   "metadata": {},
   "outputs": [
    {
     "data": {
      "text/plain": [
       "[('385673470997', 'betty'),\n",
       " ('hohetauern', 'betty'),\n",
       " ('ferienregionnationalparkbayerischerwald', 'betty'),\n",
       " ('774010743877', '1898789994798'),\n",
       " ('774010743877', '774422835486'),\n",
       " ('774010743877', '2609581051379'),\n",
       " ('774010743877', '999599803959'),\n",
       " ('774010743877', '1392086450114'),\n",
       " ('774010743877', 'myswitzerland'),\n",
       " ('774010743877', '532193254039')]"
      ]
     },
     "execution_count": 53,
     "metadata": {},
     "output_type": "execute_result"
    }
   ],
   "source": [
    "datapoints[:10]"
   ]
  },
  {
   "cell_type": "code",
   "execution_count": 58,
   "metadata": {},
   "outputs": [],
   "source": [
    "dataset_link_prediction['jaccard'] = [j for _,_,j in nx.jaccard_coefficient(past.to_undirected(), datapoints)]"
   ]
  },
  {
   "cell_type": "code",
   "execution_count": 59,
   "metadata": {},
   "outputs": [],
   "source": [
    "dataset_link_prediction['rai'] = [j for _,_,j in nx.resource_allocation_index(past.to_undirected(), datapoints)]"
   ]
  },
  {
   "cell_type": "code",
   "execution_count": 60,
   "metadata": {},
   "outputs": [],
   "source": [
    "dataset_link_prediction['aai'] = [j for _,_,j in nx.adamic_adar_index(past.to_undirected(), datapoints)]"
   ]
  },
  {
   "cell_type": "code",
   "execution_count": 61,
   "metadata": {},
   "outputs": [],
   "source": [
    "dataset_link_prediction['pref'] = [j for _,_,j in nx.preferential_attachment(past.to_undirected(), datapoints)]"
   ]
  },
  {
   "cell_type": "code",
   "execution_count": 69,
   "metadata": {},
   "outputs": [],
   "source": [
    "dataset_link_prediction['same_country'] = [1 if past.nodes[u][\"country\"] == past.nodes[v][\"country\"] else 0 for u, v in datapoints]"
   ]
  },
  {
   "cell_type": "code",
   "execution_count": 71,
   "metadata": {},
   "outputs": [],
   "source": [
    "dataset_link_prediction['same_sport'] = [1 if past.nodes[u][\"sport\"] == past.nodes[v][\"sport\"] else 0 for u, v in datapoints]"
   ]
  },
  {
   "cell_type": "code",
   "execution_count": 77,
   "metadata": {},
   "outputs": [],
   "source": [
    "dataset_link_prediction['km_diff'] = [abs(past.nodes[u][\"km\"] - past.nodes[v][\"km\"]) for u, v in datapoints]"
   ]
  },
  {
   "cell_type": "code",
   "execution_count": 78,
   "metadata": {},
   "outputs": [
    {
     "data": {
      "text/html": [
       "<div>\n",
       "<style scoped>\n",
       "    .dataframe tbody tr th:only-of-type {\n",
       "        vertical-align: middle;\n",
       "    }\n",
       "\n",
       "    .dataframe tbody tr th {\n",
       "        vertical-align: top;\n",
       "    }\n",
       "\n",
       "    .dataframe thead th {\n",
       "        text-align: right;\n",
       "    }\n",
       "</style>\n",
       "<table border=\"1\" class=\"dataframe\">\n",
       "  <thead>\n",
       "    <tr style=\"text-align: right;\">\n",
       "      <th></th>\n",
       "      <th>jaccard</th>\n",
       "      <th>rai</th>\n",
       "      <th>aai</th>\n",
       "      <th>pref</th>\n",
       "      <th>same_country</th>\n",
       "      <th>same_sport</th>\n",
       "      <th>km_diff</th>\n",
       "    </tr>\n",
       "  </thead>\n",
       "  <tbody>\n",
       "    <tr>\n",
       "      <th>0</th>\n",
       "      <td>0.081478</td>\n",
       "      <td>1.477435</td>\n",
       "      <td>37.086708</td>\n",
       "      <td>1489146</td>\n",
       "      <td>0</td>\n",
       "      <td>0</td>\n",
       "      <td>18084</td>\n",
       "    </tr>\n",
       "    <tr>\n",
       "      <th>1</th>\n",
       "      <td>0.002232</td>\n",
       "      <td>0.004735</td>\n",
       "      <td>0.313497</td>\n",
       "      <td>18417</td>\n",
       "      <td>1</td>\n",
       "      <td>0</td>\n",
       "      <td>18084</td>\n",
       "    </tr>\n",
       "    <tr>\n",
       "      <th>2</th>\n",
       "      <td>0.006601</td>\n",
       "      <td>0.090585</td>\n",
       "      <td>1.345760</td>\n",
       "      <td>33326</td>\n",
       "      <td>0</td>\n",
       "      <td>0</td>\n",
       "      <td>18084</td>\n",
       "    </tr>\n",
       "    <tr>\n",
       "      <th>3</th>\n",
       "      <td>0.005698</td>\n",
       "      <td>0.110235</td>\n",
       "      <td>1.265011</td>\n",
       "      <td>119168</td>\n",
       "      <td>0</td>\n",
       "      <td>0</td>\n",
       "      <td>16392</td>\n",
       "    </tr>\n",
       "    <tr>\n",
       "      <th>4</th>\n",
       "      <td>0.049121</td>\n",
       "      <td>0.288593</td>\n",
       "      <td>13.336372</td>\n",
       "      <td>743869</td>\n",
       "      <td>0</td>\n",
       "      <td>0</td>\n",
       "      <td>4861</td>\n",
       "    </tr>\n",
       "    <tr>\n",
       "      <th>...</th>\n",
       "      <td>...</td>\n",
       "      <td>...</td>\n",
       "      <td>...</td>\n",
       "      <td>...</td>\n",
       "      <td>...</td>\n",
       "      <td>...</td>\n",
       "      <td>...</td>\n",
       "    </tr>\n",
       "    <tr>\n",
       "      <th>19685</th>\n",
       "      <td>0.000000</td>\n",
       "      <td>0.000000</td>\n",
       "      <td>0.000000</td>\n",
       "      <td>39</td>\n",
       "      <td>0</td>\n",
       "      <td>0</td>\n",
       "      <td>1272</td>\n",
       "    </tr>\n",
       "    <tr>\n",
       "      <th>19686</th>\n",
       "      <td>0.000000</td>\n",
       "      <td>0.000000</td>\n",
       "      <td>0.000000</td>\n",
       "      <td>16</td>\n",
       "      <td>1</td>\n",
       "      <td>0</td>\n",
       "      <td>7</td>\n",
       "    </tr>\n",
       "    <tr>\n",
       "      <th>19687</th>\n",
       "      <td>0.000000</td>\n",
       "      <td>0.000000</td>\n",
       "      <td>0.000000</td>\n",
       "      <td>12</td>\n",
       "      <td>0</td>\n",
       "      <td>0</td>\n",
       "      <td>3466</td>\n",
       "    </tr>\n",
       "    <tr>\n",
       "      <th>19688</th>\n",
       "      <td>0.000000</td>\n",
       "      <td>0.000000</td>\n",
       "      <td>0.000000</td>\n",
       "      <td>5</td>\n",
       "      <td>0</td>\n",
       "      <td>0</td>\n",
       "      <td>0</td>\n",
       "    </tr>\n",
       "    <tr>\n",
       "      <th>19689</th>\n",
       "      <td>0.000000</td>\n",
       "      <td>0.000000</td>\n",
       "      <td>0.000000</td>\n",
       "      <td>24</td>\n",
       "      <td>0</td>\n",
       "      <td>0</td>\n",
       "      <td>8212</td>\n",
       "    </tr>\n",
       "  </tbody>\n",
       "</table>\n",
       "<p>19690 rows × 7 columns</p>\n",
       "</div>"
      ],
      "text/plain": [
       "        jaccard       rai        aai     pref  same_country  same_sport   \n",
       "0      0.081478  1.477435  37.086708  1489146             0           0  \\\n",
       "1      0.002232  0.004735   0.313497    18417             1           0   \n",
       "2      0.006601  0.090585   1.345760    33326             0           0   \n",
       "3      0.005698  0.110235   1.265011   119168             0           0   \n",
       "4      0.049121  0.288593  13.336372   743869             0           0   \n",
       "...         ...       ...        ...      ...           ...         ...   \n",
       "19685  0.000000  0.000000   0.000000       39             0           0   \n",
       "19686  0.000000  0.000000   0.000000       16             1           0   \n",
       "19687  0.000000  0.000000   0.000000       12             0           0   \n",
       "19688  0.000000  0.000000   0.000000        5             0           0   \n",
       "19689  0.000000  0.000000   0.000000       24             0           0   \n",
       "\n",
       "       km_diff  \n",
       "0        18084  \n",
       "1        18084  \n",
       "2        18084  \n",
       "3        16392  \n",
       "4         4861  \n",
       "...        ...  \n",
       "19685     1272  \n",
       "19686        7  \n",
       "19687     3466  \n",
       "19688        0  \n",
       "19689     8212  \n",
       "\n",
       "[19690 rows x 7 columns]"
      ]
     },
     "execution_count": 78,
     "metadata": {},
     "output_type": "execute_result"
    }
   ],
   "source": [
    "dataset_link_prediction"
   ]
  },
  {
   "cell_type": "markdown",
   "metadata": {},
   "source": [
    "Ora aggiungiamo le etichette"
   ]
  },
  {
   "cell_type": "code",
   "execution_count": 79,
   "metadata": {},
   "outputs": [],
   "source": [
    "dataset_link_prediction['label'] = [1 for _ in range(len(positive_datapoints))] + [0 for _ in range(len(negative_datapoints))]"
   ]
  },
  {
   "cell_type": "code",
   "execution_count": 80,
   "metadata": {},
   "outputs": [
    {
     "data": {
      "text/html": [
       "<div>\n",
       "<style scoped>\n",
       "    .dataframe tbody tr th:only-of-type {\n",
       "        vertical-align: middle;\n",
       "    }\n",
       "\n",
       "    .dataframe tbody tr th {\n",
       "        vertical-align: top;\n",
       "    }\n",
       "\n",
       "    .dataframe thead th {\n",
       "        text-align: right;\n",
       "    }\n",
       "</style>\n",
       "<table border=\"1\" class=\"dataframe\">\n",
       "  <thead>\n",
       "    <tr style=\"text-align: right;\">\n",
       "      <th></th>\n",
       "      <th>jaccard</th>\n",
       "      <th>rai</th>\n",
       "      <th>aai</th>\n",
       "      <th>pref</th>\n",
       "      <th>same_country</th>\n",
       "      <th>same_sport</th>\n",
       "      <th>km_diff</th>\n",
       "      <th>label</th>\n",
       "    </tr>\n",
       "  </thead>\n",
       "  <tbody>\n",
       "    <tr>\n",
       "      <th>0</th>\n",
       "      <td>0.081478</td>\n",
       "      <td>1.477435</td>\n",
       "      <td>37.086708</td>\n",
       "      <td>1489146</td>\n",
       "      <td>0</td>\n",
       "      <td>0</td>\n",
       "      <td>18084</td>\n",
       "      <td>1</td>\n",
       "    </tr>\n",
       "    <tr>\n",
       "      <th>1</th>\n",
       "      <td>0.002232</td>\n",
       "      <td>0.004735</td>\n",
       "      <td>0.313497</td>\n",
       "      <td>18417</td>\n",
       "      <td>1</td>\n",
       "      <td>0</td>\n",
       "      <td>18084</td>\n",
       "      <td>1</td>\n",
       "    </tr>\n",
       "    <tr>\n",
       "      <th>2</th>\n",
       "      <td>0.006601</td>\n",
       "      <td>0.090585</td>\n",
       "      <td>1.345760</td>\n",
       "      <td>33326</td>\n",
       "      <td>0</td>\n",
       "      <td>0</td>\n",
       "      <td>18084</td>\n",
       "      <td>1</td>\n",
       "    </tr>\n",
       "    <tr>\n",
       "      <th>3</th>\n",
       "      <td>0.005698</td>\n",
       "      <td>0.110235</td>\n",
       "      <td>1.265011</td>\n",
       "      <td>119168</td>\n",
       "      <td>0</td>\n",
       "      <td>0</td>\n",
       "      <td>16392</td>\n",
       "      <td>1</td>\n",
       "    </tr>\n",
       "    <tr>\n",
       "      <th>4</th>\n",
       "      <td>0.049121</td>\n",
       "      <td>0.288593</td>\n",
       "      <td>13.336372</td>\n",
       "      <td>743869</td>\n",
       "      <td>0</td>\n",
       "      <td>0</td>\n",
       "      <td>4861</td>\n",
       "      <td>1</td>\n",
       "    </tr>\n",
       "    <tr>\n",
       "      <th>...</th>\n",
       "      <td>...</td>\n",
       "      <td>...</td>\n",
       "      <td>...</td>\n",
       "      <td>...</td>\n",
       "      <td>...</td>\n",
       "      <td>...</td>\n",
       "      <td>...</td>\n",
       "      <td>...</td>\n",
       "    </tr>\n",
       "    <tr>\n",
       "      <th>19685</th>\n",
       "      <td>0.000000</td>\n",
       "      <td>0.000000</td>\n",
       "      <td>0.000000</td>\n",
       "      <td>39</td>\n",
       "      <td>0</td>\n",
       "      <td>0</td>\n",
       "      <td>1272</td>\n",
       "      <td>0</td>\n",
       "    </tr>\n",
       "    <tr>\n",
       "      <th>19686</th>\n",
       "      <td>0.000000</td>\n",
       "      <td>0.000000</td>\n",
       "      <td>0.000000</td>\n",
       "      <td>16</td>\n",
       "      <td>1</td>\n",
       "      <td>0</td>\n",
       "      <td>7</td>\n",
       "      <td>0</td>\n",
       "    </tr>\n",
       "    <tr>\n",
       "      <th>19687</th>\n",
       "      <td>0.000000</td>\n",
       "      <td>0.000000</td>\n",
       "      <td>0.000000</td>\n",
       "      <td>12</td>\n",
       "      <td>0</td>\n",
       "      <td>0</td>\n",
       "      <td>3466</td>\n",
       "      <td>0</td>\n",
       "    </tr>\n",
       "    <tr>\n",
       "      <th>19688</th>\n",
       "      <td>0.000000</td>\n",
       "      <td>0.000000</td>\n",
       "      <td>0.000000</td>\n",
       "      <td>5</td>\n",
       "      <td>0</td>\n",
       "      <td>0</td>\n",
       "      <td>0</td>\n",
       "      <td>0</td>\n",
       "    </tr>\n",
       "    <tr>\n",
       "      <th>19689</th>\n",
       "      <td>0.000000</td>\n",
       "      <td>0.000000</td>\n",
       "      <td>0.000000</td>\n",
       "      <td>24</td>\n",
       "      <td>0</td>\n",
       "      <td>0</td>\n",
       "      <td>8212</td>\n",
       "      <td>0</td>\n",
       "    </tr>\n",
       "  </tbody>\n",
       "</table>\n",
       "<p>19690 rows × 8 columns</p>\n",
       "</div>"
      ],
      "text/plain": [
       "        jaccard       rai        aai     pref  same_country  same_sport   \n",
       "0      0.081478  1.477435  37.086708  1489146             0           0  \\\n",
       "1      0.002232  0.004735   0.313497    18417             1           0   \n",
       "2      0.006601  0.090585   1.345760    33326             0           0   \n",
       "3      0.005698  0.110235   1.265011   119168             0           0   \n",
       "4      0.049121  0.288593  13.336372   743869             0           0   \n",
       "...         ...       ...        ...      ...           ...         ...   \n",
       "19685  0.000000  0.000000   0.000000       39             0           0   \n",
       "19686  0.000000  0.000000   0.000000       16             1           0   \n",
       "19687  0.000000  0.000000   0.000000       12             0           0   \n",
       "19688  0.000000  0.000000   0.000000        5             0           0   \n",
       "19689  0.000000  0.000000   0.000000       24             0           0   \n",
       "\n",
       "       km_diff  label  \n",
       "0        18084      1  \n",
       "1        18084      1  \n",
       "2        18084      1  \n",
       "3        16392      1  \n",
       "4         4861      1  \n",
       "...        ...    ...  \n",
       "19685     1272      0  \n",
       "19686        7      0  \n",
       "19687     3466      0  \n",
       "19688        0      0  \n",
       "19689     8212      0  \n",
       "\n",
       "[19690 rows x 8 columns]"
      ]
     },
     "execution_count": 80,
     "metadata": {},
     "output_type": "execute_result"
    }
   ],
   "source": [
    "dataset_link_prediction"
   ]
  },
  {
   "cell_type": "markdown",
   "metadata": {},
   "source": [
    "Ora che abbiamo il dataset possiamo dividerlo nella feature matrix e nelle label. Inoltre dobbiamo dividerlo nel dataset di training e in quello di test."
   ]
  },
  {
   "cell_type": "code",
   "execution_count": 81,
   "metadata": {},
   "outputs": [],
   "source": [
    "X = dataset_link_prediction[['jaccard','rai','aai','pref','same_country','same_sport','km_diff']] #feature matrix\n",
    "y = dataset_link_prediction['label'] # label"
   ]
  },
  {
   "cell_type": "code",
   "execution_count": 82,
   "metadata": {},
   "outputs": [
    {
     "data": {
      "text/plain": [
       "((19690, 7), (19690,))"
      ]
     },
     "execution_count": 82,
     "metadata": {},
     "output_type": "execute_result"
    }
   ],
   "source": [
    "X.shape, y.shape"
   ]
  },
  {
   "cell_type": "code",
   "execution_count": 86,
   "metadata": {},
   "outputs": [],
   "source": [
    "X_train, X_test, y_train, y_test = train_test_split(X, y, test_size=0.3, shuffle=True, random_state=42)"
   ]
  },
  {
   "cell_type": "code",
   "execution_count": 87,
   "metadata": {},
   "outputs": [
    {
     "data": {
      "text/plain": [
       "(13783, 7)"
      ]
     },
     "execution_count": 87,
     "metadata": {},
     "output_type": "execute_result"
    }
   ],
   "source": [
    "X_train.shape"
   ]
  },
  {
   "cell_type": "markdown",
   "metadata": {},
   "source": [
    "Alcuni algoritmi di apprendimento non gestiscono correttamente feature che hanno range di variazione differenti tra loro. Per questo motivo e' sempre consigliato eseguire uno scaling, in modo da riportare tutte le feature in un range di variazione ridotto. Solitamente i range più utilizzati sono [0,1] oppure centrati attorno allo zero mediante standardizzazione.\n",
    "\n",
    "In questo caso riportiamo tutte le feature nel range [0,1] mediante min-max scaling."
   ]
  },
  {
   "cell_type": "code",
   "execution_count": 91,
   "metadata": {},
   "outputs": [],
   "source": [
    "ct = ColumnTransformer([\n",
    "    ('minmax',MinMaxScaler(),['jaccard','rai','aai','pref', 'km_diff'])\n",
    "]\n",
    ")"
   ]
  },
  {
   "cell_type": "markdown",
   "metadata": {},
   "source": [
    "Possiamo ora applicare un algoritmo di apprendimento classico per problemi di classificazione binaria: Logistic Regression. L'algoritmo viene implementato in SKL dalla classe LogisticRegression del modulo linear_model.\n",
    "\n",
    "In SKL tutti i classificatori fanno parte della famiglia dei Predictor, ossia oggetti che implementano i metodi fit e predict. Mediante il primo metodo, il predictor impara la funzione - nel caso di log reg vengono aggiornati i pesi - mentre il secondo metodo assegna le etichette a nuovi oggetti, secondo la funzione imparata durante la fase di fit."
   ]
  },
  {
   "cell_type": "code",
   "execution_count": 95,
   "metadata": {},
   "outputs": [],
   "source": [
    "link_predictor = Pipeline([\n",
    "    ('preprocessing',ct),\n",
    "    ('classifier',LogisticRegression(penalty=None))\n",
    "]\n",
    ")"
   ]
  },
  {
   "cell_type": "code",
   "execution_count": 96,
   "metadata": {},
   "outputs": [
    {
     "data": {
      "text/html": [
       "<style>#sk-container-id-2 {color: black;background-color: white;}#sk-container-id-2 pre{padding: 0;}#sk-container-id-2 div.sk-toggleable {background-color: white;}#sk-container-id-2 label.sk-toggleable__label {cursor: pointer;display: block;width: 100%;margin-bottom: 0;padding: 0.3em;box-sizing: border-box;text-align: center;}#sk-container-id-2 label.sk-toggleable__label-arrow:before {content: \"▸\";float: left;margin-right: 0.25em;color: #696969;}#sk-container-id-2 label.sk-toggleable__label-arrow:hover:before {color: black;}#sk-container-id-2 div.sk-estimator:hover label.sk-toggleable__label-arrow:before {color: black;}#sk-container-id-2 div.sk-toggleable__content {max-height: 0;max-width: 0;overflow: hidden;text-align: left;background-color: #f0f8ff;}#sk-container-id-2 div.sk-toggleable__content pre {margin: 0.2em;color: black;border-radius: 0.25em;background-color: #f0f8ff;}#sk-container-id-2 input.sk-toggleable__control:checked~div.sk-toggleable__content {max-height: 200px;max-width: 100%;overflow: auto;}#sk-container-id-2 input.sk-toggleable__control:checked~label.sk-toggleable__label-arrow:before {content: \"▾\";}#sk-container-id-2 div.sk-estimator input.sk-toggleable__control:checked~label.sk-toggleable__label {background-color: #d4ebff;}#sk-container-id-2 div.sk-label input.sk-toggleable__control:checked~label.sk-toggleable__label {background-color: #d4ebff;}#sk-container-id-2 input.sk-hidden--visually {border: 0;clip: rect(1px 1px 1px 1px);clip: rect(1px, 1px, 1px, 1px);height: 1px;margin: -1px;overflow: hidden;padding: 0;position: absolute;width: 1px;}#sk-container-id-2 div.sk-estimator {font-family: monospace;background-color: #f0f8ff;border: 1px dotted black;border-radius: 0.25em;box-sizing: border-box;margin-bottom: 0.5em;}#sk-container-id-2 div.sk-estimator:hover {background-color: #d4ebff;}#sk-container-id-2 div.sk-parallel-item::after {content: \"\";width: 100%;border-bottom: 1px solid gray;flex-grow: 1;}#sk-container-id-2 div.sk-label:hover label.sk-toggleable__label {background-color: #d4ebff;}#sk-container-id-2 div.sk-serial::before {content: \"\";position: absolute;border-left: 1px solid gray;box-sizing: border-box;top: 0;bottom: 0;left: 50%;z-index: 0;}#sk-container-id-2 div.sk-serial {display: flex;flex-direction: column;align-items: center;background-color: white;padding-right: 0.2em;padding-left: 0.2em;position: relative;}#sk-container-id-2 div.sk-item {position: relative;z-index: 1;}#sk-container-id-2 div.sk-parallel {display: flex;align-items: stretch;justify-content: center;background-color: white;position: relative;}#sk-container-id-2 div.sk-item::before, #sk-container-id-2 div.sk-parallel-item::before {content: \"\";position: absolute;border-left: 1px solid gray;box-sizing: border-box;top: 0;bottom: 0;left: 50%;z-index: -1;}#sk-container-id-2 div.sk-parallel-item {display: flex;flex-direction: column;z-index: 1;position: relative;background-color: white;}#sk-container-id-2 div.sk-parallel-item:first-child::after {align-self: flex-end;width: 50%;}#sk-container-id-2 div.sk-parallel-item:last-child::after {align-self: flex-start;width: 50%;}#sk-container-id-2 div.sk-parallel-item:only-child::after {width: 0;}#sk-container-id-2 div.sk-dashed-wrapped {border: 1px dashed gray;margin: 0 0.4em 0.5em 0.4em;box-sizing: border-box;padding-bottom: 0.4em;background-color: white;}#sk-container-id-2 div.sk-label label {font-family: monospace;font-weight: bold;display: inline-block;line-height: 1.2em;}#sk-container-id-2 div.sk-label-container {text-align: center;}#sk-container-id-2 div.sk-container {/* jupyter's `normalize.less` sets `[hidden] { display: none; }` but bootstrap.min.css set `[hidden] { display: none !important; }` so we also need the `!important` here to be able to override the default hidden behavior on the sphinx rendered scikit-learn.org. See: https://github.com/scikit-learn/scikit-learn/issues/21755 */display: inline-block !important;position: relative;}#sk-container-id-2 div.sk-text-repr-fallback {display: none;}</style><div id=\"sk-container-id-2\" class=\"sk-top-container\"><div class=\"sk-text-repr-fallback\"><pre>Pipeline(steps=[(&#x27;preprocessing&#x27;,\n",
       "                 ColumnTransformer(transformers=[(&#x27;minmax&#x27;, MinMaxScaler(),\n",
       "                                                  [&#x27;jaccard&#x27;, &#x27;rai&#x27;, &#x27;aai&#x27;,\n",
       "                                                   &#x27;pref&#x27;, &#x27;km_diff&#x27;])])),\n",
       "                (&#x27;classifier&#x27;, LogisticRegression(penalty=None))])</pre><b>In a Jupyter environment, please rerun this cell to show the HTML representation or trust the notebook. <br />On GitHub, the HTML representation is unable to render, please try loading this page with nbviewer.org.</b></div><div class=\"sk-container\" hidden><div class=\"sk-item sk-dashed-wrapped\"><div class=\"sk-label-container\"><div class=\"sk-label sk-toggleable\"><input class=\"sk-toggleable__control sk-hidden--visually\" id=\"sk-estimator-id-6\" type=\"checkbox\" ><label for=\"sk-estimator-id-6\" class=\"sk-toggleable__label sk-toggleable__label-arrow\">Pipeline</label><div class=\"sk-toggleable__content\"><pre>Pipeline(steps=[(&#x27;preprocessing&#x27;,\n",
       "                 ColumnTransformer(transformers=[(&#x27;minmax&#x27;, MinMaxScaler(),\n",
       "                                                  [&#x27;jaccard&#x27;, &#x27;rai&#x27;, &#x27;aai&#x27;,\n",
       "                                                   &#x27;pref&#x27;, &#x27;km_diff&#x27;])])),\n",
       "                (&#x27;classifier&#x27;, LogisticRegression(penalty=None))])</pre></div></div></div><div class=\"sk-serial\"><div class=\"sk-item sk-dashed-wrapped\"><div class=\"sk-label-container\"><div class=\"sk-label sk-toggleable\"><input class=\"sk-toggleable__control sk-hidden--visually\" id=\"sk-estimator-id-7\" type=\"checkbox\" ><label for=\"sk-estimator-id-7\" class=\"sk-toggleable__label sk-toggleable__label-arrow\">preprocessing: ColumnTransformer</label><div class=\"sk-toggleable__content\"><pre>ColumnTransformer(transformers=[(&#x27;minmax&#x27;, MinMaxScaler(),\n",
       "                                 [&#x27;jaccard&#x27;, &#x27;rai&#x27;, &#x27;aai&#x27;, &#x27;pref&#x27;, &#x27;km_diff&#x27;])])</pre></div></div></div><div class=\"sk-parallel\"><div class=\"sk-parallel-item\"><div class=\"sk-item\"><div class=\"sk-label-container\"><div class=\"sk-label sk-toggleable\"><input class=\"sk-toggleable__control sk-hidden--visually\" id=\"sk-estimator-id-8\" type=\"checkbox\" ><label for=\"sk-estimator-id-8\" class=\"sk-toggleable__label sk-toggleable__label-arrow\">minmax</label><div class=\"sk-toggleable__content\"><pre>[&#x27;jaccard&#x27;, &#x27;rai&#x27;, &#x27;aai&#x27;, &#x27;pref&#x27;, &#x27;km_diff&#x27;]</pre></div></div></div><div class=\"sk-serial\"><div class=\"sk-item\"><div class=\"sk-estimator sk-toggleable\"><input class=\"sk-toggleable__control sk-hidden--visually\" id=\"sk-estimator-id-9\" type=\"checkbox\" ><label for=\"sk-estimator-id-9\" class=\"sk-toggleable__label sk-toggleable__label-arrow\">MinMaxScaler</label><div class=\"sk-toggleable__content\"><pre>MinMaxScaler()</pre></div></div></div></div></div></div></div></div><div class=\"sk-item\"><div class=\"sk-estimator sk-toggleable\"><input class=\"sk-toggleable__control sk-hidden--visually\" id=\"sk-estimator-id-10\" type=\"checkbox\" ><label for=\"sk-estimator-id-10\" class=\"sk-toggleable__label sk-toggleable__label-arrow\">LogisticRegression</label><div class=\"sk-toggleable__content\"><pre>LogisticRegression(penalty=None)</pre></div></div></div></div></div></div></div>"
      ],
      "text/plain": [
       "Pipeline(steps=[('preprocessing',\n",
       "                 ColumnTransformer(transformers=[('minmax', MinMaxScaler(),\n",
       "                                                  ['jaccard', 'rai', 'aai',\n",
       "                                                   'pref', 'km_diff'])])),\n",
       "                ('classifier', LogisticRegression(penalty=None))])"
      ]
     },
     "execution_count": 96,
     "metadata": {},
     "output_type": "execute_result"
    }
   ],
   "source": [
    "link_predictor.fit(X_train, y_train)"
   ]
  },
  {
   "cell_type": "code",
   "execution_count": 97,
   "metadata": {},
   "outputs": [],
   "source": [
    "y_predicted = link_predictor.predict(X_test)"
   ]
  },
  {
   "cell_type": "markdown",
   "metadata": {},
   "source": [
    "Ora stampiamo un paio di statistiche"
   ]
  },
  {
   "cell_type": "code",
   "execution_count": 98,
   "metadata": {},
   "outputs": [
    {
     "data": {
      "text/plain": [
       "0.8894531911291688"
      ]
     },
     "execution_count": 98,
     "metadata": {},
     "output_type": "execute_result"
    }
   ],
   "source": [
    "accuracy_score(y_test, y_predicted)"
   ]
  },
  {
   "cell_type": "code",
   "execution_count": 99,
   "metadata": {},
   "outputs": [
    {
     "data": {
      "text/plain": [
       "(0.8805997440117024, 0.8094117647058824, 0.9655172413793104)"
      ]
     },
     "execution_count": 99,
     "metadata": {},
     "output_type": "execute_result"
    }
   ],
   "source": [
    "f1_score(y_test, y_predicted), recall_score(y_test, y_predicted), precision_score(y_test, y_predicted)"
   ]
  },
  {
   "cell_type": "markdown",
   "metadata": {},
   "source": [
    "Ma soprattutto la confusion matrix!"
   ]
  },
  {
   "cell_type": "code",
   "execution_count": 101,
   "metadata": {},
   "outputs": [
    {
     "data": {
      "image/png": "[encoded data removed]",
      "text/plain": [
       "<Figure size 750x750 with 1 Axes>"
      ]
     },
     "metadata": {},
     "output_type": "display_data"
    }
   ],
   "source": [
    "conf_matrix = confusion_matrix(y_predicted, y_test)\n",
    "fig, ax = plt.subplots(figsize=(7.5, 7.5))\n",
    "ax.matshow(conf_matrix, cmap=plt.cm.Blues, alpha=0.3)\n",
    "for i in range(conf_matrix.shape[0]):\n",
    "    for j in range(conf_matrix.shape[1]):\n",
    "        ax.text(x=j, y=i,s=conf_matrix[i, j], va='center', ha='center', size='xx-large')\n",
    " \n",
    "plt.xlabel('Predictions', fontsize=18)\n",
    "plt.ylabel('Actuals', fontsize=18)\n",
    "plt.title('Confusion Matrix', fontsize=18)\n",
    "plt.show()"
   ]
  },
  {
   "cell_type": "markdown",
   "metadata": {},
   "source": [
    "Ora ci riproviamo usando Random Forest"
   ]
  },
  {
   "cell_type": "code",
   "execution_count": 102,
   "metadata": {},
   "outputs": [],
   "source": [
    "link_predictor_rf = Pipeline([\n",
    "    ('preprocessing',ct),\n",
    "    ('classifier',RandomForestClassifier(n_estimators=100, \n",
    "        max_features=3, max_leaf_nodes=8, n_jobs=-1)\n",
    "    )\n",
    "]\n",
    ")"
   ]
  },
  {
   "cell_type": "code",
   "execution_count": 103,
   "metadata": {},
   "outputs": [
    {
     "data": {
      "text/html": [
       "<style>#sk-container-id-3 {color: black;background-color: white;}#sk-container-id-3 pre{padding: 0;}#sk-container-id-3 div.sk-toggleable {background-color: white;}#sk-container-id-3 label.sk-toggleable__label {cursor: pointer;display: block;width: 100%;margin-bottom: 0;padding: 0.3em;box-sizing: border-box;text-align: center;}#sk-container-id-3 label.sk-toggleable__label-arrow:before {content: \"▸\";float: left;margin-right: 0.25em;color: #696969;}#sk-container-id-3 label.sk-toggleable__label-arrow:hover:before {color: black;}#sk-container-id-3 div.sk-estimator:hover label.sk-toggleable__label-arrow:before {color: black;}#sk-container-id-3 div.sk-toggleable__content {max-height: 0;max-width: 0;overflow: hidden;text-align: left;background-color: #f0f8ff;}#sk-container-id-3 div.sk-toggleable__content pre {margin: 0.2em;color: black;border-radius: 0.25em;background-color: #f0f8ff;}#sk-container-id-3 input.sk-toggleable__control:checked~div.sk-toggleable__content {max-height: 200px;max-width: 100%;overflow: auto;}#sk-container-id-3 input.sk-toggleable__control:checked~label.sk-toggleable__label-arrow:before {content: \"▾\";}#sk-container-id-3 div.sk-estimator input.sk-toggleable__control:checked~label.sk-toggleable__label {background-color: #d4ebff;}#sk-container-id-3 div.sk-label input.sk-toggleable__control:checked~label.sk-toggleable__label {background-color: #d4ebff;}#sk-container-id-3 input.sk-hidden--visually {border: 0;clip: rect(1px 1px 1px 1px);clip: rect(1px, 1px, 1px, 1px);height: 1px;margin: -1px;overflow: hidden;padding: 0;position: absolute;width: 1px;}#sk-container-id-3 div.sk-estimator {font-family: monospace;background-color: #f0f8ff;border: 1px dotted black;border-radius: 0.25em;box-sizing: border-box;margin-bottom: 0.5em;}#sk-container-id-3 div.sk-estimator:hover {background-color: #d4ebff;}#sk-container-id-3 div.sk-parallel-item::after {content: \"\";width: 100%;border-bottom: 1px solid gray;flex-grow: 1;}#sk-container-id-3 div.sk-label:hover label.sk-toggleable__label {background-color: #d4ebff;}#sk-container-id-3 div.sk-serial::before {content: \"\";position: absolute;border-left: 1px solid gray;box-sizing: border-box;top: 0;bottom: 0;left: 50%;z-index: 0;}#sk-container-id-3 div.sk-serial {display: flex;flex-direction: column;align-items: center;background-color: white;padding-right: 0.2em;padding-left: 0.2em;position: relative;}#sk-container-id-3 div.sk-item {position: relative;z-index: 1;}#sk-container-id-3 div.sk-parallel {display: flex;align-items: stretch;justify-content: center;background-color: white;position: relative;}#sk-container-id-3 div.sk-item::before, #sk-container-id-3 div.sk-parallel-item::before {content: \"\";position: absolute;border-left: 1px solid gray;box-sizing: border-box;top: 0;bottom: 0;left: 50%;z-index: -1;}#sk-container-id-3 div.sk-parallel-item {display: flex;flex-direction: column;z-index: 1;position: relative;background-color: white;}#sk-container-id-3 div.sk-parallel-item:first-child::after {align-self: flex-end;width: 50%;}#sk-container-id-3 div.sk-parallel-item:last-child::after {align-self: flex-start;width: 50%;}#sk-container-id-3 div.sk-parallel-item:only-child::after {width: 0;}#sk-container-id-3 div.sk-dashed-wrapped {border: 1px dashed gray;margin: 0 0.4em 0.5em 0.4em;box-sizing: border-box;padding-bottom: 0.4em;background-color: white;}#sk-container-id-3 div.sk-label label {font-family: monospace;font-weight: bold;display: inline-block;line-height: 1.2em;}#sk-container-id-3 div.sk-label-container {text-align: center;}#sk-container-id-3 div.sk-container {/* jupyter's `normalize.less` sets `[hidden] { display: none; }` but bootstrap.min.css set `[hidden] { display: none !important; }` so we also need the `!important` here to be able to override the default hidden behavior on the sphinx rendered scikit-learn.org. See: https://github.com/scikit-learn/scikit-learn/issues/21755 */display: inline-block !important;position: relative;}#sk-container-id-3 div.sk-text-repr-fallback {display: none;}</style><div id=\"sk-container-id-3\" class=\"sk-top-container\"><div class=\"sk-text-repr-fallback\"><pre>Pipeline(steps=[(&#x27;preprocessing&#x27;,\n",
       "                 ColumnTransformer(transformers=[(&#x27;minmax&#x27;, MinMaxScaler(),\n",
       "                                                  [&#x27;jaccard&#x27;, &#x27;rai&#x27;, &#x27;aai&#x27;,\n",
       "                                                   &#x27;pref&#x27;, &#x27;km_diff&#x27;])])),\n",
       "                (&#x27;classifier&#x27;,\n",
       "                 RandomForestClassifier(max_features=3, max_leaf_nodes=8,\n",
       "                                        n_jobs=-1))])</pre><b>In a Jupyter environment, please rerun this cell to show the HTML representation or trust the notebook. <br />On GitHub, the HTML representation is unable to render, please try loading this page with nbviewer.org.</b></div><div class=\"sk-container\" hidden><div class=\"sk-item sk-dashed-wrapped\"><div class=\"sk-label-container\"><div class=\"sk-label sk-toggleable\"><input class=\"sk-toggleable__control sk-hidden--visually\" id=\"sk-estimator-id-11\" type=\"checkbox\" ><label for=\"sk-estimator-id-11\" class=\"sk-toggleable__label sk-toggleable__label-arrow\">Pipeline</label><div class=\"sk-toggleable__content\"><pre>Pipeline(steps=[(&#x27;preprocessing&#x27;,\n",
       "                 ColumnTransformer(transformers=[(&#x27;minmax&#x27;, MinMaxScaler(),\n",
       "                                                  [&#x27;jaccard&#x27;, &#x27;rai&#x27;, &#x27;aai&#x27;,\n",
       "                                                   &#x27;pref&#x27;, &#x27;km_diff&#x27;])])),\n",
       "                (&#x27;classifier&#x27;,\n",
       "                 RandomForestClassifier(max_features=3, max_leaf_nodes=8,\n",
       "                                        n_jobs=-1))])</pre></div></div></div><div class=\"sk-serial\"><div class=\"sk-item sk-dashed-wrapped\"><div class=\"sk-label-container\"><div class=\"sk-label sk-toggleable\"><input class=\"sk-toggleable__control sk-hidden--visually\" id=\"sk-estimator-id-12\" type=\"checkbox\" ><label for=\"sk-estimator-id-12\" class=\"sk-toggleable__label sk-toggleable__label-arrow\">preprocessing: ColumnTransformer</label><div class=\"sk-toggleable__content\"><pre>ColumnTransformer(transformers=[(&#x27;minmax&#x27;, MinMaxScaler(),\n",
       "                                 [&#x27;jaccard&#x27;, &#x27;rai&#x27;, &#x27;aai&#x27;, &#x27;pref&#x27;, &#x27;km_diff&#x27;])])</pre></div></div></div><div class=\"sk-parallel\"><div class=\"sk-parallel-item\"><div class=\"sk-item\"><div class=\"sk-label-container\"><div class=\"sk-label sk-toggleable\"><input class=\"sk-toggleable__control sk-hidden--visually\" id=\"sk-estimator-id-13\" type=\"checkbox\" ><label for=\"sk-estimator-id-13\" class=\"sk-toggleable__label sk-toggleable__label-arrow\">minmax</label><div class=\"sk-toggleable__content\"><pre>[&#x27;jaccard&#x27;, &#x27;rai&#x27;, &#x27;aai&#x27;, &#x27;pref&#x27;, &#x27;km_diff&#x27;]</pre></div></div></div><div class=\"sk-serial\"><div class=\"sk-item\"><div class=\"sk-estimator sk-toggleable\"><input class=\"sk-toggleable__control sk-hidden--visually\" id=\"sk-estimator-id-14\" type=\"checkbox\" ><label for=\"sk-estimator-id-14\" class=\"sk-toggleable__label sk-toggleable__label-arrow\">MinMaxScaler</label><div class=\"sk-toggleable__content\"><pre>MinMaxScaler()</pre></div></div></div></div></div></div></div></div><div class=\"sk-item\"><div class=\"sk-estimator sk-toggleable\"><input class=\"sk-toggleable__control sk-hidden--visually\" id=\"sk-estimator-id-15\" type=\"checkbox\" ><label for=\"sk-estimator-id-15\" class=\"sk-toggleable__label sk-toggleable__label-arrow\">RandomForestClassifier</label><div class=\"sk-toggleable__content\"><pre>RandomForestClassifier(max_features=3, max_leaf_nodes=8, n_jobs=-1)</pre></div></div></div></div></div></div></div>"
      ],
      "text/plain": [
       "Pipeline(steps=[('preprocessing',\n",
       "                 ColumnTransformer(transformers=[('minmax', MinMaxScaler(),\n",
       "                                                  ['jaccard', 'rai', 'aai',\n",
       "                                                   'pref', 'km_diff'])])),\n",
       "                ('classifier',\n",
       "                 RandomForestClassifier(max_features=3, max_leaf_nodes=8,\n",
       "                                        n_jobs=-1))])"
      ]
     },
     "execution_count": 103,
     "metadata": {},
     "output_type": "execute_result"
    }
   ],
   "source": [
    "link_predictor_rf.fit(X_train, y_train)"
   ]
  },
  {
   "cell_type": "code",
   "execution_count": 105,
   "metadata": {},
   "outputs": [
    {
     "data": {
      "text/plain": [
       "[('rai', 0.48554662908337937),\n",
       " ('aai', 0.32167940797248895),\n",
       " ('pref', 0.17872985231210872),\n",
       " ('jaccard', 0.012160258540252523),\n",
       " ('same_country', 0.0018838520917704906)]"
      ]
     },
     "execution_count": 105,
     "metadata": {},
     "output_type": "execute_result"
    }
   ],
   "source": [
    "named_feat_importance = dict(zip(['jaccard','rai','aai','pref', 'same_country', 'same_sport', 'km_diff'], link_predictor_rf['classifier'].feature_importances_))\n",
    "sorted(named_feat_importance.items(), key=lambda x:x[1], reverse=True)"
   ]
  },
  {
   "cell_type": "code",
   "execution_count": 106,
   "metadata": {},
   "outputs": [],
   "source": [
    "y_predicted = link_predictor_rf.predict(X_test)"
   ]
  },
  {
   "cell_type": "markdown",
   "metadata": {},
   "source": [
    "Stampiamo un paio di statistiche anche in questo caso"
   ]
  },
  {
   "cell_type": "code",
   "execution_count": 107,
   "metadata": {},
   "outputs": [
    {
     "data": {
      "text/plain": [
       "0.9250042322668021"
      ]
     },
     "execution_count": 107,
     "metadata": {},
     "output_type": "execute_result"
    }
   ],
   "source": [
    "accuracy_score(y_test, y_predicted)"
   ]
  },
  {
   "cell_type": "code",
   "execution_count": 108,
   "metadata": {},
   "outputs": [
    {
     "data": {
      "text/plain": [
       "(0.9258577405857741, 0.9297478991596638, 0.922)"
      ]
     },
     "execution_count": 108,
     "metadata": {},
     "output_type": "execute_result"
    }
   ],
   "source": [
    "f1_score(y_test, y_predicted), recall_score(y_test, y_predicted), precision_score(y_test, y_predicted)"
   ]
  },
  {
   "cell_type": "code",
   "execution_count": 109,
   "metadata": {},
   "outputs": [
    {
     "data": {
      "image/png": "[encoded data removed]",
      "text/plain": [
       "<Figure size 750x750 with 1 Axes>"
      ]
     },
     "metadata": {},
     "output_type": "display_data"
    }
   ],
   "source": [
    "conf_matrix = confusion_matrix(y_predicted, y_test)\n",
    "fig, ax = plt.subplots(figsize=(7.5, 7.5))\n",
    "ax.matshow(conf_matrix, cmap=plt.cm.Blues, alpha=0.3)\n",
    "for i in range(conf_matrix.shape[0]):\n",
    "    for j in range(conf_matrix.shape[1]):\n",
    "        ax.text(x=j, y=i,s=conf_matrix[i, j], va='center', ha='center', size='xx-large')\n",
    " \n",
    "plt.xlabel('Predictions', fontsize=18)\n",
    "plt.ylabel('Actuals', fontsize=18)\n",
    "plt.title('Confusion Matrix', fontsize=18)\n",
    "plt.show()"
   ]
  },
  {
   "cell_type": "markdown",
   "metadata": {},
   "source": [
    "FINE!"
   ]
  }
 ],
 "metadata": {
  "kernelspec": {
   "display_name": "Python 3 (ipykernel)",
   "language": "python",
   "name": "python3"
  },
  "language_info": {
   "codemirror_mode": {
    "name": "ipython",
    "version": 3
   },
   "file_extension": ".py",
   "mimetype": "text/x-python",
   "name": "python",
   "nbconvert_exporter": "python",
   "pygments_lexer": "ipython3",
   "version": "3.11.3"
  }
 },
 "nbformat": 4,
 "nbformat_minor": 2
}

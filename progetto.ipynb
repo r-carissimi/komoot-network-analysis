{
 "cells": [
  {
   "cell_type": "markdown",
   "metadata": {},
   "source": [
    "![](https://upload.wikimedia.org/wikipedia/commons/8/82/Komoot-logo-type.svg)\n",
    "\n",
    "# Komoot network analysis \n",
    "Questo è il progetto di Riccardo Carissimi per il corso di Social Media Mining @ Unimi.\n",
    "In questo notebook analizzeremo la rete di Komoot (o almeno ci proveremo)."
   ]
  },
  {
   "cell_type": "markdown",
   "metadata": {},
   "source": [
    "# Scraping\n",
    "## 1. Lo scraper"
   ]
  },
  {
   "cell_type": "code",
   "execution_count": 4,
   "metadata": {},
   "outputs": [],
   "source": [
    "from bs4 import BeautifulSoup\n",
    "import time\n",
    "import networkx as nx\n",
    "import pandas as pd\n",
    "import persistqueue\n",
    "import requests"
   ]
  },
  {
   "cell_type": "markdown",
   "metadata": {},
   "source": [
    "Andiamo a definire il primo seed. È un utente in cui sono incappato con un numero accettabile di amici."
   ]
  },
  {
   "cell_type": "code",
   "execution_count": 3,
   "metadata": {},
   "outputs": [],
   "source": [
    "seed_user_id = \"813735907910\""
   ]
  },
  {
   "cell_type": "markdown",
   "metadata": {},
   "source": [
    "Ora definiamo la funzione che ci permetterà di avere la lista di following per un utente. Purtroppo dobbiamo crearci un piccolo scraper, perchè questa funzionalità non è prevista nelle API."
   ]
  },
  {
   "cell_type": "code",
   "execution_count": 7,
   "metadata": {},
   "outputs": [],
   "source": [
    "def get_user_followings(user_id):\n",
    "    #Imposto l'endpoint\n",
    "    url = f'https://www.komoot.com/it-it/user/{user_id}/following'\n",
    "    \n",
    "    #Inizializzo il webdriver di Selenium\n",
    "    driver = webdriver.Chrome()\n",
    "    driver.get(url)\n",
    "    \n",
    "    #Inizializzo il set con i following e lo scroll-delay\n",
    "    links = set()\n",
    "    scroll_delay = 2\n",
    "    last_height = driver.execute_script(\"return document.body.scrollHeight\")\n",
    "    counter = 0\n",
    "\n",
    "    old_users = set()\n",
    "\n",
    "    while True:\n",
    "\n",
    "        users = driver.find_elements(By.CSS_SELECTOR, 'a.c-link.c-link--inherit.tw-font-bold')\n",
    "        users_dedupe = set(users) - set(old_users)\n",
    "\n",
    "        for user in users_dedupe:\n",
    "            links.add(user.get_attribute('href').split('/')[-1])\n",
    "\n",
    "        driver.execute_script(\"window.scrollTo(0, document.body.scrollHeight);\")\n",
    "        time.sleep(scroll_delay)\n",
    "        new_height = driver.execute_script(\"return document.body.scrollHeight\")\n",
    "\n",
    "        old_users = users\n",
    "\n",
    "        if new_height == last_height:\n",
    "            break\n",
    "        last_height = new_height\n",
    "\n",
    "    driver.quit()\n",
    "    return links"
   ]
  },
  {
   "cell_type": "code",
   "execution_count": 23,
   "metadata": {},
   "outputs": [
    {
     "data": {
      "text/plain": [
       "{'1024020220028',\n",
       " '1136281104054',\n",
       " '1189125754755',\n",
       " '1382684320656',\n",
       " '2137732485327',\n",
       " '2262262155625',\n",
       " '384449563507',\n",
       " '444811548445',\n",
       " '505500745409',\n",
       " '506348671596',\n",
       " '658070566843',\n",
       " '660023066061',\n",
       " '695866282288',\n",
       " '774010743877',\n",
       " '962009552239',\n",
       " 'betty',\n",
       " 'gmbn',\n",
       " 'oesterreichsgroesstebikeregion'}"
      ]
     },
     "execution_count": 23,
     "metadata": {},
     "output_type": "execute_result"
    }
   ],
   "source": [
    "get_user_followings(seed_user_id)"
   ]
  },
  {
   "cell_type": "markdown",
   "metadata": {},
   "source": [
    "Ora modifico la funzione per fare in modo che si possano ottenere sia i follower che i following"
   ]
  },
  {
   "cell_type": "code",
   "execution_count": 204,
   "metadata": {},
   "outputs": [],
   "source": [
    "def get_user_follow(user_id, relation):\n",
    "    #Imposto l'endpoint\n",
    "    url = f'https://www.komoot.com/it-it/user/{user_id}/{relation}'\n",
    "    \n",
    "    #Inizializzo il webdriver di Selenium\n",
    "    driver = webdriver.Chrome()\n",
    "    driver.get(url)\n",
    "    \n",
    "    #Inizializzo il set con i following e lo scroll-delay\n",
    "    links = set()\n",
    "    scroll_delay = 1.5\n",
    "    last_height = driver.execute_script(\"return document.body.scrollHeight\")\n",
    "    counter = 0\n",
    "\n",
    "    old_users = set()\n",
    "\n",
    "    while True:\n",
    "\n",
    "        users = driver.find_elements(By.CSS_SELECTOR, 'a.c-link.c-link--inherit.tw-font-bold')\n",
    "        users_dedupe = set(users) - set(old_users)\n",
    "\n",
    "        for user in users_dedupe:\n",
    "            links.add(user.get_attribute('href').split('/')[-1])\n",
    "\n",
    "        driver.execute_script(\"window.scrollTo(0, document.body.scrollHeight);\")\n",
    "        time.sleep(scroll_delay)\n",
    "        new_height = driver.execute_script(\"return document.body.scrollHeight\")\n",
    "\n",
    "        old_users = users\n",
    "\n",
    "        if new_height == last_height:\n",
    "            break\n",
    "        last_height = new_height\n",
    "\n",
    "    driver.quit()\n",
    "    return links"
   ]
  },
  {
   "cell_type": "code",
   "execution_count": 25,
   "metadata": {},
   "outputs": [
    {
     "data": {
      "text/plain": [
       "{'1024020220028',\n",
       " '1136281104054',\n",
       " '1189125754755',\n",
       " '1382684320656',\n",
       " '2137732485327',\n",
       " '2262262155625',\n",
       " '384449563507',\n",
       " '444811548445',\n",
       " '505500745409',\n",
       " '506348671596',\n",
       " '658070566843',\n",
       " '660023066061',\n",
       " '695866282288',\n",
       " '774010743877',\n",
       " '962009552239',\n",
       " 'betty',\n",
       " 'gmbn',\n",
       " 'oesterreichsgroesstebikeregion'}"
      ]
     },
     "execution_count": 25,
     "metadata": {},
     "output_type": "execute_result"
    }
   ],
   "source": [
    "get_user_follow(seed_user_id, \"following\")"
   ]
  },
  {
   "cell_type": "code",
   "execution_count": 26,
   "metadata": {},
   "outputs": [
    {
     "data": {
      "text/plain": [
       "{'1136281104054',\n",
       " '1189125754755',\n",
       " '1382684320656',\n",
       " '1660920328668',\n",
       " '1873906957124',\n",
       " '2137732485327',\n",
       " '658070566843',\n",
       " '660023066061'}"
      ]
     },
     "execution_count": 26,
     "metadata": {},
     "output_type": "execute_result"
    }
   ],
   "source": [
    "get_user_follow(seed_user_id, \"followers\")"
   ]
  },
  {
   "cell_type": "markdown",
   "metadata": {},
   "source": [
    "Siamo sulla buona strada. Ora dobbiamo automatizzare lo scraper, per ottenere il numero maggiore possibile di nodi."
   ]
  },
  {
   "cell_type": "markdown",
   "metadata": {},
   "source": [
    "## 2. Lo scraping improvvisato"
   ]
  },
  {
   "cell_type": "code",
   "execution_count": 37,
   "metadata": {},
   "outputs": [],
   "source": [
    "#Questa funzione visiterà tutti i nodi a partire dal seed, secondo un threshold impostato\n",
    "def visit():\n",
    "    queue = [(seed_user_id,0)]\n",
    "    visited = {seed_user_id}\n",
    "    threshold = 1\n",
    "    \n",
    "    while queue:\n",
    "        n, l = queue.pop(0)\n",
    "        if l + 1 <= threshold:\n",
    "            for neigh in get_user_follow(n, \"following\"):\n",
    "                if neigh not in visited:\n",
    "                    visited.add(neigh)\n",
    "                    queue.append((neigh,l+1))\n",
    "                yield (n,neigh)"
   ]
  },
  {
   "cell_type": "code",
   "execution_count": 38,
   "metadata": {},
   "outputs": [],
   "source": [
    "g = nx.DiGraph()\n",
    "for a,b in visit():\n",
    "    g.add_edge(a,b)"
   ]
  },
  {
   "cell_type": "markdown",
   "metadata": {},
   "source": [
    "Stampiamo qualche proprietà base e proviamo a stamparlo, per assicurarci di aver ottenuto qualcosa di vagamente corretto"
   ]
  },
  {
   "cell_type": "code",
   "execution_count": 29,
   "metadata": {},
   "outputs": [
    {
     "data": {
      "text/plain": [
       "(19, 18)"
      ]
     },
     "execution_count": 29,
     "metadata": {},
     "output_type": "execute_result"
    }
   ],
   "source": [
    "g.order(), g.size()"
   ]
  },
  {
   "cell_type": "code",
   "execution_count": 30,
   "metadata": {},
   "outputs": [
    {
     "data": {
      "image/png": "[encoded data removed]",
      "text/plain": [
       "<Figure size 432x288 with 1 Axes>"
      ]
     },
     "metadata": {},
     "output_type": "display_data"
    }
   ],
   "source": [
    "nx.draw(g, nx.spring_layout(g))"
   ]
  },
  {
   "cell_type": "markdown",
   "metadata": {},
   "source": [
    "Ora esportiamolo e guardiamolo su Gephi"
   ]
  },
  {
   "cell_type": "code",
   "execution_count": 31,
   "metadata": {},
   "outputs": [],
   "source": [
    "nx.write_graphml(g,path=\"test.graphml\")"
   ]
  },
  {
   "cell_type": "markdown",
   "metadata": {},
   "source": [
    "## 3. Lo scraping persistente"
   ]
  },
  {
   "cell_type": "markdown",
   "metadata": {},
   "source": [
    "Mi sono reso conto che non è veramente necessario usare Selenium. Proviamo a usare le API."
   ]
  },
  {
   "cell_type": "code",
   "execution_count": 8,
   "metadata": {},
   "outputs": [],
   "source": [
    "def get_user_follow(user_id, session=None):\n",
    "    #Imposto l'endpoint\n",
    "    if session == None:\n",
    "        session = requests.Session()\n",
    "    \n",
    "    params = {\n",
    "        'username': 695738537576,\n",
    "        'relation_to_follow': 'FOLLOW',\n",
    "        'relation_to_friend': 'FRIEND',\n",
    "        'page': 0,\n",
    "        'limit': 100,\n",
    "        'hl': 'it'\n",
    "    }\n",
    "    \n",
    "    url = f'https://www.komoot.com/api/v007/users/{user_id}/relating_users/'    \n",
    "    \n",
    "    followings = set()\n",
    "    \n",
    "    while True:\n",
    "        resp = session.get(url=url, params=params)\n",
    "        data = resp.json()\n",
    "        \n",
    "        if resp.status_code != 200:\n",
    "            raise Exception(\"Response code \" + str(resp.status_code)) \n",
    "        \n",
    "        if data['page']['totalElements'] == 0:\n",
    "            return set()\n",
    "        \n",
    "        for user in data['_embedded']['items']:\n",
    "            followings.add(user['username'])\n",
    "        \n",
    "        if data['page']['totalPages'] == data['page']['number']+1:\n",
    "            break\n",
    "        params['page'] = params['page'] + 1\n",
    "        \n",
    "    return followings"
   ]
  },
  {
   "cell_type": "code",
   "execution_count": 9,
   "metadata": {},
   "outputs": [
    {
     "data": {
      "text/plain": [
       "373"
      ]
     },
     "execution_count": 9,
     "metadata": {},
     "output_type": "execute_result"
    }
   ],
   "source": [
    "friends = get_user_follow('betty')\n",
    "len(friends)"
   ]
  },
  {
   "cell_type": "code",
   "execution_count": 39,
   "metadata": {},
   "outputs": [],
   "source": [
    "import time\n",
    "\n",
    "class KomootSurferPersistent():               \n",
    "    def __init__(self, seed, nodes=list(), threshold=2, limit=5000, reset=True):\n",
    "        self.queue = persistqueue.Queue(\"dbs/surfer.queue\")\n",
    "        self.threshold = threshold\n",
    "        self.limit = limit\n",
    "        if reset:\n",
    "            self.empty_queue()\n",
    "            self.visited = set()\n",
    "            self.queue.put((seed, 0))\n",
    "        else:\n",
    "            for node in nodes():\n",
    "                self.visited.put(node)\n",
    "\n",
    "    def empty_queue(self):\n",
    "        while not self.queue.empty():\n",
    "            self.queue.get()\n",
    "\n",
    "    def _get_following(self, user_id):\n",
    "        follow = None\n",
    "        while follow is None:\n",
    "            try:\n",
    "                follow = get_user_follow(user_id)\n",
    "            except:\n",
    "                time.sleep(5)\n",
    "        return follow\n",
    "    \n",
    "    def visit(self):\n",
    "        c = 0\n",
    "        while self.queue.qsize() > 0:\n",
    "            if c >= self.limit:\n",
    "                break\n",
    "            \n",
    "            n, l = self.queue.get()\n",
    "            \n",
    "            if l + 1 <= self.threshold:\n",
    "                if c%100 == 0:\n",
    "                    print(c)\n",
    "                c = c+1\n",
    "                for neigh in self._get_following(n):\n",
    "                    if not neigh in self.visited:\n",
    "                        self.visited.add(neigh)\n",
    "                        self.queue.put((neigh,l+1))\n",
    "                    yield (n,neigh)"
   ]
  },
  {
   "cell_type": "code",
   "execution_count": 40,
   "metadata": {},
   "outputs": [],
   "source": [
    "g = nx.DiGraph()"
   ]
  },
  {
   "cell_type": "code",
   "execution_count": 41,
   "metadata": {},
   "outputs": [],
   "source": [
    "surfer = KomootSurferPersistent(seed_user_id, threshold=10, limit=100000, reset=True)"
   ]
  },
  {
   "cell_type": "code",
   "execution_count": 42,
   "metadata": {
    "collapsed": true
   },
   "outputs": [
    {
     "name": "stdout",
     "output_type": "stream",
     "text": [
      "0\n",
      "100\n",
      "200\n",
      "300\n",
      "400\n",
      "500\n",
      "600\n",
      "700\n",
      "800\n",
      "900\n",
      "1000\n",
      "1100\n",
      "1200\n",
      "1300\n",
      "1400\n",
      "1500\n",
      "1600\n",
      "1700\n",
      "1800\n",
      "1900\n",
      "2000\n",
      "2100\n",
      "2200\n",
      "2300\n",
      "2400\n",
      "2500\n",
      "2600\n",
      "2700\n",
      "2800\n",
      "2900\n",
      "3000\n",
      "3100\n",
      "3200\n",
      "3300\n",
      "3400\n",
      "3500\n",
      "3600\n",
      "3700\n",
      "3800\n",
      "3900\n",
      "4000\n",
      "4100\n",
      "4200\n",
      "4300\n",
      "4400\n",
      "4500\n",
      "4600\n",
      "4700\n",
      "4800\n",
      "4900\n",
      "5000\n",
      "5100\n",
      "5200\n",
      "5300\n",
      "5400\n",
      "5500\n",
      "5600\n",
      "5700\n",
      "5800\n",
      "5900\n",
      "6000\n",
      "6100\n",
      "6200\n",
      "6300\n",
      "6400\n",
      "6500\n",
      "6600\n",
      "6700\n",
      "6800\n",
      "6900\n",
      "7000\n",
      "7100\n",
      "7200\n",
      "7300\n",
      "7400\n",
      "7500\n",
      "7600\n",
      "7700\n",
      "7800\n",
      "7900\n",
      "8000\n",
      "8100\n",
      "8200\n",
      "8300\n",
      "8400\n",
      "8500\n",
      "8600\n",
      "8700\n",
      "8800\n",
      "8900\n",
      "9000\n",
      "9100\n",
      "9200\n",
      "9300\n",
      "9400\n",
      "9500\n",
      "9600\n",
      "9700\n",
      "9800\n",
      "9900\n",
      "10000\n",
      "10100\n",
      "10200\n",
      "10300\n",
      "10400\n",
      "10500\n",
      "10600\n",
      "10700\n",
      "10800\n",
      "10900\n",
      "11000\n",
      "11100\n",
      "11200\n",
      "11300\n",
      "11400\n",
      "11500\n",
      "11600\n",
      "11700\n",
      "11800\n",
      "11900\n",
      "12000\n",
      "12100\n",
      "12200\n",
      "12300\n",
      "12400\n",
      "12500\n",
      "12600\n",
      "12700\n",
      "12800\n",
      "12900\n",
      "13000\n",
      "13100\n",
      "13200\n",
      "13300\n",
      "13400\n",
      "13500\n",
      "13600\n",
      "13700\n",
      "13800\n",
      "13900\n",
      "14000\n",
      "14100\n",
      "14200\n",
      "14300\n",
      "14400\n",
      "14500\n",
      "14600\n",
      "14700\n",
      "14800\n",
      "14900\n",
      "15000\n",
      "15100\n",
      "15200\n",
      "15300\n",
      "15400\n",
      "15500\n",
      "15600\n",
      "15700\n",
      "15800\n",
      "15900\n",
      "16000\n",
      "16100\n",
      "16200\n",
      "16300\n",
      "16400\n",
      "16500\n",
      "16600\n",
      "16700\n",
      "16800\n",
      "16900\n",
      "17000\n",
      "17100\n",
      "17200\n",
      "17300\n",
      "17400\n",
      "17500\n",
      "17600\n",
      "17700\n",
      "17800\n",
      "17900\n",
      "18000\n",
      "18100\n",
      "18200\n",
      "18300\n",
      "18400\n",
      "18500\n",
      "18600\n",
      "18700\n",
      "18800\n",
      "18900\n",
      "19000\n",
      "19100\n",
      "19200\n",
      "19300\n",
      "19400\n",
      "19500\n",
      "19600\n",
      "19700\n",
      "19800\n",
      "19900\n",
      "20000\n",
      "20100\n",
      "20200\n",
      "20300\n",
      "20400\n",
      "20500\n",
      "20600\n",
      "20700\n",
      "20800\n",
      "20900\n",
      "21000\n",
      "21100\n",
      "21200\n",
      "21300\n",
      "21400\n",
      "21500\n",
      "21600\n",
      "21700\n",
      "21800\n",
      "21900\n",
      "22000\n",
      "22100\n",
      "22200\n",
      "22300\n",
      "22400\n",
      "22500\n",
      "22600\n",
      "22700\n",
      "22800\n",
      "22900\n",
      "23000\n",
      "23100\n",
      "23200\n",
      "23300\n",
      "23400\n",
      "23500\n",
      "23600\n",
      "23700\n",
      "23800\n",
      "23900\n",
      "24000\n",
      "24100\n",
      "24200\n",
      "24300\n",
      "24400\n",
      "24500\n",
      "24600\n",
      "24700\n",
      "24800\n",
      "24900\n",
      "25000\n",
      "25100\n",
      "25200\n",
      "25300\n",
      "25400\n",
      "25500\n",
      "25600\n",
      "25700\n",
      "25800\n",
      "25900\n",
      "26000\n",
      "26100\n",
      "26200\n",
      "26300\n",
      "26400\n",
      "26500\n",
      "26600\n",
      "26700\n",
      "26800\n",
      "26900\n",
      "27000\n",
      "27100\n",
      "27200\n",
      "27300\n",
      "27400\n",
      "27500\n",
      "27600\n",
      "27700\n",
      "27800\n",
      "27900\n",
      "28000\n",
      "28100\n",
      "28200\n",
      "28300\n",
      "28400\n",
      "28500\n",
      "28600\n",
      "28700\n",
      "28800\n",
      "28900\n",
      "29000\n",
      "29100\n",
      "29200\n",
      "29300\n",
      "29400\n",
      "29500\n",
      "29600\n",
      "29700\n",
      "29800\n",
      "29900\n",
      "30000\n",
      "30100\n",
      "30200\n",
      "30300\n",
      "30400\n",
      "30500\n",
      "30600\n",
      "30700\n",
      "30800\n",
      "30900\n",
      "31000\n",
      "31100\n",
      "31200\n",
      "31300\n",
      "31400\n",
      "31500\n",
      "31600\n",
      "31700\n",
      "31800\n",
      "31900\n",
      "32000\n",
      "32100\n",
      "32200\n",
      "32300\n",
      "32400\n",
      "32500\n",
      "32600\n",
      "32700\n",
      "32800\n",
      "32900\n",
      "33000\n",
      "33100\n",
      "33200\n",
      "33300\n",
      "33400\n",
      "33500\n",
      "33600\n",
      "33700\n",
      "33800\n",
      "33900\n",
      "34000\n",
      "34100\n",
      "34200\n",
      "34300\n",
      "34400\n",
      "34500\n",
      "34600\n",
      "34700\n",
      "34800\n",
      "34900\n",
      "35000\n",
      "35100\n",
      "35200\n",
      "35300\n",
      "35400\n",
      "35500\n",
      "35600\n",
      "35700\n",
      "35800\n",
      "35900\n",
      "36000\n",
      "36100\n",
      "36200\n",
      "36300\n",
      "36400\n",
      "36500\n",
      "36600\n",
      "36700\n",
      "36800\n",
      "36900\n",
      "37000\n",
      "37100\n",
      "37200\n",
      "37300\n",
      "37400\n",
      "37500\n",
      "37600\n",
      "37700\n",
      "37800\n",
      "37900\n",
      "38000\n",
      "38100\n",
      "38200\n",
      "38300\n",
      "38400\n",
      "38500\n",
      "38600\n",
      "38700\n",
      "38800\n",
      "38900\n",
      "39000\n",
      "39100\n",
      "39200\n",
      "39300\n",
      "39400\n",
      "39500\n",
      "39600\n",
      "39700\n",
      "39800\n",
      "39900\n",
      "40000\n",
      "40100\n",
      "40200\n",
      "40300\n",
      "40400\n",
      "40500\n",
      "40600\n",
      "40700\n",
      "40800\n",
      "40900\n",
      "41000\n",
      "41100\n",
      "41200\n",
      "41300\n",
      "41400\n",
      "41500\n",
      "41600\n",
      "41700\n",
      "41800\n",
      "41900\n",
      "42000\n",
      "42100\n",
      "42200\n",
      "42300\n",
      "42400\n",
      "42500\n",
      "42600\n",
      "42700\n",
      "42800\n",
      "42900\n",
      "43000\n",
      "43100\n",
      "43200\n",
      "43300\n",
      "43400\n",
      "43500\n",
      "43600\n",
      "43700\n",
      "43800\n",
      "43900\n",
      "44000\n",
      "44100\n",
      "44200\n",
      "44300\n",
      "44400\n",
      "44500\n",
      "44600\n",
      "44700\n",
      "44800\n",
      "44900\n",
      "45000\n",
      "45100\n",
      "45200\n",
      "45300\n",
      "45400\n",
      "45500\n",
      "45600\n",
      "45700\n",
      "45800\n",
      "45900\n",
      "46000\n",
      "46100\n",
      "46200\n",
      "46300\n",
      "46400\n",
      "46500\n",
      "46600\n",
      "46700\n",
      "46800\n",
      "46900\n",
      "47000\n",
      "47100\n",
      "47200\n",
      "47300\n",
      "47400\n",
      "47500\n",
      "47600\n",
      "47700\n",
      "47800\n",
      "47900\n",
      "48000\n",
      "48100\n",
      "48200\n",
      "48300\n",
      "48400\n",
      "48500\n",
      "48600\n",
      "48700\n",
      "48800\n",
      "48900\n",
      "49000\n",
      "49100\n",
      "49200\n",
      "49300\n",
      "49400\n",
      "49500\n",
      "49600\n",
      "49700\n",
      "49800\n",
      "49900\n",
      "50000\n",
      "50100\n",
      "50200\n",
      "50300\n",
      "50400\n",
      "50500\n",
      "50600\n",
      "50700\n",
      "50800\n",
      "50900\n",
      "51000\n",
      "51100\n",
      "51200\n",
      "51300\n",
      "51400\n",
      "51500\n",
      "51600\n",
      "51700\n",
      "51800\n",
      "51900\n",
      "52000\n",
      "52100\n",
      "52200\n",
      "52300\n",
      "52400\n",
      "52500\n",
      "52600\n",
      "52700\n",
      "52800\n",
      "52900\n",
      "53000\n",
      "53100\n",
      "53200\n",
      "53300\n",
      "53400\n",
      "53500\n",
      "53600\n",
      "53700\n",
      "53800\n",
      "53900\n",
      "54000\n",
      "54100\n",
      "54200\n",
      "54300\n",
      "54400\n",
      "54500\n",
      "54600\n",
      "54700\n",
      "54800\n",
      "54900\n",
      "55000\n",
      "55100\n",
      "55200\n",
      "55300\n",
      "55400\n",
      "55500\n",
      "55600\n",
      "55700\n",
      "55800\n",
      "55900\n",
      "56000\n",
      "56100\n",
      "56200\n",
      "56300\n",
      "56400\n",
      "56500\n",
      "56600\n",
      "56700\n",
      "56800\n",
      "56900\n",
      "57000\n",
      "57100\n",
      "57200\n",
      "57300\n",
      "57400\n",
      "57500\n",
      "57600\n",
      "57700\n",
      "57800\n",
      "57900\n",
      "58000\n",
      "58100\n",
      "58200\n",
      "58300\n",
      "58400\n",
      "58500\n",
      "58600\n",
      "58700\n",
      "58800\n",
      "58900\n",
      "59000\n",
      "59100\n",
      "59200\n",
      "59300\n",
      "59400\n",
      "59500\n",
      "59600\n",
      "59700\n",
      "59800\n",
      "59900\n",
      "60000\n",
      "60100\n",
      "60200\n",
      "60300\n",
      "60400\n",
      "60500\n",
      "60600\n",
      "60700\n",
      "60800\n",
      "60900\n",
      "61000\n",
      "61100\n",
      "61200\n",
      "61300\n",
      "61400\n",
      "61500\n",
      "61600\n",
      "61700\n",
      "61800\n",
      "61900\n",
      "62000\n",
      "62100\n",
      "62200\n",
      "62300\n",
      "62400\n",
      "62500\n",
      "62600\n",
      "62700\n",
      "62800\n",
      "62900\n",
      "63000\n",
      "63100\n",
      "63200\n",
      "63300\n",
      "63400\n",
      "63500\n",
      "63600\n",
      "63700\n",
      "63800\n",
      "63900\n",
      "64000\n",
      "64100\n",
      "64200\n",
      "64300\n",
      "64400\n",
      "64500\n",
      "64600\n",
      "64700\n",
      "64800\n",
      "64900\n",
      "65000\n",
      "65100\n",
      "65200\n",
      "65300\n",
      "65400\n",
      "65500\n",
      "65600\n",
      "65700\n",
      "65800\n",
      "65900\n",
      "66000\n",
      "66100\n",
      "66200\n",
      "66300\n",
      "66400\n",
      "66500\n",
      "66600\n",
      "66700\n",
      "66800\n",
      "66900\n",
      "67000\n",
      "67100\n",
      "67200\n",
      "67300\n",
      "67400\n",
      "67500\n",
      "67600\n",
      "67700\n",
      "67800\n",
      "67900\n",
      "68000\n",
      "68100\n",
      "68200\n",
      "68300\n",
      "68400\n",
      "68500\n",
      "68600\n",
      "68700\n",
      "68800\n",
      "68900\n",
      "69000\n",
      "69100\n",
      "69200\n",
      "69300\n",
      "69400\n",
      "69500\n",
      "69600\n",
      "69700\n",
      "69800\n",
      "69900\n",
      "70000\n",
      "70100\n",
      "70200\n",
      "70300\n",
      "70400\n",
      "70500\n",
      "70600\n",
      "70700\n",
      "70800\n",
      "70900\n",
      "71000\n",
      "71100\n",
      "71200\n",
      "71300\n",
      "71400\n",
      "71500\n",
      "71600\n",
      "71700\n",
      "71800\n",
      "71900\n",
      "72000\n",
      "72100\n",
      "72200\n",
      "72300\n",
      "72400\n",
      "72500\n",
      "72600\n",
      "72700\n",
      "72800\n",
      "72900\n",
      "73000\n",
      "73100\n",
      "73200\n",
      "73300\n",
      "73400\n",
      "73500\n",
      "73600\n",
      "73700\n",
      "73800\n",
      "73900\n",
      "74000\n",
      "74100\n",
      "74200\n",
      "74300\n",
      "74400\n",
      "74500\n",
      "74600\n",
      "74700\n",
      "74800\n",
      "74900\n",
      "75000\n",
      "75100\n",
      "75200\n",
      "75300\n",
      "75400\n",
      "75500\n",
      "75600\n",
      "75700\n",
      "75800\n",
      "75900\n",
      "76000\n",
      "76100\n",
      "76200\n",
      "76300\n",
      "76400\n",
      "76500\n",
      "76600\n",
      "76700\n",
      "76800\n",
      "76900\n",
      "77000\n",
      "77100\n",
      "77200\n",
      "77300\n",
      "77400\n",
      "77500\n",
      "77600\n",
      "77700\n",
      "77800\n",
      "77900\n",
      "78000\n",
      "78100\n",
      "78200\n",
      "78300\n",
      "78400\n",
      "78500\n",
      "78600\n",
      "78700\n",
      "78800\n",
      "78900\n",
      "79000\n",
      "79100\n",
      "79200\n",
      "79300\n",
      "79400\n",
      "79500\n",
      "79600\n",
      "79700\n",
      "79800\n",
      "79900\n",
      "80000\n",
      "80100\n",
      "80200\n",
      "80300\n",
      "80400\n",
      "80500\n",
      "80600\n",
      "80700\n",
      "80800\n",
      "80900\n",
      "81000\n",
      "81100\n",
      "81200\n",
      "81300\n",
      "81400\n",
      "81500\n",
      "81600\n",
      "81700\n",
      "81800\n",
      "81900\n",
      "82000\n",
      "82100\n",
      "82200\n",
      "82300\n",
      "82400\n",
      "82500\n",
      "82600\n",
      "82700\n",
      "82800\n",
      "82900\n",
      "83000\n",
      "83100\n",
      "83200\n",
      "83300\n",
      "83400\n",
      "83500\n",
      "83600\n",
      "83700\n",
      "83800\n",
      "83900\n",
      "84000\n",
      "84100\n",
      "84200\n",
      "84300\n",
      "84400\n",
      "84500\n",
      "84600\n",
      "84700\n",
      "84800\n",
      "84900\n",
      "85000\n",
      "85100\n",
      "85200\n",
      "85300\n",
      "85400\n",
      "85500\n",
      "85600\n",
      "85700\n",
      "85800\n",
      "85900\n",
      "86000\n",
      "86100\n",
      "86200\n",
      "86300\n",
      "86400\n",
      "86500\n",
      "86600\n",
      "86700\n",
      "86800\n",
      "86900\n",
      "87000\n",
      "87100\n",
      "87200\n",
      "87300\n",
      "87400\n",
      "87500\n",
      "87600\n",
      "87700\n",
      "87800\n",
      "87900\n",
      "88000\n",
      "88100\n",
      "88200\n",
      "88300\n",
      "88400\n",
      "88500\n",
      "88600\n",
      "88700\n",
      "88800\n",
      "88900\n",
      "89000\n",
      "89100\n",
      "89200\n",
      "89300\n",
      "89400\n",
      "89500\n",
      "89600\n",
      "89700\n",
      "89800\n",
      "89900\n",
      "90000\n",
      "90100\n",
      "90200\n",
      "90300\n",
      "90400\n",
      "90500\n",
      "90600\n",
      "90700\n",
      "90800\n",
      "90900\n",
      "91000\n",
      "91100\n",
      "91200\n",
      "91300\n",
      "91400\n",
      "91500\n",
      "91600\n",
      "91700\n",
      "91800\n",
      "91900\n",
      "92000\n",
      "92100\n",
      "92200\n",
      "92300\n",
      "92400\n",
      "92500\n",
      "92600\n",
      "92700\n",
      "92800\n",
      "92900\n",
      "93000\n",
      "93100\n",
      "93200\n",
      "93300\n",
      "93400\n",
      "93500\n",
      "93600\n",
      "93700\n",
      "93800\n",
      "93900\n",
      "94000\n",
      "94100\n",
      "94200\n",
      "94300\n",
      "94400\n",
      "94500\n",
      "94600\n",
      "94700\n",
      "94800\n",
      "94900\n",
      "95000\n",
      "95100\n",
      "95200\n",
      "95300\n",
      "95400\n",
      "95500\n",
      "95600\n",
      "95700\n",
      "95800\n",
      "95900\n",
      "96000\n",
      "96100\n",
      "96200\n",
      "96300\n",
      "96400\n",
      "96500\n",
      "96600\n",
      "96700\n",
      "96800\n",
      "96900\n",
      "97000\n",
      "97100\n",
      "97200\n",
      "97300\n",
      "97400\n",
      "97500\n",
      "97600\n",
      "97700\n",
      "97800\n",
      "97900\n",
      "98000\n",
      "98100\n",
      "98200\n",
      "98300\n",
      "98400\n",
      "98500\n",
      "98600\n",
      "98700\n",
      "98800\n",
      "98900\n",
      "99000\n",
      "99100\n",
      "99200\n",
      "99300\n",
      "99400\n",
      "99500\n",
      "99600\n",
      "99700\n",
      "99800\n",
      "99900\n"
     ]
    }
   ],
   "source": [
    "#DAI CHE CE LA FACCIAMO\n",
    "for a,b in surfer.visit():\n",
    "    g.add_edge(a,b)"
   ]
  },
  {
   "cell_type": "code",
   "execution_count": 89,
   "metadata": {},
   "outputs": [
    {
     "data": {
      "image/png": "[encoded data removed]",
      "text/plain": [
       "<Figure size 432x288 with 1 Axes>"
      ]
     },
     "metadata": {},
     "output_type": "display_data"
    }
   ],
   "source": [
    "nx.draw(g, nx.spring_layout(g))"
   ]
  },
  {
   "cell_type": "code",
   "execution_count": 43,
   "metadata": {},
   "outputs": [
    {
     "data": {
      "text/plain": [
       "(646427, 2050406)"
      ]
     },
     "execution_count": 43,
     "metadata": {},
     "output_type": "execute_result"
    }
   ],
   "source": [
    "g.order(), g.size()"
   ]
  },
  {
   "cell_type": "code",
   "execution_count": 44,
   "metadata": {},
   "outputs": [],
   "source": [
    "nx.write_graphml(g,path=\"graphs/komoot-network-100000.graphml\")"
   ]
  },
  {
   "cell_type": "markdown",
   "metadata": {},
   "source": [
    "## 4. Togliamo le foglie"
   ]
  },
  {
   "cell_type": "markdown",
   "metadata": {},
   "source": [
    "Per prima cosa togliamo le foglie dal nostro grafo"
   ]
  },
  {
   "cell_type": "code",
   "execution_count": 7,
   "metadata": {},
   "outputs": [],
   "source": [
    "g = nx.read_graphml(\"graphs/komoot-network.graphml\")"
   ]
  },
  {
   "cell_type": "code",
   "execution_count": 58,
   "metadata": {},
   "outputs": [
    {
     "data": {
      "text/plain": [
       "(1595, 2085)"
      ]
     },
     "execution_count": 58,
     "metadata": {},
     "output_type": "execute_result"
    }
   ],
   "source": [
    "g.order(), g.size()"
   ]
  },
  {
   "cell_type": "code",
   "execution_count": 48,
   "metadata": {},
   "outputs": [],
   "source": [
    "leafs = [x for x in g.nodes() if g.out_degree(x)==0]\n",
    "g.remove_nodes_from(leafs)"
   ]
  },
  {
   "cell_type": "code",
   "execution_count": 32,
   "metadata": {},
   "outputs": [
    {
     "data": {
      "text/plain": [
       "(7755, 133901)"
      ]
     },
     "execution_count": 32,
     "metadata": {},
     "output_type": "execute_result"
    }
   ],
   "source": [
    "g.order(), g.size()"
   ]
  },
  {
   "cell_type": "markdown",
   "metadata": {},
   "source": [
    "A quanto pare va eseguita più volte, sigh :'("
   ]
  },
  {
   "cell_type": "code",
   "execution_count": 33,
   "metadata": {},
   "outputs": [
    {
     "data": {
      "text/plain": [
       "[]"
      ]
     },
     "execution_count": 33,
     "metadata": {},
     "output_type": "execute_result"
    }
   ],
   "source": [
    "leafs = [x for x in g.nodes() if g.out_degree(x)==0]\n",
    "leafs"
   ]
  },
  {
   "cell_type": "code",
   "execution_count": 22,
   "metadata": {},
   "outputs": [
    {
     "data": {
      "image/png": "[encoded data removed]",
      "text/plain": [
       "<Figure size 432x288 with 1 Axes>"
      ]
     },
     "metadata": {},
     "output_type": "display_data"
    }
   ],
   "source": [
    "nx.draw(g, nx.spring_layout(g))"
   ]
  },
  {
   "cell_type": "code",
   "execution_count": 34,
   "metadata": {},
   "outputs": [],
   "source": [
    "nx.write_graphml(g,path=\"graphs/komoot-network-10000-wo-leafs.graphml\")"
   ]
  },
  {
   "cell_type": "markdown",
   "metadata": {},
   "source": [
    "## 5. Otteniamo altre informazioni sugli utenti"
   ]
  },
  {
   "cell_type": "markdown",
   "metadata": {},
   "source": [
    "Per prima cosa impostiamo la funzione per trovare il paese date le coordinate. Successivamente vogliamo ottenere la lista degli ultimi 5 tour e dalla moda dei valori stimare due informazioni: il paese dell'utente e il suo sport preferito."
   ]
  },
  {
   "cell_type": "code",
   "execution_count": 7,
   "metadata": {},
   "outputs": [],
   "source": [
    "g = nx.read_graphml(\"graphs/komoot-network-100000-wo-leafs.graphml\")"
   ]
  },
  {
   "cell_type": "code",
   "execution_count": 8,
   "metadata": {},
   "outputs": [],
   "source": [
    "import countries\n",
    "\n",
    "#sudo apt install libdgal-dev gdal-bin\n",
    "\n",
    "def get_country(lat, long):\n",
    "    cc = countries.CountryChecker('maps/TM_WORLD_BORDERS-0.3.shp')\n",
    "    try:\n",
    "        iso = cc.getCountry(countries.Point(lat, long)).iso\n",
    "    except:\n",
    "        iso = \"Unknown\"\n",
    "    return iso"
   ]
  },
  {
   "cell_type": "code",
   "execution_count": 9,
   "metadata": {},
   "outputs": [],
   "source": [
    "def get_user_tours_info(user_id, session=None):\n",
    "    url = f'https://www.komoot.com/api/v007/users/{user_id}/tours/'\n",
    "    \n",
    "    if session == None:\n",
    "        session = requests.Session()\n",
    "    \n",
    "    params = {\n",
    "        'sort_field': 'date',\n",
    "        'sort_direction': 'desc',\n",
    "        'status': 'public',\n",
    "        'hl': 'it',\n",
    "        'page': 0,\n",
    "        'limit': 5,\n",
    "    }\n",
    "    \n",
    "    countries = list()\n",
    "    sport_type = list()\n",
    "    \n",
    "    try:\n",
    "        resp = session.get(url=url, params=params)\n",
    "    except:\n",
    "        sleep(5)\n",
    "        resp = session.get(url=url, params=params)\n",
    "        \n",
    "    data = resp.json()\n",
    "\n",
    "    if resp.status_code != 200:\n",
    "        raise Exception(\"Response code \" + str(resp.status_code)) \n",
    "\n",
    "    if data['page']['totalElements'] == 0:\n",
    "        return 'Unknown', 'Unknown'\n",
    "    \n",
    "    try:\n",
    "        for tour in data['_embedded']['tours']:\n",
    "            countries.append(get_country(tour['start_point']['lat'], tour['start_point']['lng']))\n",
    "            sport_type.append(tour['sport'])\n",
    "    except:\n",
    "        return \"Unknown\", \"Unknown\"\n",
    "    \n",
    "    return max(set(countries), key=countries.count), max(set(sport_type), key=sport_type.count)"
   ]
  },
  {
   "cell_type": "code",
   "execution_count": 60,
   "metadata": {},
   "outputs": [
    {
     "data": {
      "text/plain": [
       "('GB', 'racebike')"
      ]
     },
     "execution_count": 60,
     "metadata": {},
     "output_type": "execute_result"
    }
   ],
   "source": [
    "get_user_tours_info(seed_user_id)"
   ]
  },
  {
   "cell_type": "markdown",
   "metadata": {},
   "source": [
    "Infine, otteniamo il numero di KM totali dalla pagina profilo, e anche il nome"
   ]
  },
  {
   "cell_type": "code",
   "execution_count": 10,
   "metadata": {},
   "outputs": [],
   "source": [
    "def get_user_info(user_id):\n",
    "    #Imposto l'endpoint\n",
    "    url = f\"https://www.komoot.com/it-it/user/{user_id}\"\n",
    "    \n",
    "    #Creo una richiesta con BeautifulSoup e filtro il risultato\n",
    "    try:\n",
    "        resp = requests.get(url=url, params={})\n",
    "    except:\n",
    "        sleep(10)\n",
    "        resp = requests.get(url=url, params={})\n",
    "        \n",
    "    soup = BeautifulSoup(resp.content)\n",
    "    \n",
    "    temp_km = soup.find_all(\"p\", {\"class\": \"css-1sqi9d7\"})\n",
    "    km = 0\n",
    "    if len(temp_km) > 0 and temp_km[0].text[-2:] == \"km\":\n",
    "        km = int(float(temp_km[0].text[:-3].replace('.', '').replace(',', '.')))\n",
    "        \n",
    "    temp_name = soup.find_all(\"a\", {\"class\": \"c-link c-link--inherit\"})\n",
    "    name = \"Unknown\"\n",
    "    if len(temp_name) > 0:\n",
    "        name = temp_name[0].text\n",
    "        \n",
    "    return name, km\n",
    "    "
   ]
  },
  {
   "cell_type": "code",
   "execution_count": 61,
   "metadata": {},
   "outputs": [
    {
     "data": {
      "text/plain": [
       "('James', 663)"
      ]
     },
     "execution_count": 61,
     "metadata": {},
     "output_type": "execute_result"
    }
   ],
   "source": [
    "get_user_info(seed_user_id)"
   ]
  },
  {
   "cell_type": "markdown",
   "metadata": {},
   "source": [
    "## 6. Aggiungiamo queste informazioni a tutti i nodi"
   ]
  },
  {
   "cell_type": "code",
   "execution_count": 71,
   "metadata": {},
   "outputs": [],
   "source": [
    "class KomootCuriosonePersistent():\n",
    "    def __init__(self, graph, nodes=None, reset=True):\n",
    "        self.queue = persistqueue.Queue(\"dbs/curiosone.queue\")\n",
    "        if reset:\n",
    "            self.empty_queue()\n",
    "            if nodes == None:\n",
    "                nodes == list(graph.nodes())\n",
    "            for node in nodes:\n",
    "                self.queue.put(node)\n",
    "            self.queue.put(0)\n",
    "            print(len(nodes))\n",
    "\n",
    "    def empty_queue(self):\n",
    "        while not self.queue.empty():\n",
    "            self.queue.get()\n",
    "\n",
    "    def get_next(self):\n",
    "        return self.queue.get()"
   ]
  },
  {
   "cell_type": "code",
   "execution_count": 83,
   "metadata": {
    "collapsed": true
   },
   "outputs": [
    {
     "data": {
      "text/plain": [
       "['100007752930',\n",
       " '1000539632682',\n",
       " '1000571341626',\n",
       " '1000661588172',\n",
       " '1000756011085',\n",
       " '1000813231046',\n",
       " '1000932777252',\n",
       " '1001169699328',\n",
       " '1001199525372',\n",
       " '1001536768564',\n",
       " '1001567781365',\n",
       " '1001570454466',\n",
       " '1001572576631',\n",
       " '1001645415190',\n",
       " '1001757195923',\n",
       " '1001896563689',\n",
       " '1002093487757',\n",
       " '1002411027504',\n",
       " '1002633605619',\n",
       " '1003054025365',\n",
       " '1003063831313',\n",
       " '1003196601521',\n",
       " '1003457642912',\n",
       " '1003520879270',\n",
       " '1003554749254',\n",
       " '1003624914081',\n",
       " '1003689515819',\n",
       " '1003869928325',\n",
       " '1003879648628',\n",
       " '1004002971961',\n",
       " '100416488782',\n",
       " '1004428551695',\n",
       " '1004853178034',\n",
       " '100494161472',\n",
       " '1004979786828',\n",
       " '1004985750212',\n",
       " '100503074887',\n",
       " '1005422491708',\n",
       " '1005426201526',\n",
       " '1005426895832',\n",
       " '1005532397034',\n",
       " '100565315861',\n",
       " '1005677948654',\n",
       " '1005749042776',\n",
       " '1005892282271',\n",
       " '1006085636222',\n",
       " '1006199545683',\n",
       " '100621364064',\n",
       " '1006335796829',\n",
       " '1006723347150',\n",
       " '1006814077643',\n",
       " '1006954432027',\n",
       " '1007005155379',\n",
       " '1007349132285',\n",
       " '1007543637976',\n",
       " '1007860656669',\n",
       " '1007957989241',\n",
       " '1008706293331',\n",
       " '1008720538604',\n",
       " '1008822585400',\n",
       " '1008934506996',\n",
       " '1008977568501',\n",
       " '1009353033858',\n",
       " '1009551281431',\n",
       " '1009713712103',\n",
       " '1009831324825',\n",
       " '1009895002523',\n",
       " '1009914807635',\n",
       " '1009924540207',\n",
       " '1010027726176',\n",
       " '1010111357192',\n",
       " '101026752319',\n",
       " '1010395854383',\n",
       " '1010487419436',\n",
       " '1010923550658',\n",
       " '1011083855400',\n",
       " '1011213642113',\n",
       " '1011255527676',\n",
       " '101174123186',\n",
       " '101176354230',\n",
       " '101232823070',\n",
       " '1012505944705',\n",
       " '1012566199695',\n",
       " '1013075875360',\n",
       " '1013285996628',\n",
       " '1013582184040',\n",
       " '1013720797907',\n",
       " '1013727835465',\n",
       " '1013889974278',\n",
       " '1013998651618',\n",
       " '1014943410405',\n",
       " '1014948720416',\n",
       " '1015259904078',\n",
       " '1015360550223',\n",
       " '1015409290476',\n",
       " '1015590910088',\n",
       " '1016110058501',\n",
       " '1016177143335',\n",
       " '1016256948965',\n",
       " '1016981454492',\n",
       " '1017156970004',\n",
       " '1017418437663',\n",
       " '101791877549',\n",
       " '1017972557641',\n",
       " '1018169277799',\n",
       " '1018436987794',\n",
       " '101869088213',\n",
       " '101886382132',\n",
       " '1019359962928',\n",
       " '1019458080011',\n",
       " '1019464972443',\n",
       " '1020077680016',\n",
       " '1020240379556',\n",
       " '1020492940510',\n",
       " '1020497410691',\n",
       " '1020846423021',\n",
       " '1021260578402',\n",
       " '1021261804379',\n",
       " '1021697014775',\n",
       " '102185458535',\n",
       " '1021897787300',\n",
       " '1021946699128',\n",
       " '1022590423721',\n",
       " '1022636574922',\n",
       " '1022657542060',\n",
       " '1023019587741',\n",
       " '1023719854449',\n",
       " '1024020220028',\n",
       " '1024113193619',\n",
       " '1024253038862',\n",
       " '1024679896893',\n",
       " '1025014913465',\n",
       " '1025110909884',\n",
       " '1025138432241',\n",
       " '1025318435838',\n",
       " '1025886513512',\n",
       " '1025896703998',\n",
       " '1025914736384',\n",
       " '1025988387765',\n",
       " '1026069165475',\n",
       " '102647954169',\n",
       " '1026641269743',\n",
       " '1027382892527',\n",
       " '102757396442',\n",
       " '102764959269',\n",
       " '1027691952944',\n",
       " '1027848671261',\n",
       " '1027890089193',\n",
       " '1027973746093',\n",
       " '1028101261139',\n",
       " '1028382735442',\n",
       " '1028422449994',\n",
       " '1028556506592',\n",
       " '1028563266830',\n",
       " '1029004732482',\n",
       " '1029134462630',\n",
       " '1029212592999',\n",
       " '1029236206737',\n",
       " '1029506440609',\n",
       " '1029545202220',\n",
       " '1029671225743',\n",
       " '1029731968991',\n",
       " '1030128990245',\n",
       " '1030339531225',\n",
       " '1030778020110',\n",
       " '103083495407',\n",
       " '1030961498440',\n",
       " '1031033622838',\n",
       " '1031503610637',\n",
       " '1031549217134',\n",
       " '1031579900377',\n",
       " '1031664405942',\n",
       " '1031759400742',\n",
       " '1031802558322',\n",
       " '1032145668273',\n",
       " '1032217129087',\n",
       " '1032344510058',\n",
       " '103235969698',\n",
       " '103253687675',\n",
       " '1033083989738',\n",
       " '1033279954276',\n",
       " '1033364046449',\n",
       " '1033465890826',\n",
       " '1033569713382',\n",
       " '1034209250060',\n",
       " '1034714923059',\n",
       " '1034778822558',\n",
       " '1034864133651',\n",
       " '1035174147409',\n",
       " '103558759582',\n",
       " '1035949175777',\n",
       " '1036060144761',\n",
       " '1036170651408',\n",
       " '1036386680703',\n",
       " '1036446411701',\n",
       " '1036686426690',\n",
       " '1036836825976',\n",
       " '103699337142',\n",
       " '103761397828',\n",
       " '1037890720482',\n",
       " '1038006853311',\n",
       " '103813468254',\n",
       " '1038254866163',\n",
       " '1038289918005',\n",
       " '1038307947406',\n",
       " '1038348589878',\n",
       " '1038353740970',\n",
       " '1038511597553',\n",
       " '1038587706459',\n",
       " '1038679806330',\n",
       " '1038685309648',\n",
       " '1038793074602',\n",
       " '1038917125685',\n",
       " '1038919609573',\n",
       " '1039155666953',\n",
       " '1039193630645',\n",
       " '103919746555',\n",
       " '1039229819340',\n",
       " '1039466151866',\n",
       " '1039466276500',\n",
       " '1039474786123',\n",
       " '1039537305184',\n",
       " '1039601746215',\n",
       " '103964895819',\n",
       " '1039665902507',\n",
       " '1039908330194',\n",
       " '1040023904778',\n",
       " '104010870950',\n",
       " '1040127764508',\n",
       " '1040128727663',\n",
       " '1040431968006',\n",
       " '1040680819373',\n",
       " '1040702697472',\n",
       " '1041871662800',\n",
       " '1041883200818',\n",
       " '1041938996713',\n",
       " '1042144683729',\n",
       " '1042231703615',\n",
       " '1042286875896',\n",
       " '1042306824346',\n",
       " '1042854981807',\n",
       " '1042951113784',\n",
       " '1043005122429',\n",
       " '1043124015214',\n",
       " '1043936534083',\n",
       " '1044232489275',\n",
       " '1044400233021',\n",
       " '1044444613702',\n",
       " '1045038351715',\n",
       " '104567979941',\n",
       " '1045695028599',\n",
       " '1045713072509',\n",
       " '1045831352580',\n",
       " '1046771069809',\n",
       " '1046842240170',\n",
       " '1046877946550',\n",
       " '1046997612586',\n",
       " '1047050150372',\n",
       " '1047352586375',\n",
       " '1047702014815',\n",
       " '1047755112656',\n",
       " '1047766712166',\n",
       " '1047863532673',\n",
       " '1049011139691',\n",
       " '1049260189517',\n",
       " '1049278778942',\n",
       " '1049496280578',\n",
       " '1049559635017',\n",
       " '1049673890919',\n",
       " '1049692953493',\n",
       " '1050026174626',\n",
       " '1050090362542',\n",
       " '1050317366792',\n",
       " '1050390067299',\n",
       " '1050908208297',\n",
       " '1051015405695',\n",
       " '1051307326147',\n",
       " '1051367838558',\n",
       " '105151290663',\n",
       " '1051623350582',\n",
       " '1051773592397',\n",
       " '1052026353251',\n",
       " '1052328311035',\n",
       " '1052411888210',\n",
       " '1052487932378',\n",
       " '1053364771185',\n",
       " '1053753000533',\n",
       " '1053969955234',\n",
       " '1054024294443',\n",
       " '1054285005256',\n",
       " '1054424723194',\n",
       " '1054561081562',\n",
       " '1054584920344',\n",
       " '1055041654444',\n",
       " '1055066380339',\n",
       " '1055218679851',\n",
       " '1055321998338',\n",
       " '1055655817177',\n",
       " '1055764145895',\n",
       " '105576607267',\n",
       " '1055808962280',\n",
       " '1055822444757',\n",
       " '1055838499433',\n",
       " '1056089993427',\n",
       " '1057041258908',\n",
       " '1057073320842',\n",
       " '105731613419',\n",
       " '1057462967519',\n",
       " '1057532489252',\n",
       " '1057674379465',\n",
       " '105770170924',\n",
       " '1059481264715',\n",
       " '1059623116637',\n",
       " '1060039020099',\n",
       " '1060085039373',\n",
       " '106012897152',\n",
       " '1060132716823',\n",
       " '106074032150',\n",
       " '1060908483608',\n",
       " '1062055682061',\n",
       " '1062103321261',\n",
       " '106266269399',\n",
       " '1063159835655',\n",
       " '1063242260684',\n",
       " '1063454674731',\n",
       " '1063504520143',\n",
       " '1063946989057',\n",
       " '1064052266282',\n",
       " '1064092690117',\n",
       " '1064144247794',\n",
       " '1064145094205',\n",
       " '1064152967285',\n",
       " '1064162811253',\n",
       " '1064339770297',\n",
       " '1064381167125',\n",
       " '1064428825982',\n",
       " '1064459844921',\n",
       " '1064602435133',\n",
       " '1064807617523',\n",
       " '1065454799861',\n",
       " '1065510258495',\n",
       " '1065667652621',\n",
       " '1066616942599',\n",
       " '1067559601748',\n",
       " '1068088359015',\n",
       " '106819852305',\n",
       " '1068416313379',\n",
       " '1068484902543',\n",
       " '1068760745595',\n",
       " '106905838810',\n",
       " '1069067089093',\n",
       " '106910856226',\n",
       " '1069722270975',\n",
       " '1070290072701',\n",
       " '1070530668157',\n",
       " '1070720297672',\n",
       " '1071228696668',\n",
       " '107126127504',\n",
       " '1071282178362',\n",
       " '1071709372947',\n",
       " '107199421528',\n",
       " '1071999152713',\n",
       " '1073366589712',\n",
       " '1073651529942',\n",
       " '1073941101352',\n",
       " '1075027504932',\n",
       " '1075817267789',\n",
       " '1075950123717',\n",
       " '107600099139',\n",
       " '1076835784112',\n",
       " '1077765224039',\n",
       " '1077904554828',\n",
       " '107918079604',\n",
       " '1079396617049',\n",
       " '1079809287722',\n",
       " '107981998638',\n",
       " '1080024447202',\n",
       " '108042311387',\n",
       " '108068025702',\n",
       " '1080754908947',\n",
       " '1081075134106',\n",
       " '1081203697984',\n",
       " '1081237671116',\n",
       " '1081710811591',\n",
       " '1083630708119',\n",
       " '1085301480308',\n",
       " '1085564084753',\n",
       " '1086700752756',\n",
       " '1087256853391',\n",
       " '1087418451786',\n",
       " '108749032787',\n",
       " '1087734787597',\n",
       " '1087736626962',\n",
       " '1087944115031',\n",
       " '1088739226908',\n",
       " '1088827397596',\n",
       " '1089252037589',\n",
       " '1089774776107',\n",
       " '109023879257',\n",
       " '1090541452935',\n",
       " '1090623146300',\n",
       " '109157983031',\n",
       " '1091989252229',\n",
       " '1092400433633',\n",
       " '1093096987469',\n",
       " '1093216695178',\n",
       " '1093755911644',\n",
       " '1094603517699',\n",
       " '109487576989',\n",
       " '1095611894133',\n",
       " '1095935246987',\n",
       " '1096977914282',\n",
       " '1096992382551',\n",
       " '1097031511343',\n",
       " '1097609464370',\n",
       " '1097954488799',\n",
       " '1098448186462',\n",
       " '1098749740681',\n",
       " '1098883765499',\n",
       " '1098908894377',\n",
       " '1099007525911',\n",
       " '1099061220879',\n",
       " '1099560043313',\n",
       " '1100286370442',\n",
       " '1100549689913',\n",
       " '1101428342021',\n",
       " '1101908579169',\n",
       " '1101991066190',\n",
       " '1102016241948',\n",
       " '1102186841353',\n",
       " '110230049347',\n",
       " '1102363273490',\n",
       " '110323233147',\n",
       " '1103421884192',\n",
       " '110346784928',\n",
       " '1105962015670',\n",
       " '1106976592631',\n",
       " '1108556843405',\n",
       " '1109045472853',\n",
       " '1109464638865',\n",
       " '1109823459119',\n",
       " '1109933977098',\n",
       " '1109937589666',\n",
       " '1109973023435',\n",
       " '1109995694085',\n",
       " '1110079578264',\n",
       " '1110241151081',\n",
       " '1110600878762',\n",
       " '111148571296',\n",
       " '1111571008549',\n",
       " '1111655006650',\n",
       " '1111961469004',\n",
       " '1112120250413',\n",
       " '1112383195928',\n",
       " '1112892462800',\n",
       " '1112923961906',\n",
       " '1113369806934',\n",
       " '1113489879197',\n",
       " '1113593449596',\n",
       " '1113839221029',\n",
       " '1113863364379',\n",
       " '1113953667142',\n",
       " '1114033917096',\n",
       " '111403443379',\n",
       " '1114903422191',\n",
       " '1114946728208',\n",
       " '1115476338849',\n",
       " '1115502502595',\n",
       " '111579263168',\n",
       " '1116322694532',\n",
       " '1116441000519',\n",
       " '1116672655470',\n",
       " '1117029205638',\n",
       " '111728874383',\n",
       " '1117431415609',\n",
       " '1117497524954',\n",
       " '1118977608993',\n",
       " '1119221187540',\n",
       " '1119381237003',\n",
       " '1120398007497',\n",
       " '1120897686643',\n",
       " '1121425156661',\n",
       " '1122401556671',\n",
       " '1124475039404',\n",
       " '1126232540879',\n",
       " '1126972686126',\n",
       " '1128202316568',\n",
       " '112897148291',\n",
       " '112928210140',\n",
       " '1129368264374',\n",
       " '1129933553806',\n",
       " '1130125238384',\n",
       " '1130744049483',\n",
       " '1130811200284',\n",
       " '1130875627756',\n",
       " '1130970362098',\n",
       " '1131168412794',\n",
       " '1131982106351',\n",
       " '1132027416043',\n",
       " '1132203525089',\n",
       " '1132916976162',\n",
       " '1134415202903',\n",
       " '1134424515101',\n",
       " '1134444823663',\n",
       " '1134465753492',\n",
       " '1135227036824',\n",
       " '1135236489615',\n",
       " '1135713659075',\n",
       " '1135905225971',\n",
       " '1136138976332',\n",
       " '1136281104054',\n",
       " '1136724531050',\n",
       " '1136742797625',\n",
       " '1137631931202',\n",
       " '1138977683998',\n",
       " '1139493834562',\n",
       " '1139526844470',\n",
       " '1140428678464',\n",
       " '1140855004287',\n",
       " '1140996244819',\n",
       " '1141360526309',\n",
       " '1142601541830',\n",
       " '1143099911958',\n",
       " '114322113717',\n",
       " '1144541499043',\n",
       " '1145836255765',\n",
       " '1146069651216',\n",
       " '1146129072280',\n",
       " '114614488737',\n",
       " '1146335069873',\n",
       " '1146343393092',\n",
       " '1146405970147',\n",
       " '114656303683',\n",
       " '1146738735599',\n",
       " '1146912869132',\n",
       " '1147257994389',\n",
       " '114726867072',\n",
       " '1147676898886',\n",
       " '114795359754',\n",
       " '1148785986645',\n",
       " '1148786182204',\n",
       " '1148886734254',\n",
       " '1149163555739',\n",
       " '114933031700',\n",
       " '1150275434328',\n",
       " '1150341412322',\n",
       " '1151309324041',\n",
       " '1151356659992',\n",
       " '1151417521267',\n",
       " '1152408679075',\n",
       " '1153472688957',\n",
       " '1154830943669',\n",
       " '1154929380456',\n",
       " '1155423109663',\n",
       " '1155502985897',\n",
       " '1155810954538',\n",
       " '115671650919',\n",
       " '1156879642866',\n",
       " '1157062815723',\n",
       " '1159330196897',\n",
       " '1159772124191',\n",
       " '1160248502900',\n",
       " '1162575857543',\n",
       " '1162893862884',\n",
       " '116289465932',\n",
       " '1163079547034',\n",
       " '116314052528',\n",
       " '116329626203',\n",
       " '1163306207746',\n",
       " '1163383047727',\n",
       " '1164369668752',\n",
       " '1164438634510',\n",
       " '1165749867069',\n",
       " '116586645200',\n",
       " '1168134654442',\n",
       " '1168434822621',\n",
       " '116845939838',\n",
       " '1168474284606',\n",
       " '1168770165011',\n",
       " '1168946325274',\n",
       " '1169024816013',\n",
       " '116944832281',\n",
       " '1169841246386',\n",
       " '1169850350951',\n",
       " '1170036327141',\n",
       " '1170072964876',\n",
       " '1170508302002',\n",
       " '1170895293173',\n",
       " '1171009291921',\n",
       " '1171250446638',\n",
       " '1171623064307',\n",
       " '1172318679005',\n",
       " '1172359102884',\n",
       " '1172658864887',\n",
       " '1173034381203',\n",
       " '117394076504',\n",
       " '1174208652893',\n",
       " '1174840754561',\n",
       " '1174958204528',\n",
       " '1175027723519',\n",
       " '1176140749470',\n",
       " '117616886797',\n",
       " '1176393201438',\n",
       " '118022396568',\n",
       " '1181663808185',\n",
       " '118308143495',\n",
       " '1183366689378',\n",
       " '1184084626730',\n",
       " '1184569419359',\n",
       " '1184583388516',\n",
       " '1185388673916',\n",
       " '1185474090662',\n",
       " '1185701134956',\n",
       " '1185969312244',\n",
       " '1186424521373',\n",
       " '1186650892496',\n",
       " '1187433879113',\n",
       " '118743434316',\n",
       " '118806283801',\n",
       " '1189125754755',\n",
       " '1189328815222',\n",
       " '118999355888',\n",
       " '1190112796802',\n",
       " '1190272825373',\n",
       " '119036489470',\n",
       " '1190902538238',\n",
       " '1191102701377',\n",
       " '1191107907623',\n",
       " '1191437254784',\n",
       " '119161405278',\n",
       " '1191834800907',\n",
       " '1191910312327',\n",
       " '1192432857043',\n",
       " '119261800789',\n",
       " '1192663699794',\n",
       " '1192963086433',\n",
       " '1193009255369',\n",
       " '1193391219890',\n",
       " '119382267949',\n",
       " '119391848966',\n",
       " '1194210561540',\n",
       " '1194701056011',\n",
       " '1195258919250',\n",
       " '1195668591798',\n",
       " '1195830695569',\n",
       " '1196098780462',\n",
       " '1197301699102',\n",
       " '1197653793180',\n",
       " '1199216757771',\n",
       " '1199464675643',\n",
       " '1199810695920',\n",
       " '120007321229',\n",
       " '120104384611',\n",
       " '1201271975934',\n",
       " '120129215555',\n",
       " '1202030876786',\n",
       " '1203437311477',\n",
       " '1203438043806',\n",
       " '120437766554',\n",
       " '1204496716253',\n",
       " '1206528103112',\n",
       " '1207865476485',\n",
       " '1208233156110',\n",
       " '1209971057661',\n",
       " '1210333791226',\n",
       " '1210471249658',\n",
       " '1210480421184',\n",
       " '1210517818308',\n",
       " '1210668162938',\n",
       " '1213280908991',\n",
       " '1213438443534',\n",
       " '1214106101197',\n",
       " '1214438194739',\n",
       " '1215269157568',\n",
       " '1215510070848',\n",
       " '1215850614768',\n",
       " '1215918083880',\n",
       " '121679597849',\n",
       " '1216797565748',\n",
       " '121702608364',\n",
       " '1217084660337',\n",
       " '1217277940823',\n",
       " '1217322371571',\n",
       " '1217419170916',\n",
       " '1218064938204',\n",
       " '1219029705459',\n",
       " '1219477892777',\n",
       " '1219894038806',\n",
       " '1220393860638',\n",
       " '1221221535755',\n",
       " '1222136460977',\n",
       " '1222876611122',\n",
       " '1223094315657',\n",
       " '1224388952863',\n",
       " '1225988847326',\n",
       " '1226056005436',\n",
       " '1226165271534',\n",
       " '1226678301981',\n",
       " '1226718781165',\n",
       " '1227466777355',\n",
       " '1227643046448',\n",
       " '1228117556544',\n",
       " '1228232031183',\n",
       " '1229175394011',\n",
       " '122922072295',\n",
       " '1229427944139',\n",
       " '122985221979',\n",
       " '1230365719501',\n",
       " '1230644812407',\n",
       " '1231085177264',\n",
       " '1231143457149',\n",
       " '123195062182',\n",
       " '1232397972876',\n",
       " '1232739809227',\n",
       " '1232976363767',\n",
       " '123387693194',\n",
       " '123401924027',\n",
       " '1234225056309',\n",
       " '1234248910880',\n",
       " '1234467081525',\n",
       " '1234587390925',\n",
       " '1234948387245',\n",
       " '1235475487459',\n",
       " '1235752103125',\n",
       " '1235928017499',\n",
       " '123627954853',\n",
       " '1236323984507',\n",
       " '1236947978270',\n",
       " '1236979227321',\n",
       " '123701954619',\n",
       " '1237165682049',\n",
       " '123814217173',\n",
       " '1238336873948',\n",
       " '123877527117',\n",
       " '1239171833181',\n",
       " '1239444499978',\n",
       " '1239795818540',\n",
       " '1239831244195',\n",
       " '1240048020453',\n",
       " '1240491635708',\n",
       " '1240620991746',\n",
       " '1240802376417',\n",
       " '1240838953195',\n",
       " '1240977538477',\n",
       " '1242139171923',\n",
       " '1242799006924',\n",
       " '1242896727234',\n",
       " '1243200286239',\n",
       " '1243455527617',\n",
       " '1243460118940',\n",
       " '1243700724120',\n",
       " '1244247946024',\n",
       " '1244368719594',\n",
       " '1244816591141',\n",
       " '1244881754181',\n",
       " '1244988189208',\n",
       " '1245049731408',\n",
       " '1245551755222',\n",
       " '1245572174395',\n",
       " '1246170388302',\n",
       " '1246560881940',\n",
       " '1246944450736',\n",
       " '124701700441',\n",
       " '1247121999231',\n",
       " '1247275789473',\n",
       " '1247479098962',\n",
       " '1247957535981',\n",
       " '124930191041',\n",
       " '124934364160',\n",
       " '1249439988913',\n",
       " '1249454119822',\n",
       " '1249560151838',\n",
       " '124972622011',\n",
       " '1250773494759',\n",
       " '1251165920736',\n",
       " '1251260831902',\n",
       " '1251411449131',\n",
       " '125144085083',\n",
       " '1251446401557',\n",
       " '1252934473759',\n",
       " '1254025462556',\n",
       " '1254534474133',\n",
       " '1255187838474',\n",
       " '1255334125807',\n",
       " '125574211397',\n",
       " '1256630616693',\n",
       " '1256799080173',\n",
       " '1257425813661',\n",
       " '1257696217340',\n",
       " '1258094424732',\n",
       " '125873965575',\n",
       " '1259193826013',\n",
       " '1259581485847',\n",
       " '125970382717',\n",
       " '1260073676530',\n",
       " '1261731697143',\n",
       " '1262192970526',\n",
       " '126222552511',\n",
       " '1262445545506',\n",
       " '1262469191020',\n",
       " '1263105356297',\n",
       " '1264580879272',\n",
       " '1265324736865',\n",
       " '1265399688567',\n",
       " '1265615538869',\n",
       " '1265645419073',\n",
       " '1266332509283',\n",
       " '1266378059850',\n",
       " '1266499329988',\n",
       " '1268254799585',\n",
       " '126950305743',\n",
       " '1269797829791',\n",
       " '1271058685865',\n",
       " '1271567419073',\n",
       " '1272194644972',\n",
       " '1272469285678',\n",
       " '1272551704926',\n",
       " '1273972264752',\n",
       " '127562205170',\n",
       " '127598165315',\n",
       " '1276850516789',\n",
       " '1277417542470',\n",
       " '1277600147380',\n",
       " '1277996562993',\n",
       " '1278448713952',\n",
       " '1278755913679',\n",
       " '1279065955331',\n",
       " '1279902891475',\n",
       " '1279981582706',\n",
       " '1280290642381',\n",
       " '1280871858415',\n",
       " '128121308264',\n",
       " '128270515410',\n",
       " '1282900611774',\n",
       " '1283032093325',\n",
       " '128307809922',\n",
       " '1283199134806',\n",
       " '128334694576',\n",
       " '1283411788782',\n",
       " '1283542069922',\n",
       " '1284015926856',\n",
       " '128441742977',\n",
       " '1285391872674',\n",
       " '128597067877',\n",
       " '1287337504345',\n",
       " '1288468043087',\n",
       " '129000610173',\n",
       " '1290522167229',\n",
       " '129155240978',\n",
       " '1291804052525',\n",
       " '1292448666283',\n",
       " '1293328412402',\n",
       " '1293403693388',\n",
       " '129367191847',\n",
       " '1294026369518',\n",
       " '129427198419',\n",
       " '1295233861835',\n",
       " '1295347854842',\n",
       " '1295389563996',\n",
       " '1295406447923',\n",
       " '1295701945401',\n",
       " '1296618213241',\n",
       " '1297882321050',\n",
       " '1298567780941',\n",
       " '1298574609970',\n",
       " '1299230521763',\n",
       " '1299433014406',\n",
       " '1300108117689',\n",
       " '1300272937141',\n",
       " '1300878438255',\n",
       " '1301081169526',\n",
       " '1301539569880',\n",
       " '1302089846630',\n",
       " '1302255341670',\n",
       " '1303471834709',\n",
       " '1305189987176',\n",
       " '130543183764',\n",
       " '1305854609844',\n",
       " '1305962013889',\n",
       " '1306157040640',\n",
       " '1306828584135',\n",
       " '1306847860223',\n",
       " '1307566930361',\n",
       " '1307858183362',\n",
       " '1309423338603',\n",
       " '1309691144872',\n",
       " '1309740294941',\n",
       " '1310659630617',\n",
       " '1310669754018',\n",
       " '1310799306059',\n",
       " '1311154496061',\n",
       " '1311456090696',\n",
       " '1314914138299',\n",
       " '1314953462980',\n",
       " '1315479898961',\n",
       " '1315620894752',\n",
       " '131687335470',\n",
       " '1317134608066',\n",
       " '1317248911231',\n",
       " '1317944732465',\n",
       " '1318745149383',\n",
       " '1318781122258',\n",
       " '1319710685260',\n",
       " '1319849775385',\n",
       " '1321761961226',\n",
       " '1321766606927',\n",
       " '1322518500187',\n",
       " '1322743615923',\n",
       " '1322816901986',\n",
       " '1323151705568',\n",
       " '1323795064900',\n",
       " '132398586078',\n",
       " '1324377039406',\n",
       " '1324525316247',\n",
       " '1325450335806',\n",
       " '1325993088873',\n",
       " '132653688172',\n",
       " '1327087674907',\n",
       " '1327099621190',\n",
       " '1327653546970',\n",
       " '1327653907329',\n",
       " '132787572889',\n",
       " '132795950198',\n",
       " '1328577040204',\n",
       " '1328588048425',\n",
       " '1328615213246',\n",
       " '1329016036595',\n",
       " '132908498984',\n",
       " '1329868136474',\n",
       " '1330047807367',\n",
       " '1331443661877',\n",
       " '133159908810',\n",
       " '133200583660',\n",
       " '1332347324968',\n",
       " '1332741445121',\n",
       " '133285355349',\n",
       " '1334499741888',\n",
       " '1334546564027',\n",
       " '1334993710019',\n",
       " '1335296197433',\n",
       " '1335552472816',\n",
       " '1336066951963',\n",
       " '1336224168814',\n",
       " '1336405486622',\n",
       " '1337343670340',\n",
       " '133735014332',\n",
       " '1337509883505',\n",
       " '1338650475356',\n",
       " '1338697023653',\n",
       " '134023832146',\n",
       " '1340823189830',\n",
       " '1340986326136',\n",
       " '1341005079811',\n",
       " '1341370702860',\n",
       " '134168947339',\n",
       " '1341968998784',\n",
       " '1341981254016',\n",
       " '1342245223553',\n",
       " '1342502377416',\n",
       " '1342854842998',\n",
       " '1343344380114',\n",
       " '134353849225',\n",
       " '1344513896241',\n",
       " '134509246541',\n",
       " '1345540655123',\n",
       " '1346895380179',\n",
       " '1347164258706',\n",
       " '1347291214607',\n",
       " '1347600868299',\n",
       " '1348632512848',\n",
       " '1348751166981',\n",
       " '1349632515970',\n",
       " '1349940124973',\n",
       " '1349955224030',\n",
       " '135029767839',\n",
       " '1350298294227',\n",
       " '1350369573455',\n",
       " '1350370858453',\n",
       " '135068222748',\n",
       " '1350777981169',\n",
       " '1351284449270',\n",
       " '1351515451411',\n",
       " '1352148370225',\n",
       " '135272203094',\n",
       " '1352767014577',\n",
       " '1353044008665',\n",
       " '1354289192211',\n",
       " '135471053232',\n",
       " '1354791146028',\n",
       " '1355029096546',\n",
       " '1356519610495',\n",
       " '1357811705379',\n",
       " '1358420971391',\n",
       " '135874877450',\n",
       " '1359244939658',\n",
       " '135964926566',\n",
       " '1360066334616',\n",
       " '1360669528329',\n",
       " '1361115857384',\n",
       " '1361158816783',\n",
       " ...]"
      ]
     },
     "execution_count": 83,
     "metadata": {},
     "output_type": "execute_result"
    }
   ],
   "source": [
    "nodelist = list(g.nodes())\n",
    "nodelist.sort()\n",
    "nodelist = nodelist[0:5000]\n",
    "nodelist"
   ]
  },
  {
   "cell_type": "code",
   "execution_count": 78,
   "metadata": {},
   "outputs": [
    {
     "name": "stdout",
     "output_type": "stream",
     "text": [
      "5000\n"
     ]
    }
   ],
   "source": [
    "curiosone = KomootCuriosonePersistent(g, reset=True, nodes=nodelist)"
   ]
  },
  {
   "cell_type": "markdown",
   "metadata": {},
   "source": [
    "Ora vogliamo prendere un utente alla volta e aggiungere le informazioni al grafo"
   ]
  },
  {
   "cell_type": "code",
   "execution_count": 16,
   "metadata": {
    "collapsed": true
   },
   "outputs": [
    {
     "name": "stdout",
     "output_type": "stream",
     "text": [
      "0\n",
      "100\n",
      "200\n",
      "300\n",
      "400\n",
      "500\n",
      "600\n",
      "700\n",
      "800\n",
      "900\n",
      "1000\n",
      "1100\n",
      "1200\n",
      "1300\n",
      "1400\n",
      "1500\n",
      "1600\n",
      "1700\n",
      "1800\n",
      "1900\n",
      "2000\n",
      "2100\n",
      "2200\n",
      "2300\n",
      "2400\n",
      "2500\n",
      "2600\n",
      "2700\n",
      "2800\n",
      "2900\n",
      "3000\n"
     ]
    },
    {
     "ename": "KeyError",
     "evalue": "'start_point'",
     "output_type": "error",
     "traceback": [
      "\u001b[0;31m---------------------------------------------------------------------------\u001b[0m",
      "\u001b[0;31mKeyError\u001b[0m                                  Traceback (most recent call last)",
      "Input \u001b[0;32mIn [16]\u001b[0m, in \u001b[0;36m<cell line: 4>\u001b[0;34m()\u001b[0m\n\u001b[1;32m     15\u001b[0m \u001b[38;5;66;03m#Otteniamo tutte le info per l'utente e le inseriamo in un dizionario apposito\u001b[39;00m\n\u001b[1;32m     16\u001b[0m g\u001b[38;5;241m.\u001b[39mnodes[user_id][\u001b[38;5;124m\"\u001b[39m\u001b[38;5;124mname\u001b[39m\u001b[38;5;124m\"\u001b[39m], g\u001b[38;5;241m.\u001b[39mnodes[user_id][\u001b[38;5;124m\"\u001b[39m\u001b[38;5;124mkm\u001b[39m\u001b[38;5;124m\"\u001b[39m] \u001b[38;5;241m=\u001b[39m get_user_info(user_id)\n\u001b[0;32m---> 17\u001b[0m g\u001b[38;5;241m.\u001b[39mnodes[user_id][\u001b[38;5;124m\"\u001b[39m\u001b[38;5;124mcountry\u001b[39m\u001b[38;5;124m\"\u001b[39m], g\u001b[38;5;241m.\u001b[39mnodes[user_id][\u001b[38;5;124m\"\u001b[39m\u001b[38;5;124msport\u001b[39m\u001b[38;5;124m\"\u001b[39m] \u001b[38;5;241m=\u001b[39m \u001b[43mget_user_tours_info\u001b[49m\u001b[43m(\u001b[49m\u001b[43muser_id\u001b[49m\u001b[43m)\u001b[49m\n",
      "Input \u001b[0;32mIn [12]\u001b[0m, in \u001b[0;36mget_user_tours_info\u001b[0;34m(user_id, session)\u001b[0m\n\u001b[1;32m     26\u001b[0m     \u001b[38;5;28;01mreturn\u001b[39;00m \u001b[38;5;124m'\u001b[39m\u001b[38;5;124mUnknown\u001b[39m\u001b[38;5;124m'\u001b[39m, \u001b[38;5;124m'\u001b[39m\u001b[38;5;124mUnknown\u001b[39m\u001b[38;5;124m'\u001b[39m\n\u001b[1;32m     28\u001b[0m \u001b[38;5;28;01mfor\u001b[39;00m tour \u001b[38;5;129;01min\u001b[39;00m data[\u001b[38;5;124m'\u001b[39m\u001b[38;5;124m_embedded\u001b[39m\u001b[38;5;124m'\u001b[39m][\u001b[38;5;124m'\u001b[39m\u001b[38;5;124mtours\u001b[39m\u001b[38;5;124m'\u001b[39m]:\n\u001b[0;32m---> 29\u001b[0m     countries\u001b[38;5;241m.\u001b[39mappend(get_country(\u001b[43mtour\u001b[49m\u001b[43m[\u001b[49m\u001b[38;5;124;43m'\u001b[39;49m\u001b[38;5;124;43mstart_point\u001b[39;49m\u001b[38;5;124;43m'\u001b[39;49m\u001b[43m]\u001b[49m[\u001b[38;5;124m'\u001b[39m\u001b[38;5;124mlat\u001b[39m\u001b[38;5;124m'\u001b[39m], tour[\u001b[38;5;124m'\u001b[39m\u001b[38;5;124mstart_point\u001b[39m\u001b[38;5;124m'\u001b[39m][\u001b[38;5;124m'\u001b[39m\u001b[38;5;124mlng\u001b[39m\u001b[38;5;124m'\u001b[39m]))\n\u001b[1;32m     30\u001b[0m     sport_type\u001b[38;5;241m.\u001b[39mappend(tour[\u001b[38;5;124m'\u001b[39m\u001b[38;5;124msport\u001b[39m\u001b[38;5;124m'\u001b[39m])\n\u001b[1;32m     32\u001b[0m \u001b[38;5;28;01mreturn\u001b[39;00m \u001b[38;5;28mmax\u001b[39m(\u001b[38;5;28mset\u001b[39m(countries), key\u001b[38;5;241m=\u001b[39mcountries\u001b[38;5;241m.\u001b[39mcount), \u001b[38;5;28mmax\u001b[39m(\u001b[38;5;28mset\u001b[39m(sport_type), key\u001b[38;5;241m=\u001b[39msport_type\u001b[38;5;241m.\u001b[39mcount)\n",
      "\u001b[0;31mKeyError\u001b[0m: 'start_point'"
     ]
    }
   ],
   "source": [
    "c = 0\n",
    "while True:\n",
    "    #Stampiamo una sorta di stato\n",
    "    if c%100 == 0:\n",
    "        print(c)\n",
    "    c = c + 1\n",
    "    \n",
    "    #Prendiamo il prossimo utente\n",
    "    user_id = curiosone.get_next()\n",
    "    \n",
    "    #Se è l'ultimo elemento finiamo\n",
    "    if user_id == 0:\n",
    "        break\n",
    "        \n",
    "    #Otteniamo tutte le info per l'utente e le inseriamo in un dizionario apposito\n",
    "    g.nodes[user_id][\"name\"], g.nodes[user_id][\"km\"] = get_user_info(user_id)\n",
    "    g.nodes[user_id][\"country\"], g.nodes[user_id][\"sport\"] = get_user_tours_info(user_id)"
   ]
  },
  {
   "cell_type": "markdown",
   "metadata": {},
   "source": [
    "E infine salviamo il grafo!"
   ]
  },
  {
   "cell_type": "code",
   "execution_count": 33,
   "metadata": {},
   "outputs": [],
   "source": [
    "nx.write_graphml(g,path=\"graphs/komoot-network-attributes.graphml\")"
   ]
  },
  {
   "cell_type": "markdown",
   "metadata": {},
   "source": [
    "## Facciamolo multithread"
   ]
  },
  {
   "cell_type": "code",
   "execution_count": 11,
   "metadata": {},
   "outputs": [],
   "source": [
    "class KomootCuriosonePersistent():\n",
    "    def __init__(self, graph, nodes=None, reset=True, number=0):\n",
    "        self.queue = persistqueue.Queue(f\"dbs/curiosone-{number}.queue\")\n",
    "        if reset:\n",
    "            self.empty_queue()\n",
    "            if nodes == None:\n",
    "                nodes == list(graph.nodes())\n",
    "            for node in nodes:\n",
    "                self.queue.put(node)\n",
    "            self.queue.put(0)\n",
    "\n",
    "    def empty_queue(self):\n",
    "        while not self.queue.empty():\n",
    "            self.queue.get()\n",
    "\n",
    "    def get_next(self):\n",
    "        return self.queue.get()"
   ]
  },
  {
   "cell_type": "code",
   "execution_count": 12,
   "metadata": {},
   "outputs": [],
   "source": [
    "def bounded_infos(lock, graph, start, end, nodelist):\n",
    "    if nodelist == None:\n",
    "        nodelist = list(graph.nodes())\n",
    "    nodelist.sort()\n",
    "    nodelist = nodelist[start:end]\n",
    "    nodelist.append(0)\n",
    "    \n",
    "    curiosone = KomootCuriosonePersistent(graph, reset=True, nodes=nodelist, number=start)\n",
    "    \n",
    "    #c = 0\n",
    "    while True:\n",
    "        #Stampiamo una sorta di stato\n",
    "        #if c%10 == 0 and start == 0:\n",
    "        #    print(c)\n",
    "        #c = c + 1\n",
    "\n",
    "        #Prendiamo il prossimo utente\n",
    "        user_id = curiosone.get_next()\n",
    "\n",
    "        #Se è l'ultimo elemento finiamo\n",
    "        if user_id == 0:\n",
    "            break\n",
    "\n",
    "        #Otteniamo tutte le info per l'utente e le inseriamo in un dizionario apposito\n",
    "        name, km = get_user_info(user_id)\n",
    "        country, sport = get_user_tours_info(user_id)\n",
    "        \n",
    "        lock.acquire()\n",
    "        graph.nodes[user_id][\"name\"], graph.nodes[user_id][\"km\"], graph.nodes[user_id][\"country\"], graph.nodes[user_id][\"sport\"] = name, km, country, sport\n",
    "        lock.release()"
   ]
  },
  {
   "cell_type": "code",
   "execution_count": 14,
   "metadata": {
    "collapsed": true
   },
   "outputs": [
    {
     "name": "stdout",
     "output_type": "stream",
     "text": [
      "180\n",
      "Thread Started - Range [0-180]\n",
      "Thread Started - Range [180-360]\n",
      "Thread Started - Range [360-540]\n",
      "Thread Started - Range [540-720]\n",
      "Thread Started - Range [720-900]\n",
      "Thread Started - Range [900-1080]\n",
      "Thread Started - Range [1080-1260]\n",
      "Thread Started - Range [1260-1440]\n",
      "Thread Started - Range [1440-1620]\n",
      "Thread Started - Range [1620-1800]\n",
      "Thread Started - Range [1800-1980]\n",
      "Thread Started - Range [1980-2160]\n",
      "Thread Started - Range [2160-2340]\n",
      "Thread Started - Range [2340-2520]\n",
      "Thread Started - Range [2520-2700]\n",
      "Thread Started - Range [2700-2880]\n",
      "Thread Started - Range [2880-3060]\n",
      "Thread Started - Range [3060-3240]\n",
      "Thread Started - Range [3240-3420]\n",
      "Thread Started - Range [3420-3600]\n",
      "Thread Started - Range [3600-3780]\n",
      "Thread Started - Range [3780-3960]\n",
      "Thread Started - Range [3960-4140]\n",
      "Thread Started - Range [4140-4320]\n",
      "Thread Started - Range [4320-4500]\n",
      "Thread Started - Range [4500-4680]\n",
      "Thread Started - Range [4680-4860]\n",
      "Thread Started - Range [4860-5040]\n",
      "Thread Started - Range [5040-5220]\n",
      "Thread Started - Range [5220-5400]\n",
      "Thread Started - Range [5400-5580]\n",
      "Thread Started - Range [5580-5760]\n",
      "Thread Started - Range [5760-5940]\n",
      "Thread Started - Range [5940-6120]\n",
      "Thread Started - Range [6120-6300]\n",
      "Thread Started - Range [6300-6480]\n",
      "Thread Started - Range [6480-6660]\n",
      "Thread Started - Range [6660-6840]\n",
      "Thread Started - Range [6840-7020]\n",
      "Thread Started - Range [7020-7222]\n"
     ]
    }
   ],
   "source": [
    "from threading import Thread, Lock\n",
    "from time import sleep\n",
    "\n",
    "#Second run\n",
    "rimanenti = []\n",
    "for n in list(g.nodes):\n",
    "    try:\n",
    "        g.nodes[n][\"name\"]\n",
    "    except:\n",
    "        rimanenti.append(n)\n",
    "\n",
    "procs = []\n",
    "lock = Lock()\n",
    "\n",
    "threads = 40\n",
    "#nodes = g.nodes()\n",
    "nodes = rimanenti\n",
    "step = int(len(nodes)/threads)\n",
    "print(step)\n",
    "for i in range(threads-1):\n",
    "    print(f\"Thread Started - Range [{i*step}-{(i+1)*step}]\")\n",
    "    p = Thread(target=bounded_infos, args=(lock, g,i*step, (i+1)*step, nodes))\n",
    "    procs.append(p)\n",
    "    p.start()\n",
    "\n",
    "print(f\"Thread Started - Range [{(i+1)*step}-{len(nodes)}]\")\n",
    "p = Thread(target=bounded_infos, args=(lock, g,i*step, (i+1)*step, nodes))\n",
    "procs.append(p)\n",
    "p.start()"
   ]
  },
  {
   "cell_type": "code",
   "execution_count": 66,
   "metadata": {
    "collapsed": true
   },
   "outputs": [
    {
     "name": "stdout",
     "output_type": "stream",
     "text": [
      "140348547917568\n",
      "140348399519488\n",
      "140348416304896\n",
      "140348556310272\n",
      "140349850777344\n",
      "140349842384640\n",
      "140348795664128\n",
      "140348741838592\n",
      "140348733445888\n",
      "140348716660480\n",
      "140348708267776\n",
      "140348699875072\n",
      "140348673943296\n",
      "140348665550592\n",
      "140348648765184\n",
      "140348640372480\n",
      "140348623587072\n",
      "140348606801664\n",
      "140348598408960\n",
      "140348564702976\n",
      "140348539524864\n",
      "140348458268416\n",
      "140348449875712\n",
      "140348441483008\n",
      "140348424697600\n",
      "140348407912192\n",
      "140348391126784\n",
      "140348374341376\n",
      "140348349163264\n",
      "140348340770560\n",
      "Done\n"
     ]
    }
   ],
   "source": [
    "# Blocca l'esecuzione finchè i processi non sono terminati   \n",
    "for t in procs:\n",
    "    #t.join()\n",
    "    print(t.ident)\n",
    "\n",
    "print(\"Done\")"
   ]
  },
  {
   "cell_type": "code",
   "execution_count": 15,
   "metadata": {},
   "outputs": [
    {
     "data": {
      "text/plain": [
       "74139"
      ]
     },
     "execution_count": 15,
     "metadata": {},
     "output_type": "execute_result"
    }
   ],
   "source": [
    "len(g.nodes)"
   ]
  },
  {
   "cell_type": "code",
   "execution_count": 18,
   "metadata": {
    "collapsed": true
   },
   "outputs": [
    {
     "name": "stdout",
     "output_type": "stream",
     "text": [
      "6563, 91%\n",
      "4747, 93%\n",
      "2941, 96%\n",
      "1118, 98%\n",
      "284, 99%\n",
      "284, 99%\n"
     ]
    },
    {
     "ename": "KeyboardInterrupt",
     "evalue": "",
     "output_type": "error",
     "traceback": [
      "\u001b[0;31m---------------------------------------------------------------------------\u001b[0m",
      "\u001b[0;31mKeyboardInterrupt\u001b[0m                         Traceback (most recent call last)",
      "Input \u001b[0;32mIn [18]\u001b[0m, in \u001b[0;36m<cell line: 2>\u001b[0;34m()\u001b[0m\n\u001b[1;32m     12\u001b[0m \u001b[38;5;28;01mif\u001b[39;00m \u001b[38;5;28mlen\u001b[39m(rimanenti) \u001b[38;5;241m==\u001b[39m \u001b[38;5;241m0\u001b[39m:\n\u001b[1;32m     13\u001b[0m     \u001b[38;5;28;01mbreak\u001b[39;00m\n\u001b[0;32m---> 15\u001b[0m \u001b[43msleep\u001b[49m\u001b[43m(\u001b[49m\u001b[38;5;241;43m300\u001b[39;49m\u001b[43m)\u001b[49m\n",
      "\u001b[0;31mKeyboardInterrupt\u001b[0m: "
     ]
    }
   ],
   "source": [
    "while True:\n",
    "    rimanenti = []\n",
    "\n",
    "    for n in list(g.nodes):\n",
    "        try:\n",
    "            g.nodes[n][\"name\"]\n",
    "        except:\n",
    "            rimanenti.append(n)\n",
    "    \n",
    "    print(f\"{len(rimanenti)}, {int((1-len(rimanenti)/len(g.nodes))*100)}%\")\n",
    "    \n",
    "    if len(rimanenti) == 0:\n",
    "        break\n",
    "    \n",
    "    sleep(300)"
   ]
  },
  {
   "cell_type": "code",
   "execution_count": 19,
   "metadata": {
    "collapsed": true
   },
   "outputs": [
    {
     "name": "stdout",
     "output_type": "stream",
     "text": [
      "0\n",
      "10\n",
      "20\n",
      "30\n",
      "40\n",
      "50\n",
      "60\n",
      "70\n",
      "80\n",
      "90\n",
      "100\n",
      "110\n",
      "120\n",
      "130\n",
      "140\n",
      "150\n",
      "160\n",
      "170\n",
      "180\n",
      "190\n",
      "200\n",
      "210\n",
      "220\n",
      "230\n",
      "240\n",
      "250\n",
      "260\n",
      "270\n",
      "280\n"
     ]
    }
   ],
   "source": [
    "rimanenti = []\n",
    "\n",
    "for n in list(g.nodes):\n",
    "    try:\n",
    "        g.nodes[n][\"name\"]\n",
    "    except:\n",
    "        rimanenti.append(n)\n",
    "        \n",
    "curiosone = KomootCuriosonePersistent(g, reset=True, nodes=rimanenti, number=99)\n",
    "\n",
    "c = 0\n",
    "while True:\n",
    "    #Stampiamo una sorta di stato\n",
    "    if c%10 == 0:\n",
    "        print(c)\n",
    "    c = c + 1\n",
    "\n",
    "    #Prendiamo il prossimo utente\n",
    "    user_id = curiosone.get_next()\n",
    "\n",
    "    #Se è l'ultimo elemento finiamo\n",
    "    if user_id == 0:\n",
    "        break\n",
    "\n",
    "    #Otteniamo tutte le info per l'utente e le inseriamo in un dizionario apposito\n",
    "    name, km = get_user_info(user_id)\n",
    "    country, sport = get_user_tours_info(user_id)\n",
    "\n",
    "    g.nodes[user_id][\"name\"], g.nodes[user_id][\"km\"], g.nodes[user_id][\"country\"], g.nodes[user_id][\"sport\"] = name, km, country, sport"
   ]
  },
  {
   "cell_type": "code",
   "execution_count": 68,
   "metadata": {},
   "outputs": [],
   "source": [
    "nx.write_graphml(g,path=\"graphs/komoot-network-100000-attributes.graphml\")"
   ]
  },
  {
   "cell_type": "markdown",
   "metadata": {},
   "source": [
    "# Analisi"
   ]
  },
  {
   "cell_type": "code",
   "execution_count": 8,
   "metadata": {},
   "outputs": [],
   "source": [
    "import networkx as nx\n",
    "import numpy as np\n",
    "import matplotlib.pyplot as plt\n",
    "import pandas as pd"
   ]
  },
  {
   "cell_type": "markdown",
   "metadata": {},
   "source": [
    "Per prima cosa cominciamo col caricare il grafo e avedere come è bello"
   ]
  },
  {
   "cell_type": "markdown",
   "metadata": {},
   "source": [
    "![](gephi/komoot-countries.png)"
   ]
  },
  {
   "cell_type": "code",
   "execution_count": 2,
   "metadata": {},
   "outputs": [],
   "source": [
    "g = nx.read_graphml(\"graphs/komoot-network-100000-attributes.graphml\")"
   ]
  },
  {
   "cell_type": "markdown",
   "metadata": {},
   "source": [
    "Incominciamo a stampare un paio di info sul grafo"
   ]
  },
  {
   "cell_type": "code",
   "execution_count": 5,
   "metadata": {},
   "outputs": [
    {
     "name": "stdout",
     "output_type": "stream",
     "text": [
      "Numero di nodi: 74139\n",
      "Numero di archi: 1113417\n",
      "DiGraph with 74139 nodes and 1113417 edges\n"
     ]
    }
   ],
   "source": [
    "print(f\"Numero di nodi: {g.order()}\\nNumero di archi: {g.size()}\")\n",
    "print(g)"
   ]
  },
  {
   "cell_type": "code",
   "execution_count": 6,
   "metadata": {},
   "outputs": [
    {
     "name": "stdout",
     "output_type": "stream",
     "text": [
      "Density: 0.00020256772846016368\n"
     ]
    }
   ],
   "source": [
    "print(f'Density: {nx.density(g)}')"
   ]
  },
  {
   "cell_type": "markdown",
   "metadata": {},
   "source": [
    "Ora stampiamo l'utente con massimo in degree e out degree"
   ]
  },
  {
   "cell_type": "code",
   "execution_count": 7,
   "metadata": {},
   "outputs": [
    {
     "data": {
      "text/plain": [
       "[('komoot', 6512),\n",
       " ('orbit', 2389),\n",
       " ('979759071586', 2384),\n",
       " ('878596569070', 2196),\n",
       " ('444811548445', 2142),\n",
       " ('263147866419', 1998),\n",
       " ('576346192897', 1954),\n",
       " ('267850388946', 1913),\n",
       " ('414835544103', 1902),\n",
       " ('910787423285', 1857)]"
      ]
     },
     "execution_count": 7,
     "metadata": {},
     "output_type": "execute_result"
    }
   ],
   "source": [
    "indegree = dict(g.in_degree())\n",
    "indegree = list(reversed(sorted(indegree.items(), key = lambda x: x[1])))\n",
    "indegree[:10]"
   ]
  },
  {
   "cell_type": "code",
   "execution_count": 8,
   "metadata": {},
   "outputs": [
    {
     "data": {
      "text/plain": [
       "[('2207069696217', 6531),\n",
       " ('975940150909', 5095),\n",
       " ('746991489833', 4174),\n",
       " ('1093755911644', 3052),\n",
       " ('979759071586', 2532),\n",
       " ('169172928726', 2498),\n",
       " ('878596569070', 2234),\n",
       " ('1045038351715', 2103),\n",
       " ('99084998900', 1969),\n",
       " ('910787423285', 1932)]"
      ]
     },
     "execution_count": 8,
     "metadata": {},
     "output_type": "execute_result"
    }
   ],
   "source": [
    "outdegree = dict(g.out_degree())\n",
    "outdegree = list(reversed(sorted(outdegree.items(), key = lambda x: x[1])))\n",
    "outdegree[:10]"
   ]
  },
  {
   "cell_type": "markdown",
   "metadata": {},
   "source": [
    "Ora stampiamo informazioni su indegree medio e outdegree medio"
   ]
  },
  {
   "cell_type": "code",
   "execution_count": 9,
   "metadata": {},
   "outputs": [
    {
     "name": "stdout",
     "output_type": "stream",
     "text": [
      "Grado medio: 15.017966252579614\n",
      "Standard deviation: 67.15731144375731\n",
      "Median: 3.0\n",
      "Min: 1\n",
      "Max: 6512\n"
     ]
    }
   ],
   "source": [
    "degree_list =list(dict(g.in_degree()).values())\n",
    "print(f'Grado medio: {np.mean(degree_list)}')\n",
    "print(f'Standard deviation: {np.std(degree_list)}')\n",
    "print(f'Median: {np.median(degree_list)}')\n",
    "print(f'Min: {np.min(degree_list)}')\n",
    "print(f'Max: {np.max(degree_list)}')"
   ]
  },
  {
   "cell_type": "code",
   "execution_count": 10,
   "metadata": {},
   "outputs": [
    {
     "name": "stdout",
     "output_type": "stream",
     "text": [
      "Grado medio: 15.017966252579614\n",
      "Standard deviation: 60.01526038966208\n",
      "Median: 4.0\n",
      "Min: 1\n",
      "Max: 6531\n"
     ]
    }
   ],
   "source": [
    "degree_list =list(dict(g.out_degree()).values())\n",
    "print(f'Grado medio: {np.mean(degree_list)}')\n",
    "print(f'Standard deviation: {np.std(degree_list)}')\n",
    "print(f'Median: {np.median(degree_list)}')\n",
    "print(f'Min: {np.min(degree_list)}')\n",
    "print(f'Max: {np.max(degree_list)}')"
   ]
  },
  {
   "cell_type": "markdown",
   "metadata": {},
   "source": [
    "Ora calcoliamo la PDF dell'indegree"
   ]
  },
  {
   "cell_type": "code",
   "execution_count": 9,
   "metadata": {},
   "outputs": [
    {
     "data": {
      "image/png": "[encoded data removed]",
      "text/plain": [
       "<Figure size 720x360 with 1 Axes>"
      ]
     },
     "metadata": {
      "needs_background": "light"
     },
     "output_type": "display_data"
    }
   ],
   "source": [
    "from statsmodels.distributions.empirical_distribution import ECDF\n",
    "\n",
    "in_degrees_noitems =  dict(g.in_degree())\n",
    "in_degrees = list(in_degrees_noitems.values())\n",
    "random_digraph_erdos = nx.fast_gnp_random_graph(len(g.nodes), nx.density(g), directed=True)\n",
    "random_in_degrees = list(dict(random_digraph_erdos.in_degree()).values())\n",
    "\n",
    "cdf = ECDF(in_degrees)\n",
    "x = np.unique(in_degrees)\n",
    "y = cdf(x)\n",
    "\n",
    "cdf_random = ECDF(random_in_degrees)\n",
    "x_random = np.unique(random_in_degrees)\n",
    "y_random = cdf_random(x_random)\n",
    " \n",
    "fig_cdf_fb = plt.figure(figsize=(10,5))\n",
    "axes = fig_cdf_fb.gca()\n",
    "axes.set_xscale('log')\n",
    "axes.set_yscale('log')\n",
    "axes.loglog(x,1-y,marker='o',ms=8, linestyle='-', label = \"Komoot\", color = \"#61CAE2\")\n",
    "axes.loglog(x_random,1-y_random,marker='D',ms=10, linestyle='-', label=\"Random\", color = \"#EA63BD\")\n",
    "axes.legend()\n",
    "axes.set_xlabel('In-Degree',size=20)\n",
    "axes.set_ylabel('ECCDF', size = 20)\n",
    "plt.show()"
   ]
  },
  {
   "cell_type": "code",
   "execution_count": 10,
   "metadata": {},
   "outputs": [
    {
     "data": {
      "image/png": "[encoded data removed]",
      "text/plain": [
       "<Figure size 720x360 with 1 Axes>"
      ]
     },
     "metadata": {
      "needs_background": "light"
     },
     "output_type": "display_data"
    }
   ],
   "source": [
    "out_degrees_dict = dict(g.out_degree())\n",
    "out_degrees = list(out_degrees_dict.values())\n",
    "random_out_degrees = list(dict(random_digraph_erdos.out_degree()).values())\n",
    "\n",
    "cdf = ECDF(out_degrees)\n",
    "x = np.unique(out_degrees)\n",
    "y = cdf(x)\n",
    "\n",
    "cdf_random = ECDF(random_out_degrees)\n",
    "x_random = np.unique(random_out_degrees)\n",
    "y_random = cdf_random(x_random)\n",
    " \n",
    "fig_cdf_fb = plt.figure(figsize=(10,5))\n",
    "axes = fig_cdf_fb.gca()\n",
    "axes.set_xscale('log')\n",
    "axes.set_yscale('log')\n",
    "axes.loglog(x,1-y,marker='D',ms=8, linestyle='-', label = \"Komoot\", color = \"#61CAE2\")\n",
    "axes.loglog(x_random,1-y_random,marker='8',ms=10, linestyle='-', label=\"Random\", color = \"#EA63BD\")\n",
    "axes.legend()\n",
    "axes.set_xlabel('Out-Degree',size=20)\n",
    "axes.set_ylabel('ECCDF', size = 20)\n",
    "plt.show()"
   ]
  },
  {
   "cell_type": "code",
   "execution_count": 28,
   "metadata": {},
   "outputs": [
    {
     "data": {
      "text/plain": [
       "Text(0, 0.5, 'P(X=x)')"
      ]
     },
     "execution_count": 28,
     "metadata": {},
     "output_type": "execute_result"
    },
    {
     "data": {
      "image/png": "[encoded data removed]",
      "text/plain": [
       "<Figure size 1000x500 with 1 Axes>"
      ]
     },
     "metadata": {},
     "output_type": "display_data"
    }
   ],
   "source": [
    "degree_list =list(dict(g.in_degree()).values())\n",
    "np.arange(min(degree_list),max(degree_list)+1)\n",
    "count,bins = np.histogram(degree_list, bins=np.arange(min(degree_list),max(degree_list)+2))\n",
    "\n",
    "pdf = count / g.order()\n",
    "\n",
    "fig = plt.figure(figsize=(10,5)) \n",
    "plt.plot(bins[:-1],pdf, color='tomato',marker='o', linestyle='--', ms=5)\n",
    "plt.xlabel('Indegree',size=15, weight = 'bold')\n",
    "plt.ylabel('P(X=x)',size=15, weight = 'bold')"
   ]
  },
  {
   "cell_type": "code",
   "execution_count": 29,
   "metadata": {},
   "outputs": [
    {
     "data": {
      "text/plain": [
       "Text(0, 0.5, 'P(X=x)')"
      ]
     },
     "execution_count": 29,
     "metadata": {},
     "output_type": "execute_result"
    },
    {
     "data": {
      "image/png": "[encoded data removed]",
      "text/plain": [
       "<Figure size 1000x500 with 1 Axes>"
      ]
     },
     "metadata": {},
     "output_type": "display_data"
    }
   ],
   "source": [
    "count,bins = np.histogram(degree_list, bins=np.arange(min(degree_list),50+2))\n",
    "\n",
    "pdf = count / g.order()\n",
    "\n",
    "fig = plt.figure(figsize=(10,5)) \n",
    "plt.plot(bins[:-1],pdf, color='tomato',marker='o', linestyle='--', ms=5)\n",
    "plt.xlabel('Indegree',size=15, weight = 'bold')\n",
    "plt.ylabel('P(X=x)',size=15, weight = 'bold')"
   ]
  },
  {
   "cell_type": "markdown",
   "metadata": {},
   "source": [
    "Troviamo i nodi più centrali per ogni centralità"
   ]
  },
  {
   "cell_type": "code",
   "execution_count": 3,
   "metadata": {},
   "outputs": [
    {
     "data": {
      "text/plain": [
       "[('komoot', 0.0878),\n",
       " ('orbit', 0.0322),\n",
       " ('979759071586', 0.0322),\n",
       " ('878596569070', 0.0296),\n",
       " ('444811548445', 0.0289)]"
      ]
     },
     "execution_count": 3,
     "metadata": {},
     "output_type": "execute_result"
    }
   ],
   "source": [
    "#InDegree Centrality\n",
    "degree=dict(g.in_degree())\n",
    "in_degree_centrality = {n: round(c/(g.order()-1),4) for n,c in degree.items()}\n",
    "node_d_centr = list(in_degree_centrality.items())\n",
    "node_d_centr.sort(key = lambda x: x[1], reverse = True)\n",
    "node_d_centr[:5]"
   ]
  },
  {
   "cell_type": "code",
   "execution_count": 4,
   "metadata": {},
   "outputs": [
    {
     "data": {
      "text/plain": [
       "[('2207069696217', 0.0881),\n",
       " ('975940150909', 0.0687),\n",
       " ('746991489833', 0.0563),\n",
       " ('1093755911644', 0.0412),\n",
       " ('979759071586', 0.0342)]"
      ]
     },
     "execution_count": 4,
     "metadata": {},
     "output_type": "execute_result"
    }
   ],
   "source": [
    "#Out Degree Centrality\n",
    "degree=dict(g.out_degree())\n",
    "out_degree_centrality = {n: round(c/(g.order()-1),4) for n,c in degree.items()}\n",
    "node_d_centr = list(out_degree_centrality.items())\n",
    "node_d_centr.sort(key = lambda x: x[1], reverse = True)\n",
    "node_d_centr[:5]"
   ]
  },
  {
   "cell_type": "code",
   "execution_count": 5,
   "metadata": {},
   "outputs": [
    {
     "data": {
      "text/plain": [
       "[('komoot', 0.17538982208333062),\n",
       " ('910787423285', 0.1411883194106963),\n",
       " ('267850388946', 0.12220672337326605),\n",
       " ('263147866419', 0.10427739050233055),\n",
       " ('1038353740970', 0.10122367556368272)]"
      ]
     },
     "execution_count": 5,
     "metadata": {},
     "output_type": "execute_result"
    }
   ],
   "source": [
    "#Eigenvector cenrality\n",
    "eigenvector_centrality = nx.eigenvector_centrality(g,200)\n",
    "node_e_centr = list(eigenvector_centrality.items())\n",
    "node_e_centr.sort(key = lambda x: x[1], reverse = True)\n",
    "node_e_centr[:5]"
   ]
  },
  {
   "cell_type": "markdown",
   "metadata": {},
   "source": [
    "Ora disegnamo un bel grafico con la correlazione tra le misure"
   ]
  },
  {
   "cell_type": "code",
   "execution_count": 6,
   "metadata": {},
   "outputs": [
    {
     "data": {
      "image/png": "[encoded data removed]",
      "text/plain": [
       "<Figure size 1000x500 with 2 Axes>"
      ]
     },
     "metadata": {},
     "output_type": "display_data"
    }
   ],
   "source": [
    "import scipy\n",
    "import seaborn as sns\n",
    "\n",
    "all_centr = [in_degree_centrality, out_degree_centrality, eigenvector_centrality]\n",
    "ranks = [[scipy.stats.weightedtau(list(c1.values()), list(c2.values()))[0] for c1 in all_centr] for c2 in all_centr]\n",
    "centralities = ['in degree', 'out degree', 'eigenvector']\n",
    "plt.figure(figsize = (10,5))\n",
    "sns.heatmap(pd.DataFrame(ranks),annot = True,cmap = 'coolwarm')\n",
    "plt.xticks([x+0.5 for x in range(3)],centralities, rotation = 0)\n",
    "plt.yticks([x+0.5 for x in range(3)],centralities, rotation = 0)\n",
    "plt.title('Pearson correlation\\n', weight = 'bold')\n",
    "plt.show()"
   ]
  },
  {
   "cell_type": "markdown",
   "metadata": {},
   "source": [
    "Ora verifichiamo il numero di componenti connesse, sia deboli che forti"
   ]
  },
  {
   "cell_type": "code",
   "execution_count": 43,
   "metadata": {},
   "outputs": [
    {
     "name": "stdout",
     "output_type": "stream",
     "text": [
      "True\n",
      "1\n"
     ]
    }
   ],
   "source": [
    "print(nx.is_weakly_connected(g))\n",
    "print(nx.number_weakly_connected_components(g))"
   ]
  },
  {
   "cell_type": "code",
   "execution_count": 44,
   "metadata": {},
   "outputs": [
    {
     "name": "stdout",
     "output_type": "stream",
     "text": [
      "False\n",
      "283\n"
     ]
    }
   ],
   "source": [
    "print(nx.is_strongly_connected(g))\n",
    "print(nx.number_strongly_connected_components(g))"
   ]
  },
  {
   "cell_type": "code",
   "execution_count": 49,
   "metadata": {},
   "outputs": [
    {
     "data": {
      "text/plain": [
       "73571"
      ]
     },
     "execution_count": 49,
     "metadata": {},
     "output_type": "execute_result"
    }
   ],
   "source": [
    "largest_cc = max(nx.strongly_connected_components(g), key=len)\n",
    "len(largest_cc)"
   ]
  },
  {
   "cell_type": "code",
   "execution_count": null,
   "metadata": {},
   "outputs": [],
   "source": [
    "nx.diameter(g.to_undirected())"
   ]
  },
  {
   "cell_type": "markdown",
   "metadata": {},
   "source": [
    "Controlliamo la reciprocità"
   ]
  },
  {
   "cell_type": "code",
   "execution_count": 52,
   "metadata": {},
   "outputs": [
    {
     "data": {
      "text/plain": [
       "0.4497667989621139"
      ]
     },
     "execution_count": 52,
     "metadata": {},
     "output_type": "execute_result"
    }
   ],
   "source": [
    "nx.reciprocity(g)"
   ]
  },
  {
   "cell_type": "markdown",
   "metadata": {},
   "source": [
    "Calcoliamo il coefficiente medio di clustering"
   ]
  },
  {
   "cell_type": "code",
   "execution_count": 53,
   "metadata": {},
   "outputs": [
    {
     "data": {
      "text/plain": [
       "0.26648675568487057"
      ]
     },
     "execution_count": 53,
     "metadata": {},
     "output_type": "execute_result"
    }
   ],
   "source": [
    "nx.average_clustering(g)"
   ]
  },
  {
   "cell_type": "markdown",
   "metadata": {},
   "source": [
    "E il coefficiente di clustering globale"
   ]
  },
  {
   "cell_type": "code",
   "execution_count": 5,
   "metadata": {},
   "outputs": [
    {
     "data": {
      "text/plain": [
       "0.027295206303069006"
      ]
     },
     "execution_count": 5,
     "metadata": {},
     "output_type": "execute_result"
    }
   ],
   "source": [
    "nx.transitivity(g)"
   ]
  },
  {
   "cell_type": "markdown",
   "metadata": {},
   "source": [
    "Calcoliamo il numero di utenti per ogni paese e per ogni sport"
   ]
  },
  {
   "cell_type": "code",
   "execution_count": 17,
   "metadata": {},
   "outputs": [
    {
     "data": {
      "text/html": [
       "<div>\n",
       "<style scoped>\n",
       "    .dataframe tbody tr th:only-of-type {\n",
       "        vertical-align: middle;\n",
       "    }\n",
       "\n",
       "    .dataframe tbody tr th {\n",
       "        vertical-align: top;\n",
       "    }\n",
       "\n",
       "    .dataframe thead th {\n",
       "        text-align: right;\n",
       "    }\n",
       "</style>\n",
       "<table border=\"1\" class=\"dataframe\">\n",
       "  <thead>\n",
       "    <tr style=\"text-align: right;\">\n",
       "      <th></th>\n",
       "      <th>Country</th>\n",
       "      <th>Users</th>\n",
       "      <th>Percent</th>\n",
       "    </tr>\n",
       "  </thead>\n",
       "  <tbody>\n",
       "    <tr>\n",
       "      <th>0</th>\n",
       "      <td>DE</td>\n",
       "      <td>31320</td>\n",
       "      <td>42.244972</td>\n",
       "    </tr>\n",
       "    <tr>\n",
       "      <th>1</th>\n",
       "      <td>Unknown</td>\n",
       "      <td>12707</td>\n",
       "      <td>17.139427</td>\n",
       "    </tr>\n",
       "    <tr>\n",
       "      <th>2</th>\n",
       "      <td>GB</td>\n",
       "      <td>8239</td>\n",
       "      <td>11.112910</td>\n",
       "    </tr>\n",
       "    <tr>\n",
       "      <th>3</th>\n",
       "      <td>IT</td>\n",
       "      <td>4286</td>\n",
       "      <td>5.781033</td>\n",
       "    </tr>\n",
       "    <tr>\n",
       "      <th>4</th>\n",
       "      <td>ES</td>\n",
       "      <td>4203</td>\n",
       "      <td>5.669081</td>\n",
       "    </tr>\n",
       "    <tr>\n",
       "      <th>5</th>\n",
       "      <td>AT</td>\n",
       "      <td>3217</td>\n",
       "      <td>4.339147</td>\n",
       "    </tr>\n",
       "    <tr>\n",
       "      <th>6</th>\n",
       "      <td>FR</td>\n",
       "      <td>2207</td>\n",
       "      <td>2.976841</td>\n",
       "    </tr>\n",
       "    <tr>\n",
       "      <th>7</th>\n",
       "      <td>NL</td>\n",
       "      <td>1943</td>\n",
       "      <td>2.620753</td>\n",
       "    </tr>\n",
       "    <tr>\n",
       "      <th>8</th>\n",
       "      <td>CH</td>\n",
       "      <td>1422</td>\n",
       "      <td>1.918019</td>\n",
       "    </tr>\n",
       "    <tr>\n",
       "      <th>9</th>\n",
       "      <td>BE</td>\n",
       "      <td>736</td>\n",
       "      <td>0.992730</td>\n",
       "    </tr>\n",
       "    <tr>\n",
       "      <th>10</th>\n",
       "      <td>US</td>\n",
       "      <td>482</td>\n",
       "      <td>0.650130</td>\n",
       "    </tr>\n",
       "    <tr>\n",
       "      <th>11</th>\n",
       "      <td>PT</td>\n",
       "      <td>248</td>\n",
       "      <td>0.334507</td>\n",
       "    </tr>\n",
       "    <tr>\n",
       "      <th>12</th>\n",
       "      <td>CZ</td>\n",
       "      <td>219</td>\n",
       "      <td>0.295391</td>\n",
       "    </tr>\n",
       "    <tr>\n",
       "      <th>13</th>\n",
       "      <td>PL</td>\n",
       "      <td>195</td>\n",
       "      <td>0.263019</td>\n",
       "    </tr>\n",
       "    <tr>\n",
       "      <th>14</th>\n",
       "      <td>DK</td>\n",
       "      <td>162</td>\n",
       "      <td>0.218508</td>\n",
       "    </tr>\n",
       "  </tbody>\n",
       "</table>\n",
       "</div>"
      ],
      "text/plain": [
       "    Country  Users    Percent\n",
       "0        DE  31320  42.244972\n",
       "1   Unknown  12707  17.139427\n",
       "2        GB   8239  11.112910\n",
       "3        IT   4286   5.781033\n",
       "4        ES   4203   5.669081\n",
       "5        AT   3217   4.339147\n",
       "6        FR   2207   2.976841\n",
       "7        NL   1943   2.620753\n",
       "8        CH   1422   1.918019\n",
       "9        BE    736   0.992730\n",
       "10       US    482   0.650130\n",
       "11       PT    248   0.334507\n",
       "12       CZ    219   0.295391\n",
       "13       PL    195   0.263019\n",
       "14       DK    162   0.218508"
      ]
     },
     "execution_count": 17,
     "metadata": {},
     "output_type": "execute_result"
    }
   ],
   "source": [
    "# Calcola il numero di nodi per ogni valore di \"country\"\n",
    "country_counts = {}\n",
    "for node in g.nodes():\n",
    "    country = g.nodes[node]['country']\n",
    "    if country in country_counts:\n",
    "        country_counts[country] += 1\n",
    "    else:\n",
    "        country_counts[country] = 1\n",
    "\n",
    "countries_list = list(reversed(sorted(country_counts.items(), key=lambda item: item[1])))\n",
    "df = pd.DataFrame(countries_list, columns=['Country', 'Users'])\n",
    "df['Percent'] = (df['Users'] / df['Users'].sum()) * 100\n",
    "df[:15]"
   ]
  },
  {
   "cell_type": "code",
   "execution_count": 18,
   "metadata": {},
   "outputs": [],
   "source": [
    "df = df.set_index('Country')"
   ]
  },
  {
   "cell_type": "code",
   "execution_count": 33,
   "metadata": {},
   "outputs": [
    {
     "data": {
      "image/png": "[encoded data removed]",
      "text/plain": [
       "<Figure size 432x432 with 1 Axes>"
      ]
     },
     "metadata": {},
     "output_type": "display_data"
    }
   ],
   "source": [
    "plot = df.plot.pie(y='Users', legend=False, figsize=(6,6), ylabel='', autopct='%1.1f%%')"
   ]
  },
  {
   "cell_type": "code",
   "execution_count": 36,
   "metadata": {
    "scrolled": true
   },
   "outputs": [
    {
     "data": {
      "text/html": [
       "<div>\n",
       "<style scoped>\n",
       "    .dataframe tbody tr th:only-of-type {\n",
       "        vertical-align: middle;\n",
       "    }\n",
       "\n",
       "    .dataframe tbody tr th {\n",
       "        vertical-align: top;\n",
       "    }\n",
       "\n",
       "    .dataframe thead th {\n",
       "        text-align: right;\n",
       "    }\n",
       "</style>\n",
       "<table border=\"1\" class=\"dataframe\">\n",
       "  <thead>\n",
       "    <tr style=\"text-align: right;\">\n",
       "      <th></th>\n",
       "      <th>Sport</th>\n",
       "      <th>Users</th>\n",
       "      <th>Percent</th>\n",
       "    </tr>\n",
       "  </thead>\n",
       "  <tbody>\n",
       "    <tr>\n",
       "      <th>0</th>\n",
       "      <td>hike</td>\n",
       "      <td>22896</td>\n",
       "      <td>30.882531</td>\n",
       "    </tr>\n",
       "    <tr>\n",
       "      <th>1</th>\n",
       "      <td>touringbicycle</td>\n",
       "      <td>12153</td>\n",
       "      <td>16.392182</td>\n",
       "    </tr>\n",
       "    <tr>\n",
       "      <th>2</th>\n",
       "      <td>Unknown</td>\n",
       "      <td>11937</td>\n",
       "      <td>16.100838</td>\n",
       "    </tr>\n",
       "    <tr>\n",
       "      <th>3</th>\n",
       "      <td>racebike</td>\n",
       "      <td>10076</td>\n",
       "      <td>13.590688</td>\n",
       "    </tr>\n",
       "    <tr>\n",
       "      <th>4</th>\n",
       "      <td>mtb</td>\n",
       "      <td>8425</td>\n",
       "      <td>11.363790</td>\n",
       "    </tr>\n",
       "    <tr>\n",
       "      <th>5</th>\n",
       "      <td>mtb_easy</td>\n",
       "      <td>5576</td>\n",
       "      <td>7.521008</td>\n",
       "    </tr>\n",
       "    <tr>\n",
       "      <th>6</th>\n",
       "      <td>jogging</td>\n",
       "      <td>1730</td>\n",
       "      <td>2.333455</td>\n",
       "    </tr>\n",
       "    <tr>\n",
       "      <th>7</th>\n",
       "      <td>mtb_advanced</td>\n",
       "      <td>388</td>\n",
       "      <td>0.523341</td>\n",
       "    </tr>\n",
       "    <tr>\n",
       "      <th>8</th>\n",
       "      <td>other</td>\n",
       "      <td>309</td>\n",
       "      <td>0.416785</td>\n",
       "    </tr>\n",
       "    <tr>\n",
       "      <th>9</th>\n",
       "      <td>mountaineering</td>\n",
       "      <td>263</td>\n",
       "      <td>0.354739</td>\n",
       "    </tr>\n",
       "    <tr>\n",
       "      <th>10</th>\n",
       "      <td>nordicwalking</td>\n",
       "      <td>111</td>\n",
       "      <td>0.149719</td>\n",
       "    </tr>\n",
       "    <tr>\n",
       "      <th>11</th>\n",
       "      <td>skitour</td>\n",
       "      <td>75</td>\n",
       "      <td>0.101161</td>\n",
       "    </tr>\n",
       "    <tr>\n",
       "      <th>12</th>\n",
       "      <td>skialpin</td>\n",
       "      <td>68</td>\n",
       "      <td>0.091720</td>\n",
       "    </tr>\n",
       "    <tr>\n",
       "      <th>13</th>\n",
       "      <td>nordic</td>\n",
       "      <td>44</td>\n",
       "      <td>0.059348</td>\n",
       "    </tr>\n",
       "    <tr>\n",
       "      <th>14</th>\n",
       "      <td>skaten</td>\n",
       "      <td>24</td>\n",
       "      <td>0.032372</td>\n",
       "    </tr>\n",
       "    <tr>\n",
       "      <th>15</th>\n",
       "      <td>snowshoe</td>\n",
       "      <td>20</td>\n",
       "      <td>0.026976</td>\n",
       "    </tr>\n",
       "    <tr>\n",
       "      <th>16</th>\n",
       "      <td>downhillbike</td>\n",
       "      <td>18</td>\n",
       "      <td>0.024279</td>\n",
       "    </tr>\n",
       "    <tr>\n",
       "      <th>17</th>\n",
       "      <td>climbing</td>\n",
       "      <td>13</td>\n",
       "      <td>0.017535</td>\n",
       "    </tr>\n",
       "    <tr>\n",
       "      <th>18</th>\n",
       "      <td>snowboard</td>\n",
       "      <td>7</td>\n",
       "      <td>0.009442</td>\n",
       "    </tr>\n",
       "    <tr>\n",
       "      <th>19</th>\n",
       "      <td>sled</td>\n",
       "      <td>3</td>\n",
       "      <td>0.004046</td>\n",
       "    </tr>\n",
       "    <tr>\n",
       "      <th>20</th>\n",
       "      <td>unicycle</td>\n",
       "      <td>3</td>\n",
       "      <td>0.004046</td>\n",
       "    </tr>\n",
       "  </tbody>\n",
       "</table>\n",
       "</div>"
      ],
      "text/plain": [
       "             Sport  Users    Percent\n",
       "0             hike  22896  30.882531\n",
       "1   touringbicycle  12153  16.392182\n",
       "2          Unknown  11937  16.100838\n",
       "3         racebike  10076  13.590688\n",
       "4              mtb   8425  11.363790\n",
       "5         mtb_easy   5576   7.521008\n",
       "6          jogging   1730   2.333455\n",
       "7     mtb_advanced    388   0.523341\n",
       "8            other    309   0.416785\n",
       "9   mountaineering    263   0.354739\n",
       "10   nordicwalking    111   0.149719\n",
       "11         skitour     75   0.101161\n",
       "12        skialpin     68   0.091720\n",
       "13          nordic     44   0.059348\n",
       "14          skaten     24   0.032372\n",
       "15        snowshoe     20   0.026976\n",
       "16    downhillbike     18   0.024279\n",
       "17        climbing     13   0.017535\n",
       "18       snowboard      7   0.009442\n",
       "19            sled      3   0.004046\n",
       "20        unicycle      3   0.004046"
      ]
     },
     "execution_count": 36,
     "metadata": {},
     "output_type": "execute_result"
    }
   ],
   "source": [
    "# Calcola il numero di nodi per ogni valore di \"sport\"\n",
    "sport_counts = {}\n",
    "for node in g.nodes():\n",
    "    sport = g.nodes[node]['sport']\n",
    "    if sport in sport_counts:\n",
    "        sport_counts[sport] += 1\n",
    "    else:\n",
    "        sport_counts[sport] = 1\n",
    "\n",
    "sports_list = list(reversed(sorted(sport_counts.items(), key=lambda item: item[1])))\n",
    "df = pd.DataFrame(sports_list, columns=['Sport', 'Users'])\n",
    "df['Percent'] = (df['Users'] / df['Users'].sum()) * 100\n",
    "df"
   ]
  },
  {
   "cell_type": "code",
   "execution_count": 37,
   "metadata": {},
   "outputs": [],
   "source": [
    "df = df.set_index('Sport')"
   ]
  },
  {
   "cell_type": "code",
   "execution_count": 38,
   "metadata": {},
   "outputs": [
    {
     "data": {
      "image/png": "[encoded data removed]",
      "text/plain": [
       "<Figure size 432x432 with 1 Axes>"
      ]
     },
     "metadata": {},
     "output_type": "display_data"
    }
   ],
   "source": [
    "plot = df.plot.pie(y='Users', legend=False, figsize=(6,6), ylabel='', autopct='%1.1f%%')"
   ]
  },
  {
   "cell_type": "markdown",
   "metadata": {},
   "source": [
    "Ora proviamo a plottare il numero di Km percorsi con un'istogramma. Prima proviamo col grafico senza limiti, poi selezioniamo solo i valori tra 1 e 5000"
   ]
  },
  {
   "cell_type": "code",
   "execution_count": 115,
   "metadata": {},
   "outputs": [
    {
     "data": {
      "image/png": "[encoded data removed]",
      "text/plain": [
       "<Figure size 640x480 with 1 Axes>"
      ]
     },
     "metadata": {},
     "output_type": "display_data"
    }
   ],
   "source": [
    "# Ottieni i valori di \"km\" dei nodi\n",
    "km_values = [g.nodes[node]['km'] for node in g.nodes() if g.nodes[node]['km'] > 0]\n",
    "\n",
    "# Specifica il numero di bin per l'istogramma\n",
    "num_bins = 20\n",
    "\n",
    "# Crea l'istogramma\n",
    "plt.hist(km_values, bins=num_bins, edgecolor='black')\n",
    "\n",
    "# Aggiungi etichette e titolo all'istogramma\n",
    "plt.xlabel('Km')\n",
    "plt.ylabel('Numero di Nodi')\n",
    "\n",
    "# Mostra l'istogramma\n",
    "plt.show()"
   ]
  },
  {
   "cell_type": "code",
   "execution_count": 116,
   "metadata": {},
   "outputs": [
    {
     "data": {
      "image/png": "[encoded data removed]",
      "text/plain": [
       "<Figure size 640x480 with 1 Axes>"
      ]
     },
     "metadata": {},
     "output_type": "display_data"
    }
   ],
   "source": [
    "# Ottieni i valori di \"km\" dei nodi\n",
    "km_values = [g.nodes[node]['km'] for node in g.nodes() if 1 <= g.nodes[node]['km'] <= 5000]\n",
    "\n",
    "# Specifica il numero di bin per l'istogramma\n",
    "num_bins = 20\n",
    "\n",
    "# Crea l'istogramma\n",
    "plt.hist(km_values, bins=num_bins, edgecolor='black')\n",
    "\n",
    "# Aggiungi etichette e titolo all'istogramma\n",
    "plt.xlabel('Km')\n",
    "plt.ylabel('Numero di Nodi')\n",
    "\n",
    "# Mostra l'istogramma\n",
    "plt.show()"
   ]
  },
  {
   "cell_type": "markdown",
   "metadata": {},
   "source": [
    "## Correlazione tra paese e sport"
   ]
  },
  {
   "cell_type": "markdown",
   "metadata": {},
   "source": [
    "Ora creiamo un'heatmap per capire se c'è correlazione tra tra paesi e km"
   ]
  },
  {
   "cell_type": "code",
   "execution_count": 218,
   "metadata": {},
   "outputs": [
    {
     "data": {
      "text/html": [
       "<div>\n",
       "<style scoped>\n",
       "    .dataframe tbody tr th:only-of-type {\n",
       "        vertical-align: middle;\n",
       "    }\n",
       "\n",
       "    .dataframe tbody tr th {\n",
       "        vertical-align: top;\n",
       "    }\n",
       "\n",
       "    .dataframe thead th {\n",
       "        text-align: right;\n",
       "    }\n",
       "</style>\n",
       "<table border=\"1\" class=\"dataframe\">\n",
       "  <thead>\n",
       "    <tr style=\"text-align: right;\">\n",
       "      <th></th>\n",
       "      <th>hike</th>\n",
       "      <th>touringbicycle</th>\n",
       "      <th>racebike</th>\n",
       "      <th>mtb</th>\n",
       "      <th>mtb_easy</th>\n",
       "      <th>jogging</th>\n",
       "    </tr>\n",
       "  </thead>\n",
       "  <tbody>\n",
       "    <tr>\n",
       "      <th>DE</th>\n",
       "      <td>0.415390</td>\n",
       "      <td>0.231003</td>\n",
       "      <td>0.113761</td>\n",
       "      <td>0.137484</td>\n",
       "      <td>0.058780</td>\n",
       "      <td>0.025383</td>\n",
       "    </tr>\n",
       "    <tr>\n",
       "      <th>GB</th>\n",
       "      <td>0.347494</td>\n",
       "      <td>0.169924</td>\n",
       "      <td>0.214832</td>\n",
       "      <td>0.113727</td>\n",
       "      <td>0.109601</td>\n",
       "      <td>0.034470</td>\n",
       "    </tr>\n",
       "    <tr>\n",
       "      <th>AT</th>\n",
       "      <td>0.476531</td>\n",
       "      <td>0.134908</td>\n",
       "      <td>0.092633</td>\n",
       "      <td>0.160398</td>\n",
       "      <td>0.037613</td>\n",
       "      <td>0.026111</td>\n",
       "    </tr>\n",
       "    <tr>\n",
       "      <th>ES</th>\n",
       "      <td>0.285034</td>\n",
       "      <td>0.113728</td>\n",
       "      <td>0.223412</td>\n",
       "      <td>0.167975</td>\n",
       "      <td>0.152986</td>\n",
       "      <td>0.041875</td>\n",
       "    </tr>\n",
       "    <tr>\n",
       "      <th>IT</th>\n",
       "      <td>0.232151</td>\n",
       "      <td>0.177322</td>\n",
       "      <td>0.190387</td>\n",
       "      <td>0.208586</td>\n",
       "      <td>0.135558</td>\n",
       "      <td>0.020999</td>\n",
       "    </tr>\n",
       "    <tr>\n",
       "      <th>FR</th>\n",
       "      <td>0.196194</td>\n",
       "      <td>0.203897</td>\n",
       "      <td>0.297236</td>\n",
       "      <td>0.098324</td>\n",
       "      <td>0.156321</td>\n",
       "      <td>0.031717</td>\n",
       "    </tr>\n",
       "  </tbody>\n",
       "</table>\n",
       "</div>"
      ],
      "text/plain": [
       "        hike  touringbicycle  racebike       mtb  mtb_easy   jogging\n",
       "DE  0.415390        0.231003  0.113761  0.137484  0.058780  0.025383\n",
       "GB  0.347494        0.169924  0.214832  0.113727  0.109601  0.034470\n",
       "AT  0.476531        0.134908  0.092633  0.160398  0.037613  0.026111\n",
       "ES  0.285034        0.113728  0.223412  0.167975  0.152986  0.041875\n",
       "IT  0.232151        0.177322  0.190387  0.208586  0.135558  0.020999\n",
       "FR  0.196194        0.203897  0.297236  0.098324  0.156321  0.031717"
      ]
     },
     "execution_count": 218,
     "metadata": {},
     "output_type": "execute_result"
    }
   ],
   "source": [
    "import seaborn as sns\n",
    "\n",
    "# Definizione delle categorie di sport\n",
    "categorie_sport = ['hike', 'touringbicycle', 'racebike', 'mtb', 'mtb_easy', 'jogging']\n",
    "\n",
    "# Definizione dei bins di km\n",
    "paesi = ['DE', 'GB', 'AT', 'ES', 'IT', 'FR']\n",
    "\n",
    "# Creazione del dataframe vuoto\n",
    "df_sport_paesi = pd.DataFrame(columns=categorie_sport, index=paesi)\n",
    "\n",
    "# Calcolo delle percentuali\n",
    "for paese in paesi:\n",
    "    nodi_paese = [node for node in g.nodes() if g.nodes[node]['country'] == paese]\n",
    "    for categoria in categorie_sport:\n",
    "        filtered_nodes = [node for node in nodi_paese if g.nodes[node]['sport'] == categoria]\n",
    "        df_sport_paesi.loc[paese, categoria] = float(len(filtered_nodes) / len(nodi_paese))\n",
    "        \n",
    "df_sport_paesi = df_sport_paesi.apply(pd.to_numeric)\n",
    "df_sport_paesi"
   ]
  },
  {
   "cell_type": "code",
   "execution_count": 220,
   "metadata": {},
   "outputs": [
    {
     "data": {
      "image/png": "[encoded data removed]",
      "text/plain": [
       "<Figure size 640x480 with 2 Axes>"
      ]
     },
     "metadata": {},
     "output_type": "display_data"
    }
   ],
   "source": [
    "import seaborn as sns\n",
    "\n",
    "p1 = sns.heatmap(df_sport_paesi, annot = True)"
   ]
  },
  {
   "cell_type": "markdown",
   "metadata": {},
   "source": [
    "## Correlazione tra centralità e paese"
   ]
  },
  {
   "cell_type": "markdown",
   "metadata": {},
   "source": [
    "Komoot è una piattaforma tedesca. Vediamo se questa caratteristica si ripercuote anche sulla nazionalità degli utenti più centrali. Usiamo la **indegree centrality**."
   ]
  },
  {
   "cell_type": "code",
   "execution_count": 269,
   "metadata": {},
   "outputs": [
    {
     "data": {
      "text/plain": [
       "{'DE': 0.05616833506631623,\n",
       " 'Unknown': -0.08339537540690938,\n",
       " 'GB': -0.022450638752183612,\n",
       " 'IT': 0.01619317990090649,\n",
       " 'ES': 0.005620247106776544,\n",
       " 'AT': 0.017380859870287507,\n",
       " 'FR': -0.002961715130053248,\n",
       " 'NL': 0.009474312248664976,\n",
       " 'CH': 0.0009382159150547233,\n",
       " 'BE': -0.0037853844830806537,\n",
       " 'US': 0.0023059762865948563,\n",
       " 'PT': -0.0025573072452313053,\n",
       " 'CZ': 0.0048880425817536,\n",
       " 'PL': -0.005880877489233564,\n",
       " 'DK': 0.008536301499035072,\n",
       " 'SE': -0.0015156932346385825,\n",
       " 'NO': -0.003793091975565678,\n",
       " 'IE': 0.0008980864547034786,\n",
       " 'SI': -0.0036868225445803814,\n",
       " 'GR': 0.00975818515871155,\n",
       " 'HR': 0.006838804851199414,\n",
       " 'CA': 0.0015986278998108433,\n",
       " 'RO': -0.002986501983922974,\n",
       " 'MA': 0.004588703717521319,\n",
       " 'AU': -0.003396019641289646,\n",
       " 'FI': -0.0016247429132968585,\n",
       " 'MX': 0.0009113600447267725,\n",
       " 'HU': -0.0012860028795400433,\n",
       " 'ID': -0.002903806436734692,\n",
       " 'CO': -0.002955750799654988,\n",
       " 'LU': 0.0009626355154236905,\n",
       " 'ZA': 0.005352595687274664,\n",
       " 'TR': 0.001484159532565824,\n",
       " 'IN': 0.007394291660727214,\n",
       " 'JP': 0.0027176355215340112,\n",
       " 'TH': 0.00016657620457718965,\n",
       " 'IR': 0.0009639183821381643,\n",
       " 'NZ': -0.0016107721786792764,\n",
       " 'IS': 0.0008584766368311519,\n",
       " 'SK': 0.00017017741857270247,\n",
       " 'KR': -0.0008764645190070375,\n",
       " 'BG': 0.0030554193166772796,\n",
       " 'BR': 0.005324425314940721,\n",
       " 'CY': 0.002191466251428006,\n",
       " 'AR': -0.002656823340072999,\n",
       " 'RU': -0.0022828921275887316,\n",
       " 'LK': -0.0018301595740200546,\n",
       " 'GE': -0.001960130474465399,\n",
       " 'UA': -0.0022806138151702233,\n",
       " 'ME': -0.0027421470812610377,\n",
       " 'NP': -0.0007635126068219607,\n",
       " 'CN': -0.0015467220862873967,\n",
       " 'RS': 0.0009100823861405864,\n",
       " 'LT': 0.012551048544088245,\n",
       " 'CL': -0.0018489480222793734,\n",
       " 'AL': 0.00024979149478004535,\n",
       " 'MT': 0.0003678986936062089,\n",
       " 'AD': -0.00212558569576043,\n",
       " 'KE': 0.032133859009221666,\n",
       " 'TW': -0.001358336818342155,\n",
       " 'IL': -0.0024082594513683314,\n",
       " 'PE': -0.002221824591298227,\n",
       " 'EC': -0.0020746391754531096,\n",
       " 'MY': -0.001662520011088269,\n",
       " 'LV': -0.002121367620509773,\n",
       " 'PH': -3.610857196307779e-05,\n",
       " 'SG': -0.0027662930994418367,\n",
       " 'VN': -0.001379703319738098,\n",
       " 'BA': -0.0014226983516669159,\n",
       " 'KG': -0.000519802681162046,\n",
       " 'JO': 0.0008121037985587122,\n",
       " 'AM': -0.0011480051148232715,\n",
       " 'EG': 0.0009933855477734584,\n",
       " 'AE': -0.0021906057637912446,\n",
       " 'LI': -0.0005941916675525602,\n",
       " 'RW': -0.00017024188526836798,\n",
       " 'KH': -0.0007997430771452911,\n",
       " 'LA': -0.0020150424565231295,\n",
       " 'EE': -0.0021260521566094353,\n",
       " 'DO': -0.0013489842560072648,\n",
       " 'TZ': -0.0008355643931103308,\n",
       " 'TN': 0.002050687809124429,\n",
       " 'KZ': -0.0012643746801295696,\n",
       " 'NA': -0.0009201505395409405,\n",
       " 'CR': -0.0014299882654552594,\n",
       " 'HK': -0.0017188963101400665,\n",
       " 'MK': 0.03259318264382647,\n",
       " 'DZ': 4.854113969587199e-05,\n",
       " 'VE': -0.0013110261294088587,\n",
       " 'SC': -0.0007281860100791851,\n",
       " 'RE': -0.000571197763115713,\n",
       " 'BO': -0.0013561389979331116,\n",
       " 'GP': -0.0013757625288035684,\n",
       " 'UG': -0.0007870566026903739,\n",
       " 'NI': -0.0016308684301192442,\n",
       " 'AZ': -0.0005711977631155226,\n",
       " 'JE': -0.0012776448744514174,\n",
       " 'MG': -0.0008655507261720968,\n",
       " 'PK': -0.0007478095409494639,\n",
       " 'BY': 0.0018424965339500978,\n",
       " 'CI': 0.01771793300812588,\n",
       " 'MW': 0.0003511081877951545,\n",
       " 'SM': -0.001011140760430464,\n",
       " 'TM': -0.0007227368800179375,\n",
       " 'LB': -0.0013235782975439016,\n",
       " 'PR': -0.0005064339697085763,\n",
       " 'SA': -0.0011553427006367057,\n",
       " 'BT': -0.0006506359099148079,\n",
       " 'CV': -0.00038626568620337234,\n",
       " 'MU': 0.0016806287900858483,\n",
       " 'CU': -0.00041029934290442527,\n",
       " 'OM': -0.0012514773274408494,\n",
       " 'TJ': -0.0007467705367190052,\n",
       " 'PS': -0.0012995446408429797,\n",
       " 'FO': -0.0009390397903273934,\n",
       " 'AN': -0.0008849221366003447,\n",
       " 'IQ': 0.00033866364859465596,\n",
       " 'QA': -0.0001711637619032488,\n",
       " 'NC': -0.0008509336425671424,\n",
       " 'AW': -0.0007149796664343632,\n",
       " 'GA': 0.001698203409922578,\n",
       " 'PF': -0.0006470026783679644,\n",
       " 'SL': -0.0006809911724011591,\n",
       " 'GG': 0.002751846724952369,\n",
       " 'GT': 0.00016872117842869677,\n",
       " 'PA': -0.000952899124666578,\n",
       " 'KW': -0.0009189106306333941,\n",
       " 'MM': -0.0005450371962683551,\n",
       " 'SV': -0.0007489681604675241,\n",
       " 'NG': 0.0016302264218562772,\n",
       " 'MQ': -0.0007829566545006785,\n",
       " 'GL': -0.0007149796664342993,\n",
       " 'GI': -0.0003411062320692902,\n",
       " 'UZ': -0.0006470026783679034,\n",
       " 'SJ': -0.0009528991246664693,\n",
       " 'SD': 0.0007465255769930992,\n",
       " 'ET': 0.0019021343741219394,\n",
       " 'IM': -0.0009528991246664435,\n",
       " 'BW': -0.000782956654500556,\n",
       " 'AG': -0.0006130141843346421,\n",
       " 'GH': 0.0005086061187603864,\n",
       " 'SO': 0.0014602839516904753,\n",
       " 'MN': -0.0006809911724010254}"
      ]
     },
     "execution_count": 269,
     "metadata": {},
     "output_type": "execute_result"
    }
   ],
   "source": [
    "from scipy import stats\n",
    "\n",
    "degree_centrality = nx.degree_centrality(g)\n",
    "attributi_country = nx.get_node_attributes(g, \"country\")\n",
    "corr = dict()\n",
    "\n",
    "countries = list()\n",
    "for country in countries_list:\n",
    "    countries.append(country[0])\n",
    "\n",
    "for country in countries:\n",
    "    centralita = []  # Lista per memorizzare la centralità dei nodi\n",
    "    attributi_categorici = []  # Lista per memorizzare gli attributi \"country\"\n",
    "\n",
    "    for nodo in g.nodes():\n",
    "        centralita.append(degree_centrality[nodo])\n",
    "        if attributi_country[nodo] == country:\n",
    "            attributi_categorici.append(1)\n",
    "        else:\n",
    "            attributi_categorici.append(0)\n",
    "\n",
    "    correlazione, p_value = stats.pointbiserialr(attributi_categorici, centralita)\n",
    "    corr[country] = correlazione\n",
    "\n",
    "corr"
   ]
  },
  {
   "cell_type": "code",
   "execution_count": 281,
   "metadata": {},
   "outputs": [
    {
     "name": "stdout",
     "output_type": "stream",
     "text": [
      "Unknown -0.08339537540690938\n",
      "GB -0.022450638752183612\n",
      "PL -0.005880877489233564\n",
      "NO -0.003793091975565678\n",
      "BE -0.0037853844830806537\n",
      "SI -0.0036868225445803814\n",
      "AU -0.003396019641289646\n",
      "RO -0.002986501983922974\n",
      "FR -0.002961715130053248\n",
      "CO -0.002955750799654988\n"
     ]
    }
   ],
   "source": [
    "for key in sorted(corr.items(), key=lambda item: item[1])[:10]:\n",
    "    print(f'{key[0]} {corr[key[0]]}')"
   ]
  },
  {
   "cell_type": "code",
   "execution_count": 285,
   "metadata": {},
   "outputs": [
    {
     "name": "stdout",
     "output_type": "stream",
     "text": [
      "DK 0.008536301499035072\n",
      "NL 0.009474312248664976\n",
      "GR 0.00975818515871155\n",
      "LT 0.012551048544088245\n",
      "IT 0.01619317990090649\n",
      "AT 0.017380859870287507\n",
      "CI 0.01771793300812588\n",
      "KE 0.032133859009221666\n",
      "MK 0.03259318264382647\n",
      "DE 0.05616833506631623\n"
     ]
    }
   ],
   "source": [
    "for key in sorted(corr.items(), key=lambda item: item[1])[-10:]:\n",
    "    print(f'{key[0]} {corr[key[0]]}')"
   ]
  },
  {
   "cell_type": "markdown",
   "metadata": {},
   "source": [
    "## Correlazione tra centralità e km percorsi"
   ]
  },
  {
   "cell_type": "markdown",
   "metadata": {},
   "source": [
    "È plausibile che i nodi con più km percorsi siano anche quelli più centrali. Questo in quanto non si tratta dei km percorsi totali (cioè quelli che si registrano usando l'app) ma di quelli pubblicati. Questa differenza è importante in quanto ci stiamo chiedendo se chi pubblica di più è più centrale."
   ]
  },
  {
   "cell_type": "code",
   "execution_count": 287,
   "metadata": {},
   "outputs": [
    {
     "data": {
      "text/plain": [
       "0.18339990721995728"
      ]
     },
     "execution_count": 287,
     "metadata": {},
     "output_type": "execute_result"
    }
   ],
   "source": [
    "degree_centrality = nx.degree_centrality(g)\n",
    "attributi = nx.get_node_attributes(g, \"km\")\n",
    "corr_km = dict()\n",
    "\n",
    "centralita = []  # Lista per memorizzare la centralità dei nodi\n",
    "km = []  # Lista per memorizzare gli attributi \"km\"\n",
    "\n",
    "for nodo in g.nodes():\n",
    "    centralita.append(degree_centrality[nodo])\n",
    "    km.append(attributi[nodo])\n",
    "\n",
    "correlazione, p_value = stats.pearsonr(km, centralita)\n",
    "correlazione"
   ]
  },
  {
   "cell_type": "markdown",
   "metadata": {},
   "source": [
    "## Assortatività"
   ]
  },
  {
   "cell_type": "markdown",
   "metadata": {},
   "source": [
    "Calcoliamo l'assortatività sull'attributo \"country\""
   ]
  },
  {
   "cell_type": "code",
   "execution_count": 289,
   "metadata": {},
   "outputs": [
    {
     "data": {
      "text/plain": [
       "0.39281956301023974"
      ]
     },
     "execution_count": 289,
     "metadata": {},
     "output_type": "execute_result"
    }
   ],
   "source": [
    "nx.attribute_assortativity_coefficient(g,attribute=\"country\")"
   ]
  },
  {
   "cell_type": "markdown",
   "metadata": {},
   "source": [
    "È abbastanza alta! Calcoliamola anche sul numero di KM percorsi"
   ]
  },
  {
   "cell_type": "code",
   "execution_count": 291,
   "metadata": {},
   "outputs": [
    {
     "data": {
      "text/plain": [
       "0.01779364899031746"
      ]
     },
     "execution_count": 291,
     "metadata": {},
     "output_type": "execute_result"
    }
   ],
   "source": [
    "nx.numeric_assortativity_coefficient(g,attribute=\"km\")"
   ]
  },
  {
   "cell_type": "markdown",
   "metadata": {},
   "source": [
    "In questo caso invece non si nota una grande assortatività. Infine calcoliamolo anche sul tipo di sport"
   ]
  },
  {
   "cell_type": "code",
   "execution_count": 292,
   "metadata": {},
   "outputs": [
    {
     "data": {
      "text/plain": [
       "0.19533193151889125"
      ]
     },
     "execution_count": 292,
     "metadata": {},
     "output_type": "execute_result"
    }
   ],
   "source": [
    "nx.attribute_assortativity_coefficient(g,attribute=\"sport\")"
   ]
  },
  {
   "cell_type": "markdown",
   "metadata": {},
   "source": [
    "Non è nulla ma comunque rilevante. Infine calcoliamo la degree assortativity."
   ]
  },
  {
   "cell_type": "code",
   "execution_count": 293,
   "metadata": {},
   "outputs": [
    {
     "data": {
      "text/plain": [
       "-0.09857265054679418"
      ]
     },
     "execution_count": 293,
     "metadata": {},
     "output_type": "execute_result"
    }
   ],
   "source": [
    "nx.degree_assortativity_coefficient(g)"
   ]
  },
  {
   "cell_type": "markdown",
   "metadata": {},
   "source": [
    "# Analisi della rete italiana\n",
    "![](gephi/komoot-italy.png)"
   ]
  },
  {
   "cell_type": "markdown",
   "metadata": {},
   "source": [
    "Vediamo alcune delle misure più interessanti sulla rete italiana"
   ]
  },
  {
   "cell_type": "code",
   "execution_count": 40,
   "metadata": {},
   "outputs": [],
   "source": [
    "g = nx.read_graphml(\"graphs/komoot-network-100000-attributes.graphml\")"
   ]
  },
  {
   "cell_type": "code",
   "execution_count": 41,
   "metadata": {},
   "outputs": [],
   "source": [
    "nodes_it = (node for node, data in g.nodes(data=True) if data.get(\"country\") == \"IT\")\n",
    "g = g.subgraph(nodes_it)"
   ]
  },
  {
   "cell_type": "code",
   "execution_count": 42,
   "metadata": {},
   "outputs": [
    {
     "name": "stdout",
     "output_type": "stream",
     "text": [
      "Numero di nodi: 4286\n",
      "Numero di archi: 35676\n",
      "DiGraph with 4286 nodes and 35676 edges\n"
     ]
    }
   ],
   "source": [
    "print(f\"Numero di nodi: {g.order()}\\nNumero di archi: {g.size()}\")\n",
    "print(g)"
   ]
  },
  {
   "cell_type": "code",
   "execution_count": 13,
   "metadata": {},
   "outputs": [
    {
     "name": "stdout",
     "output_type": "stream",
     "text": [
      "Density: 0.0019425542770116376\n"
     ]
    }
   ],
   "source": [
    "print(f'Density: {nx.density(g)}')"
   ]
  },
  {
   "cell_type": "code",
   "execution_count": 46,
   "metadata": {},
   "outputs": [
    {
     "data": {
      "text/plain": [
       "8"
      ]
     },
     "execution_count": 46,
     "metadata": {},
     "output_type": "execute_result"
    }
   ],
   "source": [
    "gcc_nodes = sorted(nx.connected_components(g.to_undirected()), key=len, reverse=True)\n",
    "gcc = g.subgraph(gcc_nodes[0])\n",
    "nx.diameter(gcc.to_undirected())"
   ]
  },
  {
   "cell_type": "code",
   "execution_count": 14,
   "metadata": {},
   "outputs": [
    {
     "name": "stdout",
     "output_type": "stream",
     "text": [
      "Grado medio: 8.323845076994868\n",
      "Standard deviation: 29.74757115309467\n",
      "Median: 2.0\n",
      "Min: 0\n",
      "Max: 543\n"
     ]
    }
   ],
   "source": [
    "degree_list =list(dict(g.in_degree()).values())\n",
    "print(f'Grado medio: {np.mean(degree_list)}')\n",
    "print(f'Standard deviation: {np.std(degree_list)}')\n",
    "print(f'Median: {np.median(degree_list)}')\n",
    "print(f'Min: {np.min(degree_list)}')\n",
    "print(f'Max: {np.max(degree_list)}')"
   ]
  },
  {
   "cell_type": "code",
   "execution_count": 15,
   "metadata": {},
   "outputs": [
    {
     "data": {
      "text/plain": [
       "[('691888089690', 0.1267),\n",
       " ('gravelclubit', 0.1116),\n",
       " ('742977103995', 0.1099),\n",
       " ('529530185629', 0.106),\n",
       " ('330965983608', 0.0922)]"
      ]
     },
     "execution_count": 15,
     "metadata": {},
     "output_type": "execute_result"
    }
   ],
   "source": [
    "#InDegree Centrality\n",
    "degree=dict(g.in_degree())\n",
    "degree_centrality = {n: round(c/(g.order()-1),4) for n,c in degree.items()}\n",
    "node_d_centr = list(degree_centrality.items())\n",
    "node_d_centr.sort(key = lambda x: x[1], reverse = True)\n",
    "node_d_centr[:5]"
   ]
  },
  {
   "cell_type": "code",
   "execution_count": 16,
   "metadata": {},
   "outputs": [
    {
     "data": {
      "text/plain": [
       "[('691888089690', 0.3405729320717798),\n",
       " ('komoot', 0.32392550699104244),\n",
       " ('742977103995', 0.3178208542078736),\n",
       " ('529530185629', 0.317202445489088),\n",
       " ('330965983608', 0.31548363466331814)]"
      ]
     },
     "execution_count": 16,
     "metadata": {},
     "output_type": "execute_result"
    }
   ],
   "source": [
    "#Closeness centrality\n",
    "closeness_centrality = nx.closeness_centrality(g)\n",
    "node_c_centr = list(closeness_centrality.items())\n",
    "node_c_centr.sort(key = lambda x: x[1], reverse = True)\n",
    "node_c_centr[:5]"
   ]
  },
  {
   "cell_type": "code",
   "execution_count": 17,
   "metadata": {},
   "outputs": [
    {
     "data": {
      "text/plain": [
       "[('2207069696217', 0.10263621497426892),\n",
       " ('774422835486', 0.06197633981852662),\n",
       " ('812293853181', 0.03885506856187293),\n",
       " ('919246440735', 0.038411987216741786),\n",
       " ('1755113940914', 0.03764075090988107)]"
      ]
     },
     "execution_count": 17,
     "metadata": {},
     "output_type": "execute_result"
    }
   ],
   "source": [
    "#Betweeness centrality\n",
    "betweenness_centrality=nx.betweenness_centrality(g)\n",
    "node_b_centr = list(betweenness_centrality.items())\n",
    "node_b_centr.sort(key = lambda x: x[1], reverse = True)\n",
    "node_b_centr[:5]"
   ]
  },
  {
   "cell_type": "code",
   "execution_count": 18,
   "metadata": {},
   "outputs": [
    {
     "data": {
      "text/plain": [
       "[('529530185629', 0.22475894086386106),\n",
       " ('330965983608', 0.21569511876053496),\n",
       " ('995149512812', 0.19305409952602423),\n",
       " ('691888089690', 0.1912784970428975),\n",
       " ('gravelclubit', 0.18368965508254595)]"
      ]
     },
     "execution_count": 18,
     "metadata": {},
     "output_type": "execute_result"
    }
   ],
   "source": [
    "#Eigenvector cenrality\n",
    "eigenvector_centrality = nx.eigenvector_centrality(g,200)\n",
    "node_e_centr = list(eigenvector_centrality.items())\n",
    "node_e_centr.sort(key = lambda x: x[1], reverse = True)\n",
    "node_e_centr[:5]"
   ]
  },
  {
   "cell_type": "code",
   "execution_count": 21,
   "metadata": {},
   "outputs": [
    {
     "data": {
      "image/png": "[encoded data removed]",
      "text/plain": [
       "<Figure size 1000x500 with 2 Axes>"
      ]
     },
     "metadata": {},
     "output_type": "display_data"
    }
   ],
   "source": [
    "import scipy\n",
    "import seaborn as sns\n",
    "\n",
    "all_centr = [degree_centrality, closeness_centrality, betweenness_centrality, eigenvector_centrality]\n",
    "ranks = [[scipy.stats.weightedtau(list(c1.values()), list(c2.values()))[0] for c1 in all_centr] for c2 in all_centr]\n",
    "centralities = ['degree', 'closeness','betweenness','eigenvector']\n",
    "plt.figure(figsize = (10,5))\n",
    "sns.heatmap(pd.DataFrame(ranks),annot = True,cmap = 'coolwarm')\n",
    "plt.xticks([x+0.5 for x in range(4)],centralities, rotation = 0)\n",
    "plt.yticks([x+0.5 for x in range(4)],centralities, rotation = 0)\n",
    "plt.title('Pearson correlation\\n', weight = 'bold')\n",
    "plt.show()"
   ]
  },
  {
   "cell_type": "markdown",
   "metadata": {},
   "source": [
    "## Link prediction"
   ]
  },
  {
   "cell_type": "markdown",
   "metadata": {},
   "source": [
    "Importiamo le due reti. Sono reti ottenute in due istanti temporali diversi, a distanza di circa due settimane una dall'altra."
   ]
  },
  {
   "cell_type": "code",
   "execution_count": 1,
   "metadata": {},
   "outputs": [],
   "source": [
    "# Data preprocessing and trasformation (ETL)\n",
    "from sklearn.experimental import enable_iterative_imputer\n",
    "from sklearn.impute import SimpleImputer, IterativeImputer\n",
    "from sklearn.base import BaseEstimator, TransformerMixin\n",
    "from sklearn.preprocessing import StandardScaler, MinMaxScaler, RobustScaler, MaxAbsScaler, FunctionTransformer, Binarizer, OneHotEncoder, OrdinalEncoder\n",
    "from sklearn.pipeline import Pipeline\n",
    "from sklearn.compose import ColumnTransformer\n",
    "from sklearn.datasets import fetch_openml, load_iris, make_moons, make_classification\n",
    "\n",
    "# Supervised Learning\n",
    "from sklearn.model_selection import train_test_split, cross_val_score, cross_val_predict, KFold, StratifiedKFold, RepeatedKFold, ShuffleSplit, StratifiedShuffleSplit, learning_curve, validation_curve\n",
    "from sklearn.linear_model import Perceptron, LogisticRegression\n",
    "from sklearn.base import BaseEstimator\n",
    "from sklearn.metrics import confusion_matrix, precision_score, recall_score, f1_score, precision_recall_curve, roc_curve, accuracy_score\n",
    "from sklearn.dummy import DummyClassifier\n",
    "from sklearn.multiclass import OneVsOneClassifier, OneVsRestClassifier\n",
    "from sklearn.ensemble import RandomForestClassifier"
   ]
  },
  {
   "cell_type": "code",
   "execution_count": 5,
   "metadata": {},
   "outputs": [
    {
     "data": {
      "text/plain": [
       "(74139, 1113417)"
      ]
     },
     "execution_count": 5,
     "metadata": {},
     "output_type": "execute_result"
    }
   ],
   "source": [
    "past = nx.read_graphml(\"graphs/komoot-network-100000-attributes.graphml\")\n",
    "past.order(), past.size()"
   ]
  },
  {
   "cell_type": "code",
   "execution_count": 6,
   "metadata": {},
   "outputs": [
    {
     "data": {
      "text/plain": [
       "(77724, 1169237)"
      ]
     },
     "execution_count": 6,
     "metadata": {},
     "output_type": "execute_result"
    }
   ],
   "source": [
    "future = nx.read_graphml(\"graphs/komoot-network-100000-future-wo-leafs.graphml\")\n",
    "future.order(), future.size()"
   ]
  },
  {
   "cell_type": "markdown",
   "metadata": {},
   "source": [
    "Ora troviamo tutti quegli edge che sono presenti nella rete più recente ma non in quella passata. Nel fare questo dobbiamo stare attenti a selezionare solo quei link che si sono creati tra coppie di nodi già presenti nella rete passata."
   ]
  },
  {
   "cell_type": "code",
   "execution_count": 9,
   "metadata": {},
   "outputs": [],
   "source": [
    "positive_datapoints = np.array([{u,v} for u,v in future.edges() if not past.has_edge(u, v) and past.has_node(u) and past.has_node(v)])"
   ]
  },
  {
   "cell_type": "code",
   "execution_count": 10,
   "metadata": {},
   "outputs": [],
   "source": [
    "positive_datapoints = [(u,v) for u, v in positive_datapoints]"
   ]
  },
  {
   "cell_type": "code",
   "execution_count": 11,
   "metadata": {},
   "outputs": [
    {
     "data": {
      "text/plain": [
       "9845"
      ]
     },
     "execution_count": 11,
     "metadata": {},
     "output_type": "execute_result"
    }
   ],
   "source": [
    "len(positive_datapoints)"
   ]
  },
  {
   "cell_type": "markdown",
   "metadata": {},
   "source": [
    "Ora selezioniamo un numero uguale di link che invece non si sono formati."
   ]
  },
  {
   "cell_type": "code",
   "execution_count": 12,
   "metadata": {},
   "outputs": [],
   "source": [
    "negative_datapoints = []\n",
    "nodes_set = list(future.nodes())\n",
    "count = 0\n",
    "while count < len(positive_datapoints):\n",
    "    u,v = np.random.choice(nodes_set, replace=False, size = 2)\n",
    "    if (not future.has_edge(u,v)) and past.has_node(u) and past.has_node(v):\n",
    "        negative_datapoints.append((u,v))\n",
    "        count+=1 "
   ]
  },
  {
   "cell_type": "code",
   "execution_count": 13,
   "metadata": {},
   "outputs": [
    {
     "data": {
      "text/plain": [
       "9845"
      ]
     },
     "execution_count": 13,
     "metadata": {},
     "output_type": "execute_result"
    }
   ],
   "source": [
    "len(negative_datapoints)"
   ]
  },
  {
   "cell_type": "markdown",
   "metadata": {},
   "source": [
    "Creiamo il nostro dataset con tutte le feature e le label corrette"
   ]
  },
  {
   "cell_type": "code",
   "execution_count": 14,
   "metadata": {},
   "outputs": [],
   "source": [
    "dataset_link_prediction = pd.DataFrame()"
   ]
  },
  {
   "cell_type": "code",
   "execution_count": 15,
   "metadata": {},
   "outputs": [],
   "source": [
    "datapoints = positive_datapoints + negative_datapoints # insieme degli oggetti di cui necessito calcolare delle proprietà"
   ]
  },
  {
   "cell_type": "code",
   "execution_count": 16,
   "metadata": {},
   "outputs": [
    {
     "data": {
      "text/plain": [
       "[('betty', '385673470997'),\n",
       " ('hohetauern', 'betty'),\n",
       " ('ferienregionnationalparkbayerischerwald', 'betty'),\n",
       " ('1898789994798', '774010743877'),\n",
       " ('774422835486', '774010743877'),\n",
       " ('2609581051379', '774010743877'),\n",
       " ('999599803959', '774010743877'),\n",
       " ('1392086450114', '774010743877'),\n",
       " ('myswitzerland', '774010743877'),\n",
       " ('532193254039', '774010743877')]"
      ]
     },
     "execution_count": 16,
     "metadata": {},
     "output_type": "execute_result"
    }
   ],
   "source": [
    "datapoints[:10]"
   ]
  },
  {
   "cell_type": "code",
   "execution_count": 17,
   "metadata": {},
   "outputs": [],
   "source": [
    "dataset_link_prediction['jaccard'] = [j for _,_,j in nx.jaccard_coefficient(past.to_undirected(), datapoints)]"
   ]
  },
  {
   "cell_type": "code",
   "execution_count": 18,
   "metadata": {},
   "outputs": [],
   "source": [
    "dataset_link_prediction['rai'] = [j for _,_,j in nx.resource_allocation_index(past.to_undirected(), datapoints)]"
   ]
  },
  {
   "cell_type": "code",
   "execution_count": 19,
   "metadata": {},
   "outputs": [],
   "source": [
    "dataset_link_prediction['aai'] = [j for _,_,j in nx.adamic_adar_index(past.to_undirected(), datapoints)]"
   ]
  },
  {
   "cell_type": "code",
   "execution_count": 20,
   "metadata": {},
   "outputs": [],
   "source": [
    "dataset_link_prediction['pref'] = [j for _,_,j in nx.preferential_attachment(past.to_undirected(), datapoints)]"
   ]
  },
  {
   "cell_type": "code",
   "execution_count": 21,
   "metadata": {},
   "outputs": [],
   "source": [
    "dataset_link_prediction['same_country'] = [1 if past.nodes[u][\"country\"] == past.nodes[v][\"country\"] else 0 for u, v in datapoints]"
   ]
  },
  {
   "cell_type": "code",
   "execution_count": 22,
   "metadata": {},
   "outputs": [],
   "source": [
    "dataset_link_prediction['same_sport'] = [1 if past.nodes[u][\"sport\"] == past.nodes[v][\"sport\"] else 0 for u, v in datapoints]"
   ]
  },
  {
   "cell_type": "code",
   "execution_count": 23,
   "metadata": {},
   "outputs": [],
   "source": [
    "dataset_link_prediction['km_diff'] = [abs(past.nodes[u][\"km\"] - past.nodes[v][\"km\"]) for u, v in datapoints]"
   ]
  },
  {
   "cell_type": "code",
   "execution_count": 24,
   "metadata": {},
   "outputs": [
    {
     "data": {
      "text/html": [
       "<div>\n",
       "<style scoped>\n",
       "    .dataframe tbody tr th:only-of-type {\n",
       "        vertical-align: middle;\n",
       "    }\n",
       "\n",
       "    .dataframe tbody tr th {\n",
       "        vertical-align: top;\n",
       "    }\n",
       "\n",
       "    .dataframe thead th {\n",
       "        text-align: right;\n",
       "    }\n",
       "</style>\n",
       "<table border=\"1\" class=\"dataframe\">\n",
       "  <thead>\n",
       "    <tr style=\"text-align: right;\">\n",
       "      <th></th>\n",
       "      <th>jaccard</th>\n",
       "      <th>rai</th>\n",
       "      <th>aai</th>\n",
       "      <th>pref</th>\n",
       "      <th>same_country</th>\n",
       "      <th>same_sport</th>\n",
       "      <th>km_diff</th>\n",
       "    </tr>\n",
       "  </thead>\n",
       "  <tbody>\n",
       "    <tr>\n",
       "      <th>0</th>\n",
       "      <td>0.081478</td>\n",
       "      <td>1.477435</td>\n",
       "      <td>37.086708</td>\n",
       "      <td>1489146</td>\n",
       "      <td>0</td>\n",
       "      <td>0</td>\n",
       "      <td>18084</td>\n",
       "    </tr>\n",
       "    <tr>\n",
       "      <th>1</th>\n",
       "      <td>0.002232</td>\n",
       "      <td>0.004735</td>\n",
       "      <td>0.313497</td>\n",
       "      <td>18417</td>\n",
       "      <td>1</td>\n",
       "      <td>0</td>\n",
       "      <td>18084</td>\n",
       "    </tr>\n",
       "    <tr>\n",
       "      <th>2</th>\n",
       "      <td>0.006601</td>\n",
       "      <td>0.090585</td>\n",
       "      <td>1.345760</td>\n",
       "      <td>33326</td>\n",
       "      <td>0</td>\n",
       "      <td>0</td>\n",
       "      <td>18084</td>\n",
       "    </tr>\n",
       "    <tr>\n",
       "      <th>3</th>\n",
       "      <td>0.005698</td>\n",
       "      <td>0.110235</td>\n",
       "      <td>1.265011</td>\n",
       "      <td>119168</td>\n",
       "      <td>0</td>\n",
       "      <td>0</td>\n",
       "      <td>16392</td>\n",
       "    </tr>\n",
       "    <tr>\n",
       "      <th>4</th>\n",
       "      <td>0.049121</td>\n",
       "      <td>0.288593</td>\n",
       "      <td>13.336372</td>\n",
       "      <td>743869</td>\n",
       "      <td>0</td>\n",
       "      <td>0</td>\n",
       "      <td>4861</td>\n",
       "    </tr>\n",
       "    <tr>\n",
       "      <th>...</th>\n",
       "      <td>...</td>\n",
       "      <td>...</td>\n",
       "      <td>...</td>\n",
       "      <td>...</td>\n",
       "      <td>...</td>\n",
       "      <td>...</td>\n",
       "      <td>...</td>\n",
       "    </tr>\n",
       "    <tr>\n",
       "      <th>19685</th>\n",
       "      <td>0.000000</td>\n",
       "      <td>0.000000</td>\n",
       "      <td>0.000000</td>\n",
       "      <td>810</td>\n",
       "      <td>1</td>\n",
       "      <td>0</td>\n",
       "      <td>7573</td>\n",
       "    </tr>\n",
       "    <tr>\n",
       "      <th>19686</th>\n",
       "      <td>0.000000</td>\n",
       "      <td>0.000000</td>\n",
       "      <td>0.000000</td>\n",
       "      <td>12</td>\n",
       "      <td>0</td>\n",
       "      <td>0</td>\n",
       "      <td>934</td>\n",
       "    </tr>\n",
       "    <tr>\n",
       "      <th>19687</th>\n",
       "      <td>0.000000</td>\n",
       "      <td>0.000000</td>\n",
       "      <td>0.000000</td>\n",
       "      <td>190</td>\n",
       "      <td>0</td>\n",
       "      <td>0</td>\n",
       "      <td>0</td>\n",
       "    </tr>\n",
       "    <tr>\n",
       "      <th>19688</th>\n",
       "      <td>0.001686</td>\n",
       "      <td>0.001058</td>\n",
       "      <td>0.145960</td>\n",
       "      <td>2945</td>\n",
       "      <td>0</td>\n",
       "      <td>0</td>\n",
       "      <td>14285</td>\n",
       "    </tr>\n",
       "    <tr>\n",
       "      <th>19689</th>\n",
       "      <td>0.000000</td>\n",
       "      <td>0.000000</td>\n",
       "      <td>0.000000</td>\n",
       "      <td>1575</td>\n",
       "      <td>0</td>\n",
       "      <td>0</td>\n",
       "      <td>13509</td>\n",
       "    </tr>\n",
       "  </tbody>\n",
       "</table>\n",
       "<p>19690 rows × 7 columns</p>\n",
       "</div>"
      ],
      "text/plain": [
       "        jaccard       rai        aai     pref  same_country  same_sport  \\\n",
       "0      0.081478  1.477435  37.086708  1489146             0           0   \n",
       "1      0.002232  0.004735   0.313497    18417             1           0   \n",
       "2      0.006601  0.090585   1.345760    33326             0           0   \n",
       "3      0.005698  0.110235   1.265011   119168             0           0   \n",
       "4      0.049121  0.288593  13.336372   743869             0           0   \n",
       "...         ...       ...        ...      ...           ...         ...   \n",
       "19685  0.000000  0.000000   0.000000      810             1           0   \n",
       "19686  0.000000  0.000000   0.000000       12             0           0   \n",
       "19687  0.000000  0.000000   0.000000      190             0           0   \n",
       "19688  0.001686  0.001058   0.145960     2945             0           0   \n",
       "19689  0.000000  0.000000   0.000000     1575             0           0   \n",
       "\n",
       "       km_diff  \n",
       "0        18084  \n",
       "1        18084  \n",
       "2        18084  \n",
       "3        16392  \n",
       "4         4861  \n",
       "...        ...  \n",
       "19685     7573  \n",
       "19686      934  \n",
       "19687        0  \n",
       "19688    14285  \n",
       "19689    13509  \n",
       "\n",
       "[19690 rows x 7 columns]"
      ]
     },
     "execution_count": 24,
     "metadata": {},
     "output_type": "execute_result"
    }
   ],
   "source": [
    "dataset_link_prediction"
   ]
  },
  {
   "cell_type": "markdown",
   "metadata": {},
   "source": [
    "Ora aggiungiamo le etichette"
   ]
  },
  {
   "cell_type": "code",
   "execution_count": 25,
   "metadata": {},
   "outputs": [],
   "source": [
    "dataset_link_prediction['label'] = [1 for _ in range(len(positive_datapoints))] + [0 for _ in range(len(negative_datapoints))]"
   ]
  },
  {
   "cell_type": "code",
   "execution_count": 26,
   "metadata": {},
   "outputs": [
    {
     "data": {
      "text/html": [
       "<div>\n",
       "<style scoped>\n",
       "    .dataframe tbody tr th:only-of-type {\n",
       "        vertical-align: middle;\n",
       "    }\n",
       "\n",
       "    .dataframe tbody tr th {\n",
       "        vertical-align: top;\n",
       "    }\n",
       "\n",
       "    .dataframe thead th {\n",
       "        text-align: right;\n",
       "    }\n",
       "</style>\n",
       "<table border=\"1\" class=\"dataframe\">\n",
       "  <thead>\n",
       "    <tr style=\"text-align: right;\">\n",
       "      <th></th>\n",
       "      <th>jaccard</th>\n",
       "      <th>rai</th>\n",
       "      <th>aai</th>\n",
       "      <th>pref</th>\n",
       "      <th>same_country</th>\n",
       "      <th>same_sport</th>\n",
       "      <th>km_diff</th>\n",
       "      <th>label</th>\n",
       "    </tr>\n",
       "  </thead>\n",
       "  <tbody>\n",
       "    <tr>\n",
       "      <th>0</th>\n",
       "      <td>0.081478</td>\n",
       "      <td>1.477435</td>\n",
       "      <td>37.086708</td>\n",
       "      <td>1489146</td>\n",
       "      <td>0</td>\n",
       "      <td>0</td>\n",
       "      <td>18084</td>\n",
       "      <td>1</td>\n",
       "    </tr>\n",
       "    <tr>\n",
       "      <th>1</th>\n",
       "      <td>0.002232</td>\n",
       "      <td>0.004735</td>\n",
       "      <td>0.313497</td>\n",
       "      <td>18417</td>\n",
       "      <td>1</td>\n",
       "      <td>0</td>\n",
       "      <td>18084</td>\n",
       "      <td>1</td>\n",
       "    </tr>\n",
       "    <tr>\n",
       "      <th>2</th>\n",
       "      <td>0.006601</td>\n",
       "      <td>0.090585</td>\n",
       "      <td>1.345760</td>\n",
       "      <td>33326</td>\n",
       "      <td>0</td>\n",
       "      <td>0</td>\n",
       "      <td>18084</td>\n",
       "      <td>1</td>\n",
       "    </tr>\n",
       "    <tr>\n",
       "      <th>3</th>\n",
       "      <td>0.005698</td>\n",
       "      <td>0.110235</td>\n",
       "      <td>1.265011</td>\n",
       "      <td>119168</td>\n",
       "      <td>0</td>\n",
       "      <td>0</td>\n",
       "      <td>16392</td>\n",
       "      <td>1</td>\n",
       "    </tr>\n",
       "    <tr>\n",
       "      <th>4</th>\n",
       "      <td>0.049121</td>\n",
       "      <td>0.288593</td>\n",
       "      <td>13.336372</td>\n",
       "      <td>743869</td>\n",
       "      <td>0</td>\n",
       "      <td>0</td>\n",
       "      <td>4861</td>\n",
       "      <td>1</td>\n",
       "    </tr>\n",
       "    <tr>\n",
       "      <th>...</th>\n",
       "      <td>...</td>\n",
       "      <td>...</td>\n",
       "      <td>...</td>\n",
       "      <td>...</td>\n",
       "      <td>...</td>\n",
       "      <td>...</td>\n",
       "      <td>...</td>\n",
       "      <td>...</td>\n",
       "    </tr>\n",
       "    <tr>\n",
       "      <th>19685</th>\n",
       "      <td>0.000000</td>\n",
       "      <td>0.000000</td>\n",
       "      <td>0.000000</td>\n",
       "      <td>810</td>\n",
       "      <td>1</td>\n",
       "      <td>0</td>\n",
       "      <td>7573</td>\n",
       "      <td>0</td>\n",
       "    </tr>\n",
       "    <tr>\n",
       "      <th>19686</th>\n",
       "      <td>0.000000</td>\n",
       "      <td>0.000000</td>\n",
       "      <td>0.000000</td>\n",
       "      <td>12</td>\n",
       "      <td>0</td>\n",
       "      <td>0</td>\n",
       "      <td>934</td>\n",
       "      <td>0</td>\n",
       "    </tr>\n",
       "    <tr>\n",
       "      <th>19687</th>\n",
       "      <td>0.000000</td>\n",
       "      <td>0.000000</td>\n",
       "      <td>0.000000</td>\n",
       "      <td>190</td>\n",
       "      <td>0</td>\n",
       "      <td>0</td>\n",
       "      <td>0</td>\n",
       "      <td>0</td>\n",
       "    </tr>\n",
       "    <tr>\n",
       "      <th>19688</th>\n",
       "      <td>0.001686</td>\n",
       "      <td>0.001058</td>\n",
       "      <td>0.145960</td>\n",
       "      <td>2945</td>\n",
       "      <td>0</td>\n",
       "      <td>0</td>\n",
       "      <td>14285</td>\n",
       "      <td>0</td>\n",
       "    </tr>\n",
       "    <tr>\n",
       "      <th>19689</th>\n",
       "      <td>0.000000</td>\n",
       "      <td>0.000000</td>\n",
       "      <td>0.000000</td>\n",
       "      <td>1575</td>\n",
       "      <td>0</td>\n",
       "      <td>0</td>\n",
       "      <td>13509</td>\n",
       "      <td>0</td>\n",
       "    </tr>\n",
       "  </tbody>\n",
       "</table>\n",
       "<p>19690 rows × 8 columns</p>\n",
       "</div>"
      ],
      "text/plain": [
       "        jaccard       rai        aai     pref  same_country  same_sport  \\\n",
       "0      0.081478  1.477435  37.086708  1489146             0           0   \n",
       "1      0.002232  0.004735   0.313497    18417             1           0   \n",
       "2      0.006601  0.090585   1.345760    33326             0           0   \n",
       "3      0.005698  0.110235   1.265011   119168             0           0   \n",
       "4      0.049121  0.288593  13.336372   743869             0           0   \n",
       "...         ...       ...        ...      ...           ...         ...   \n",
       "19685  0.000000  0.000000   0.000000      810             1           0   \n",
       "19686  0.000000  0.000000   0.000000       12             0           0   \n",
       "19687  0.000000  0.000000   0.000000      190             0           0   \n",
       "19688  0.001686  0.001058   0.145960     2945             0           0   \n",
       "19689  0.000000  0.000000   0.000000     1575             0           0   \n",
       "\n",
       "       km_diff  label  \n",
       "0        18084      1  \n",
       "1        18084      1  \n",
       "2        18084      1  \n",
       "3        16392      1  \n",
       "4         4861      1  \n",
       "...        ...    ...  \n",
       "19685     7573      0  \n",
       "19686      934      0  \n",
       "19687        0      0  \n",
       "19688    14285      0  \n",
       "19689    13509      0  \n",
       "\n",
       "[19690 rows x 8 columns]"
      ]
     },
     "execution_count": 26,
     "metadata": {},
     "output_type": "execute_result"
    }
   ],
   "source": [
    "dataset_link_prediction"
   ]
  },
  {
   "cell_type": "markdown",
   "metadata": {},
   "source": [
    "Ora che abbiamo il dataset possiamo dividerlo nella feature matrix e nelle label. Inoltre dobbiamo dividerlo nel dataset di training e in quello di test."
   ]
  },
  {
   "cell_type": "code",
   "execution_count": 27,
   "metadata": {},
   "outputs": [],
   "source": [
    "X = dataset_link_prediction[['jaccard','rai','aai','pref','same_country','same_sport','km_diff']] #feature matrix\n",
    "y = dataset_link_prediction['label'] # label"
   ]
  },
  {
   "cell_type": "code",
   "execution_count": 28,
   "metadata": {},
   "outputs": [
    {
     "data": {
      "text/plain": [
       "((19690, 7), (19690,))"
      ]
     },
     "execution_count": 28,
     "metadata": {},
     "output_type": "execute_result"
    }
   ],
   "source": [
    "X.shape, y.shape"
   ]
  },
  {
   "cell_type": "code",
   "execution_count": 29,
   "metadata": {},
   "outputs": [],
   "source": [
    "X_train, X_test, y_train, y_test = train_test_split(X, y, test_size=0.3, shuffle=True, random_state=42)"
   ]
  },
  {
   "cell_type": "code",
   "execution_count": 30,
   "metadata": {},
   "outputs": [
    {
     "data": {
      "text/plain": [
       "(13783, 7)"
      ]
     },
     "execution_count": 30,
     "metadata": {},
     "output_type": "execute_result"
    }
   ],
   "source": [
    "X_train.shape"
   ]
  },
  {
   "cell_type": "markdown",
   "metadata": {},
   "source": [
    "Alcuni algoritmi di apprendimento non gestiscono correttamente feature che hanno range di variazione differenti tra loro. Per questo motivo e' sempre consigliato eseguire uno scaling, in modo da riportare tutte le feature in un range di variazione ridotto. Solitamente i range più utilizzati sono [0,1] oppure centrati attorno allo zero mediante standardizzazione.\n",
    "\n",
    "In questo caso riportiamo tutte le feature nel range [0,1] mediante min-max scaling."
   ]
  },
  {
   "cell_type": "code",
   "execution_count": 31,
   "metadata": {},
   "outputs": [],
   "source": [
    "ct = ColumnTransformer([\n",
    "    ('minmax',MinMaxScaler(),['jaccard','rai','aai','pref', 'km_diff'])\n",
    "]\n",
    ")"
   ]
  },
  {
   "cell_type": "markdown",
   "metadata": {},
   "source": [
    "Possiamo ora applicare un algoritmo di apprendimento classico per problemi di classificazione binaria: Logistic Regression. L'algoritmo viene implementato in SKL dalla classe LogisticRegression del modulo linear_model.\n",
    "\n",
    "In SKL tutti i classificatori fanno parte della famiglia dei Predictor, ossia oggetti che implementano i metodi fit e predict. Mediante il primo metodo, il predictor impara la funzione - nel caso di log reg vengono aggiornati i pesi - mentre il secondo metodo assegna le etichette a nuovi oggetti, secondo la funzione imparata durante la fase di fit."
   ]
  },
  {
   "cell_type": "code",
   "execution_count": 95,
   "metadata": {},
   "outputs": [],
   "source": [
    "link_predictor = Pipeline([\n",
    "    ('preprocessing',ct),\n",
    "    ('classifier',LogisticRegression(penalty=None))\n",
    "]\n",
    ")"
   ]
  },
  {
   "cell_type": "code",
   "execution_count": 96,
   "metadata": {},
   "outputs": [
    {
     "data": {
      "text/html": [
       "<style>#sk-container-id-2 {color: black;background-color: white;}#sk-container-id-2 pre{padding: 0;}#sk-container-id-2 div.sk-toggleable {background-color: white;}#sk-container-id-2 label.sk-toggleable__label {cursor: pointer;display: block;width: 100%;margin-bottom: 0;padding: 0.3em;box-sizing: border-box;text-align: center;}#sk-container-id-2 label.sk-toggleable__label-arrow:before {content: \"▸\";float: left;margin-right: 0.25em;color: #696969;}#sk-container-id-2 label.sk-toggleable__label-arrow:hover:before {color: black;}#sk-container-id-2 div.sk-estimator:hover label.sk-toggleable__label-arrow:before {color: black;}#sk-container-id-2 div.sk-toggleable__content {max-height: 0;max-width: 0;overflow: hidden;text-align: left;background-color: #f0f8ff;}#sk-container-id-2 div.sk-toggleable__content pre {margin: 0.2em;color: black;border-radius: 0.25em;background-color: #f0f8ff;}#sk-container-id-2 input.sk-toggleable__control:checked~div.sk-toggleable__content {max-height: 200px;max-width: 100%;overflow: auto;}#sk-container-id-2 input.sk-toggleable__control:checked~label.sk-toggleable__label-arrow:before {content: \"▾\";}#sk-container-id-2 div.sk-estimator input.sk-toggleable__control:checked~label.sk-toggleable__label {background-color: #d4ebff;}#sk-container-id-2 div.sk-label input.sk-toggleable__control:checked~label.sk-toggleable__label {background-color: #d4ebff;}#sk-container-id-2 input.sk-hidden--visually {border: 0;clip: rect(1px 1px 1px 1px);clip: rect(1px, 1px, 1px, 1px);height: 1px;margin: -1px;overflow: hidden;padding: 0;position: absolute;width: 1px;}#sk-container-id-2 div.sk-estimator {font-family: monospace;background-color: #f0f8ff;border: 1px dotted black;border-radius: 0.25em;box-sizing: border-box;margin-bottom: 0.5em;}#sk-container-id-2 div.sk-estimator:hover {background-color: #d4ebff;}#sk-container-id-2 div.sk-parallel-item::after {content: \"\";width: 100%;border-bottom: 1px solid gray;flex-grow: 1;}#sk-container-id-2 div.sk-label:hover label.sk-toggleable__label {background-color: #d4ebff;}#sk-container-id-2 div.sk-serial::before {content: \"\";position: absolute;border-left: 1px solid gray;box-sizing: border-box;top: 0;bottom: 0;left: 50%;z-index: 0;}#sk-container-id-2 div.sk-serial {display: flex;flex-direction: column;align-items: center;background-color: white;padding-right: 0.2em;padding-left: 0.2em;position: relative;}#sk-container-id-2 div.sk-item {position: relative;z-index: 1;}#sk-container-id-2 div.sk-parallel {display: flex;align-items: stretch;justify-content: center;background-color: white;position: relative;}#sk-container-id-2 div.sk-item::before, #sk-container-id-2 div.sk-parallel-item::before {content: \"\";position: absolute;border-left: 1px solid gray;box-sizing: border-box;top: 0;bottom: 0;left: 50%;z-index: -1;}#sk-container-id-2 div.sk-parallel-item {display: flex;flex-direction: column;z-index: 1;position: relative;background-color: white;}#sk-container-id-2 div.sk-parallel-item:first-child::after {align-self: flex-end;width: 50%;}#sk-container-id-2 div.sk-parallel-item:last-child::after {align-self: flex-start;width: 50%;}#sk-container-id-2 div.sk-parallel-item:only-child::after {width: 0;}#sk-container-id-2 div.sk-dashed-wrapped {border: 1px dashed gray;margin: 0 0.4em 0.5em 0.4em;box-sizing: border-box;padding-bottom: 0.4em;background-color: white;}#sk-container-id-2 div.sk-label label {font-family: monospace;font-weight: bold;display: inline-block;line-height: 1.2em;}#sk-container-id-2 div.sk-label-container {text-align: center;}#sk-container-id-2 div.sk-container {/* jupyter's `normalize.less` sets `[hidden] { display: none; }` but bootstrap.min.css set `[hidden] { display: none !important; }` so we also need the `!important` here to be able to override the default hidden behavior on the sphinx rendered scikit-learn.org. See: https://github.com/scikit-learn/scikit-learn/issues/21755 */display: inline-block !important;position: relative;}#sk-container-id-2 div.sk-text-repr-fallback {display: none;}</style><div id=\"sk-container-id-2\" class=\"sk-top-container\"><div class=\"sk-text-repr-fallback\"><pre>Pipeline(steps=[(&#x27;preprocessing&#x27;,\n",
       "                 ColumnTransformer(transformers=[(&#x27;minmax&#x27;, MinMaxScaler(),\n",
       "                                                  [&#x27;jaccard&#x27;, &#x27;rai&#x27;, &#x27;aai&#x27;,\n",
       "                                                   &#x27;pref&#x27;, &#x27;km_diff&#x27;])])),\n",
       "                (&#x27;classifier&#x27;, LogisticRegression(penalty=None))])</pre><b>In a Jupyter environment, please rerun this cell to show the HTML representation or trust the notebook. <br />On GitHub, the HTML representation is unable to render, please try loading this page with nbviewer.org.</b></div><div class=\"sk-container\" hidden><div class=\"sk-item sk-dashed-wrapped\"><div class=\"sk-label-container\"><div class=\"sk-label sk-toggleable\"><input class=\"sk-toggleable__control sk-hidden--visually\" id=\"sk-estimator-id-6\" type=\"checkbox\" ><label for=\"sk-estimator-id-6\" class=\"sk-toggleable__label sk-toggleable__label-arrow\">Pipeline</label><div class=\"sk-toggleable__content\"><pre>Pipeline(steps=[(&#x27;preprocessing&#x27;,\n",
       "                 ColumnTransformer(transformers=[(&#x27;minmax&#x27;, MinMaxScaler(),\n",
       "                                                  [&#x27;jaccard&#x27;, &#x27;rai&#x27;, &#x27;aai&#x27;,\n",
       "                                                   &#x27;pref&#x27;, &#x27;km_diff&#x27;])])),\n",
       "                (&#x27;classifier&#x27;, LogisticRegression(penalty=None))])</pre></div></div></div><div class=\"sk-serial\"><div class=\"sk-item sk-dashed-wrapped\"><div class=\"sk-label-container\"><div class=\"sk-label sk-toggleable\"><input class=\"sk-toggleable__control sk-hidden--visually\" id=\"sk-estimator-id-7\" type=\"checkbox\" ><label for=\"sk-estimator-id-7\" class=\"sk-toggleable__label sk-toggleable__label-arrow\">preprocessing: ColumnTransformer</label><div class=\"sk-toggleable__content\"><pre>ColumnTransformer(transformers=[(&#x27;minmax&#x27;, MinMaxScaler(),\n",
       "                                 [&#x27;jaccard&#x27;, &#x27;rai&#x27;, &#x27;aai&#x27;, &#x27;pref&#x27;, &#x27;km_diff&#x27;])])</pre></div></div></div><div class=\"sk-parallel\"><div class=\"sk-parallel-item\"><div class=\"sk-item\"><div class=\"sk-label-container\"><div class=\"sk-label sk-toggleable\"><input class=\"sk-toggleable__control sk-hidden--visually\" id=\"sk-estimator-id-8\" type=\"checkbox\" ><label for=\"sk-estimator-id-8\" class=\"sk-toggleable__label sk-toggleable__label-arrow\">minmax</label><div class=\"sk-toggleable__content\"><pre>[&#x27;jaccard&#x27;, &#x27;rai&#x27;, &#x27;aai&#x27;, &#x27;pref&#x27;, &#x27;km_diff&#x27;]</pre></div></div></div><div class=\"sk-serial\"><div class=\"sk-item\"><div class=\"sk-estimator sk-toggleable\"><input class=\"sk-toggleable__control sk-hidden--visually\" id=\"sk-estimator-id-9\" type=\"checkbox\" ><label for=\"sk-estimator-id-9\" class=\"sk-toggleable__label sk-toggleable__label-arrow\">MinMaxScaler</label><div class=\"sk-toggleable__content\"><pre>MinMaxScaler()</pre></div></div></div></div></div></div></div></div><div class=\"sk-item\"><div class=\"sk-estimator sk-toggleable\"><input class=\"sk-toggleable__control sk-hidden--visually\" id=\"sk-estimator-id-10\" type=\"checkbox\" ><label for=\"sk-estimator-id-10\" class=\"sk-toggleable__label sk-toggleable__label-arrow\">LogisticRegression</label><div class=\"sk-toggleable__content\"><pre>LogisticRegression(penalty=None)</pre></div></div></div></div></div></div></div>"
      ],
      "text/plain": [
       "Pipeline(steps=[('preprocessing',\n",
       "                 ColumnTransformer(transformers=[('minmax', MinMaxScaler(),\n",
       "                                                  ['jaccard', 'rai', 'aai',\n",
       "                                                   'pref', 'km_diff'])])),\n",
       "                ('classifier', LogisticRegression(penalty=None))])"
      ]
     },
     "execution_count": 96,
     "metadata": {},
     "output_type": "execute_result"
    }
   ],
   "source": [
    "link_predictor.fit(X_train, y_train)"
   ]
  },
  {
   "cell_type": "code",
   "execution_count": 97,
   "metadata": {},
   "outputs": [],
   "source": [
    "y_predicted = link_predictor.predict(X_test)"
   ]
  },
  {
   "cell_type": "markdown",
   "metadata": {},
   "source": [
    "Ora stampiamo un paio di statistiche"
   ]
  },
  {
   "cell_type": "code",
   "execution_count": 98,
   "metadata": {},
   "outputs": [
    {
     "data": {
      "text/plain": [
       "0.8894531911291688"
      ]
     },
     "execution_count": 98,
     "metadata": {},
     "output_type": "execute_result"
    }
   ],
   "source": [
    "accuracy_score(y_test, y_predicted)"
   ]
  },
  {
   "cell_type": "code",
   "execution_count": 99,
   "metadata": {},
   "outputs": [
    {
     "data": {
      "text/plain": [
       "(0.8805997440117024, 0.8094117647058824, 0.9655172413793104)"
      ]
     },
     "execution_count": 99,
     "metadata": {},
     "output_type": "execute_result"
    }
   ],
   "source": [
    "f1_score(y_test, y_predicted), recall_score(y_test, y_predicted), precision_score(y_test, y_predicted)"
   ]
  },
  {
   "cell_type": "markdown",
   "metadata": {},
   "source": [
    "Ma soprattutto la confusion matrix!"
   ]
  },
  {
   "cell_type": "code",
   "execution_count": 101,
   "metadata": {},
   "outputs": [
    {
     "data": {
      "image/png": "[encoded data removed]",
      "text/plain": [
       "<Figure size 750x750 with 1 Axes>"
      ]
     },
     "metadata": {},
     "output_type": "display_data"
    }
   ],
   "source": [
    "conf_matrix = confusion_matrix(y_predicted, y_test)\n",
    "fig, ax = plt.subplots(figsize=(7.5, 7.5))\n",
    "ax.matshow(conf_matrix, cmap=plt.cm.Blues, alpha=0.3)\n",
    "for i in range(conf_matrix.shape[0]):\n",
    "    for j in range(conf_matrix.shape[1]):\n",
    "        ax.text(x=j, y=i,s=conf_matrix[i, j], va='center', ha='center', size='xx-large')\n",
    " \n",
    "plt.xlabel('Predictions', fontsize=18)\n",
    "plt.ylabel('Actuals', fontsize=18)\n",
    "plt.title('Confusion Matrix', fontsize=18)\n",
    "plt.show()"
   ]
  },
  {
   "cell_type": "markdown",
   "metadata": {},
   "source": [
    "Ora ci riproviamo usando Random Forest"
   ]
  },
  {
   "cell_type": "code",
   "execution_count": 102,
   "metadata": {},
   "outputs": [],
   "source": [
    "link_predictor_rf = Pipeline([\n",
    "    ('preprocessing',ct),\n",
    "    ('classifier',RandomForestClassifier(n_estimators=100, \n",
    "        max_features=3, max_leaf_nodes=8, n_jobs=-1)\n",
    "    )\n",
    "]\n",
    ")"
   ]
  },
  {
   "cell_type": "code",
   "execution_count": 103,
   "metadata": {},
   "outputs": [
    {
     "data": {
      "text/plain": [
       "Pipeline(steps=[('preprocessing',\n",
       "                 ColumnTransformer(transformers=[('minmax', MinMaxScaler(),\n",
       "                                                  ['jaccard', 'rai', 'aai',\n",
       "                                                   'pref', 'km_diff'])])),\n",
       "                ('classifier',\n",
       "                 RandomForestClassifier(max_features=3, max_leaf_nodes=8,\n",
       "                                        n_jobs=-1))])"
      ]
     },
     "execution_count": 103,
     "metadata": {},
     "output_type": "execute_result"
    }
   ],
   "source": [
    "link_predictor_rf.fit(X_train, y_train)"
   ]
  },
  {
   "cell_type": "code",
   "execution_count": 104,
   "metadata": {},
   "outputs": [
    {
     "data": {
      "text/plain": [
       "[('rai', 0.46322492872327536),\n",
       " ('aai', 0.346229505099158),\n",
       " ('pref', 0.18257531187570133),\n",
       " ('jaccard', 0.005158637039920642),\n",
       " ('same_country', 0.0028116172619444967)]"
      ]
     },
     "execution_count": 104,
     "metadata": {},
     "output_type": "execute_result"
    }
   ],
   "source": [
    "named_feat_importance = dict(zip(['jaccard','rai','aai','pref', 'same_country', 'same_sport', 'km_diff'], link_predictor_rf['classifier'].feature_importances_))\n",
    "sorted(named_feat_importance.items(), key=lambda x:x[1], reverse=True)"
   ]
  },
  {
   "cell_type": "code",
   "execution_count": 105,
   "metadata": {},
   "outputs": [],
   "source": [
    "y_predicted = link_predictor_rf.predict(X_test)"
   ]
  },
  {
   "cell_type": "markdown",
   "metadata": {},
   "source": [
    "Stampiamo un paio di statistiche anche in questo caso"
   ]
  },
  {
   "cell_type": "code",
   "execution_count": 106,
   "metadata": {},
   "outputs": [
    {
     "data": {
      "text/plain": [
       "0.925681394955138"
      ]
     },
     "execution_count": 106,
     "metadata": {},
     "output_type": "execute_result"
    }
   ],
   "source": [
    "accuracy_score(y_test, y_predicted)"
   ]
  },
  {
   "cell_type": "code",
   "execution_count": 107,
   "metadata": {},
   "outputs": [
    {
     "data": {
      "text/plain": [
       "(0.926354638483476, 0.9280672268907563, 0.9246483590087073)"
      ]
     },
     "execution_count": 107,
     "metadata": {},
     "output_type": "execute_result"
    }
   ],
   "source": [
    "f1_score(y_test, y_predicted), recall_score(y_test, y_predicted), precision_score(y_test, y_predicted)"
   ]
  },
  {
   "cell_type": "code",
   "execution_count": 108,
   "metadata": {
    "scrolled": false
   },
   "outputs": [
    {
     "data": {
      "image/png": "[encoded data removed]",
      "text/plain": [
       "<Figure size 540x540 with 1 Axes>"
      ]
     },
     "metadata": {
      "needs_background": "light"
     },
     "output_type": "display_data"
    }
   ],
   "source": [
    "conf_matrix = confusion_matrix(y_predicted, y_test)\n",
    "fig, ax = plt.subplots(figsize=(7.5, 7.5))\n",
    "ax.matshow(conf_matrix, cmap=plt.cm.Blues, alpha=0.3)\n",
    "for i in range(conf_matrix.shape[0]):\n",
    "    for j in range(conf_matrix.shape[1]):\n",
    "        ax.text(x=j, y=i,s=conf_matrix[i, j], va='center', ha='center', size='xx-large')\n",
    " \n",
    "plt.xlabel('Predictions', fontsize=18)\n",
    "plt.ylabel('Actuals', fontsize=18)\n",
    "plt.title('Confusion Matrix', fontsize=18)\n",
    "plt.show()"
   ]
  },
  {
   "cell_type": "code",
   "execution_count": 109,
   "metadata": {},
   "outputs": [
    {
     "data": {
      "image/png": "[encoded data removed]",
      "text/plain": [
       "<Figure size 1080x720 with 1 Axes>"
      ]
     },
     "metadata": {
      "needs_background": "light"
     },
     "output_type": "display_data"
    }
   ],
   "source": [
    "from sklearn.tree import plot_tree\n",
    "\n",
    "fig = plt.figure(figsize=(15, 10))\n",
    "plot_tree(link_predictor_rf[1].estimators_[0], \n",
    "          feature_names=['jaccard','rai','aai','pref', 'same_country', 'same_sport', 'km_diff'],\n",
    "          class_names=[\"negative\", \"positive\"], \n",
    "          filled=True, impurity=True, \n",
    "          rounded=True)\n",
    "plt.show()"
   ]
  },
  {
   "cell_type": "markdown",
   "metadata": {},
   "source": [
    "FINE!"
   ]
  }
 ],
 "metadata": {
  "kernelspec": {
   "display_name": "Python 3 (ipykernel)",
   "language": "python",
   "name": "python3"
  },
  "language_info": {
   "codemirror_mode": {
    "name": "ipython",
    "version": 3
   },
   "file_extension": ".py",
   "mimetype": "text/x-python",
   "name": "python",
   "nbconvert_exporter": "python",
   "pygments_lexer": "ipython3",
   "version": "3.8.10"
  }
 },
 "nbformat": 4,
 "nbformat_minor": 2
}
